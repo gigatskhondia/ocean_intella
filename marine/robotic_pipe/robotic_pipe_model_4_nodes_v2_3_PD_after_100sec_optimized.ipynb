{
 "cells": [
  {
   "cell_type": "markdown",
   "metadata": {},
   "source": [
    "#### Model taken from:\n",
    "- Offshore Pipelaying Dynamics. Gullik Anthon Jensen \n",
    "- Modelling and Control of Offshore Marine Pipeline during Pipelay. Gullik A. Jensen et al"
   ]
  },
  {
   "cell_type": "markdown",
   "metadata": {},
   "source": [
    "M(q)q ̈ + C(q,q ̇)q ̇ + H(q,q ̇)q ̇ + f(q) + g(q) = τ"
   ]
  },
  {
   "cell_type": "code",
   "execution_count": 1,
   "metadata": {},
   "outputs": [],
   "source": [
    "# DONE - make sure all parameters (vessel and pipe) are in the same reference frame, e.g p.78, p.142\n",
    "# DONE - do I have seabed interaction force in the model?\n",
    "# DONE - applied top tension in dynamic case might have been time varying, Jensen thesis p.76-77\n",
    "# DONE - do I have stinger accounted in the model? do I need stinger in the model?, see 3338.pdf\n",
    "# DONE - degree - radians\n",
    "# DONE - verify results against the catenary\n",
    "# DONE - add more nodes\n",
    "\n",
    "# TODO - roller reaction (force) should be proportional to pipe vertical displacement at rollers?\n",
    "\n",
    "# TODO - is tau_t correct? should not it have visa versa distribution? \n",
    "# TODO - should not FEM model be used to estimate the force along the pipe ?\n",
    "\n",
    "# TODO - why is modeling so slow? how to speed up calculation? did correctly add mass of the vessel to pipe? \n",
    "\n",
    "# TAKEAWAY - use catenary for initial input"
   ]
  },
  {
   "cell_type": "code",
   "execution_count": 2,
   "metadata": {},
   "outputs": [],
   "source": [
    "import numpy as np\n",
    "import math\n",
    "from scipy.integrate import odeint, ode, solve_ivp\n",
    "from scipy.integrate import ode\n",
    "from scipy.misc import derivative\n",
    "from numpy.linalg import inv, pinv\n",
    "import numdifftools as nd\n",
    "import tqdm\n",
    "import functools\n",
    "from datetime import datetime\n",
    "from scipy.optimize import fsolve"
   ]
  },
  {
   "cell_type": "code",
   "execution_count": 3,
   "metadata": {},
   "outputs": [],
   "source": [
    "%matplotlib inline"
   ]
  },
  {
   "cell_type": "code",
   "execution_count": 4,
   "metadata": {},
   "outputs": [],
   "source": [
    "import matplotlib.pyplot as plt"
   ]
  },
  {
   "cell_type": "markdown",
   "metadata": {},
   "source": [
    "### Inputs"
   ]
  },
  {
   "cell_type": "code",
   "execution_count": 5,
   "metadata": {},
   "outputs": [],
   "source": [
    "pipe_joint_length = 2763 #250 #600 #100 # [m]\n",
    "pipe_weight_per_unit_length = 96 #  (submerged) [kg/m]  # 113.07 - not submerged\n",
    "\n",
    "q = [0.9939840275055615, 1.986772044151028, 1.9831911966919273, 1.9772469629333669] # used for initial checks only but not in final solution \n",
    "l = [pipe_joint_length for i in range(len(q))]\n",
    "\n",
    "# mn = 5.08976 * 10e7 # mass of the vessel, [kg]\n",
    "# In = 5.041*10e7 # moment of inertia of the vessel, [kg*𝑚2]\n",
    "# mn = 80048 # mass of the vessel, [kg]\n",
    "# In = 50410 # moment of inertia of the vessel, [kg*𝑚2]\n",
    "\n",
    "mn = 32219000 # mass of the vessel, [kg]\n",
    "# mn = 5.08976 *1e7 # mass of the vessel, [kg]"
   ]
  },
  {
   "cell_type": "code",
   "execution_count": 6,
   "metadata": {},
   "outputs": [],
   "source": [
    "# L - the hull length\n",
    "# Xg - x-center of gravity\n",
    "\n",
    "L = 169 # [m]\n",
    "Xg = 78 # [m]\n",
    "# L = 240 # [m]\n",
    "# Xg = 120 # [m]"
   ]
  },
  {
   "cell_type": "code",
   "execution_count": 7,
   "metadata": {},
   "outputs": [],
   "source": [
    "# Fossen book p.181\n",
    "def vessel_inertia_moment(mn, Xg, L):\n",
    "    r = 0.25*L\n",
    "    Ir = mn*r**2\n",
    "    Iz=mn*Xg**2 + Ir\n",
    "    return Iz"
   ]
  },
  {
   "cell_type": "code",
   "execution_count": 8,
   "metadata": {},
   "outputs": [],
   "source": [
    "In = vessel_inertia_moment(mn,Xg,L)"
   ]
  },
  {
   "cell_type": "code",
   "execution_count": 9,
   "metadata": {},
   "outputs": [
    {
     "data": {
      "text/plain": [
       "253533324687.5"
      ]
     },
     "execution_count": 9,
     "metadata": {},
     "output_type": "execute_result"
    }
   ],
   "source": [
    "In"
   ]
  },
  {
   "cell_type": "code",
   "execution_count": 10,
   "metadata": {},
   "outputs": [],
   "source": [
    "mi = [x*pipe_weight_per_unit_length for x in l] # mass of pipe element (submerged), [kg]"
   ]
  },
  {
   "cell_type": "code",
   "execution_count": 11,
   "metadata": {},
   "outputs": [],
   "source": [
    "# for hydrodynamic damping matrix\n",
    "Cd=[0.87, 0.87, 0.87, 1.6] # Drag coefficient\n",
    "# Cd=0.82 # Drag coefficient\n",
    "\n",
    "qw = 1025 # Water density [kg/m3]\n",
    "d0 = 0.7610 # Outer diameter of pipe, [m]\n",
    "dI= 0.69# Inner diameter of pipe, [m]"
   ]
  },
  {
   "cell_type": "code",
   "execution_count": 12,
   "metadata": {},
   "outputs": [],
   "source": [
    "# for vector of spring forces in the pipe joints\n",
    "# K = 1.4*10e11\n",
    "E = 210e9 # modulus of elasticity of steel, [N/m^2]\n",
    "EI = E*3.14/64*(d0**4-dI**4) # Bending stiffness [N*m^2]\n",
    "\n",
    "K = EI#10e7 # depends on the unit bending stiffness of the pipe (EI), \n",
    "       # and the length li, of the link; from the Jensen thesis [N/m]"
   ]
  },
  {
   "cell_type": "code",
   "execution_count": 13,
   "metadata": {},
   "outputs": [
    {
     "data": {
      "text/plain": [
       "1120051921.710554"
      ]
     },
     "execution_count": 13,
     "metadata": {},
     "output_type": "execute_result"
    }
   ],
   "source": [
    "K"
   ]
  },
  {
   "cell_type": "code",
   "execution_count": 14,
   "metadata": {},
   "outputs": [],
   "source": [
    "# for vector of control inputs\n",
    "tau_qn = 250576 # tension in pipe at water level, [N] (check Jee sheets)\n",
    "Fx_ = 1.4e+08 #7.5e7 # 5e7 # [N], from the Jensen thesis\n",
    "# Fy=-100*1000 # [N],"
   ]
  },
  {
   "cell_type": "code",
   "execution_count": 15,
   "metadata": {},
   "outputs": [],
   "source": [
    "# for solution\n",
    "max_t = 600  \n",
    "dt = 0.5\n",
    "t=np.arange(0,max_t,dt)\n",
    "# q0=[45, 0, 20, 0, 15, 0, 5, 0]"
   ]
  },
  {
   "cell_type": "code",
   "execution_count": 16,
   "metadata": {},
   "outputs": [],
   "source": [
    "Awp = 1000 # the waterplane area of the vessel, [m^2]\n",
    "# h=26.3 # water depth, [m]\n",
    "h=700\n",
    "\n",
    "# fip=1e10\n",
    "fip=1e12"
   ]
  },
  {
   "cell_type": "code",
   "execution_count": 17,
   "metadata": {},
   "outputs": [],
   "source": [
    "kp=1.95e4\n",
    "# T = 200 # Measure the period of oscillation, from experiments\n",
    "# kd=0.075*kp*T \n",
    "kd=1.5e4\n",
    "# kd=0.5e8 # change "
   ]
  },
  {
   "cell_type": "markdown",
   "metadata": {},
   "source": [
    "### System inertia matrix "
   ]
  },
  {
   "cell_type": "code",
   "execution_count": 18,
   "metadata": {},
   "outputs": [],
   "source": [
    "def alpha(q):\n",
    "    sum_=0\n",
    "    ans=[]\n",
    "    for i in range(len(q)):\n",
    "        sum_+=q[i]\n",
    "        ans.append(sum_)\n",
    "    return np.array(ans)"
   ]
  },
  {
   "cell_type": "code",
   "execution_count": 19,
   "metadata": {},
   "outputs": [],
   "source": [
    "def Jv(q, i, l):\n",
    "    alp=alpha(q)\n",
    "    def Jv0(i, k, alp, l):\n",
    "        \n",
    "        if k<i:\n",
    "            tmp1=np.dot(np.array(l[k:i]),np.sin(np.radians(alp[k:i])))\n",
    "            tmp1=-tmp1-0.5*l[i]*np.sin(np.radians(alp[i]))\n",
    "            \n",
    "            tmp2 =np.dot(np.array(l[k:i]),np.cos(np.radians(alp[k:i])))\n",
    "            tmp2=tmp2+0.5*l[i]*np.cos(np.radians(alp[i]))\n",
    "                        \n",
    "            return np.array([tmp1, tmp2]).T\n",
    "        elif k==i:\n",
    "            return np.array([-0.5*l[i]*np.sin(np.radians(alp[i])),\n",
    "                    0.5*l[i]*np.cos(np.radians(alp[i]))]).T\n",
    "        else:\n",
    "            return np.array([0, 0]).T                 \n",
    "    \n",
    "    ans=np.array([Jv0(i, k, alp, l) for k in range(len(q))])\n",
    "    \n",
    "    return ans.T"
   ]
  },
  {
   "cell_type": "code",
   "execution_count": 20,
   "metadata": {},
   "outputs": [
    {
     "data": {
      "text/plain": [
       "array([[-311.14808342, -263.21715145, -119.53964925,    0.        ],\n",
       "       [6898.16451361, 4135.58028398, 1376.31846687,    0.        ]])"
      ]
     },
     "execution_count": 20,
     "metadata": {},
     "output_type": "execute_result"
    }
   ],
   "source": [
    "Jv(q, 2, l)"
   ]
  },
  {
   "cell_type": "code",
   "execution_count": 21,
   "metadata": {},
   "outputs": [],
   "source": [
    "def Jomega(i,q):\n",
    "\n",
    "    def Jomega0(i,k):\n",
    "        if k<=i:\n",
    "            return 1\n",
    "        return 0\n",
    "    ans=np.array([Jomega0(i, k) for k in range(len(q))])\n",
    "   \n",
    "    return ans.reshape(len(q),1).T"
   ]
  },
  {
   "cell_type": "code",
   "execution_count": 22,
   "metadata": {},
   "outputs": [],
   "source": [
    "def M(q, l, mn, In, mi):\n",
    "  \n",
    "    \n",
    "    sum1 = mn * np.dot(Jv( q, len(q)-1, l).T, Jv(q, len(q)-1, l))\n",
    "    \n",
    " \n",
    "    sum2 = In * np.dot(Jomega(len(q)-1,q).T, Jomega(len(q)-1,q))\n",
    "    \n",
    "    sum3=0\n",
    "    \n",
    "    for i in range(len(q)-1):\n",
    "        J_v = Jv(q, i, l)\n",
    "        sum3+=mi[i]*np.dot(J_v.T, J_v)\n",
    "      \n",
    "    return sum1 + sum2 + sum3   "
   ]
  },
  {
   "cell_type": "code",
   "execution_count": 23,
   "metadata": {},
   "outputs": [
    {
     "data": {
      "text/plain": [
       "array([[3.02720849e+15, 2.15912818e+15, 1.29225988e+15, 4.29663965e+14],\n",
       "       [2.15912818e+15, 1.54156929e+15, 9.23554020e+14, 3.07343239e+14],\n",
       "       [1.29225988e+15, 9.23554020e+14, 5.54035229e+14, 1.84654279e+14],\n",
       "       [4.29663965e+14, 3.07343239e+14, 1.84654279e+14, 6.17448561e+13]])"
      ]
     },
     "execution_count": 23,
     "metadata": {},
     "output_type": "execute_result"
    }
   ],
   "source": [
    "M(q, l, mn, In, mi)"
   ]
  },
  {
   "cell_type": "markdown",
   "metadata": {},
   "source": [
    "### Coriolis-centripetal matrix"
   ]
  },
  {
   "cell_type": "code",
   "execution_count": 24,
   "metadata": {},
   "outputs": [],
   "source": [
    "# TODO - not sure about this formula \n",
    "def C(q, dq, l, mn, In, mi): #here\n",
    "    ans = np.zeros((len(q),len(q)))              \n",
    "    fun = lambda q: M(q, l, mn, In, mi)\n",
    "    Dfun = nd.Gradient(fun) \n",
    "    \n",
    "    dq1_, dq2_, dq3_, dq4_ = Dfun(q)\n",
    "    diff = np.array([dq1_, dq2_, dq3_, dq4_])\n",
    "    \n",
    "    def c(i,j,k):\n",
    "        return 0.5 *(diff[k].item((i,j))+\n",
    "                     diff[j].item((i,k))-\n",
    "                     diff[i].item((j,k)))\n",
    "    \n",
    "    for i in range(len(q)):\n",
    "        for j in range(len(q)):\n",
    "            for k in range(len(q)):\n",
    "                ans[i][j]+=c(i,j,k)*np.radians(dq[k])\n",
    "    return ans                  "
   ]
  },
  {
   "cell_type": "code",
   "execution_count": 25,
   "metadata": {},
   "outputs": [],
   "source": [
    "dq=[1,1,0.5,1]"
   ]
  },
  {
   "cell_type": "code",
   "execution_count": 26,
   "metadata": {},
   "outputs": [
    {
     "data": {
      "text/plain": [
       "array([[ 5.35255986e-03,  2.17932494e+10,  3.08223034e+10,\n",
       "         1.97267543e+10],\n",
       "       [-4.35864987e+10, -5.85996236e+09,  8.42838240e+09,\n",
       "         9.05239594e+09],\n",
       "       [-6.16446067e+10, -3.04921838e+10, -9.73615886e+09,\n",
       "        -6.50570818e+08],\n",
       "       [-3.94535087e+10, -2.39271692e+10, -1.22836091e+10,\n",
       "        -6.14395000e+09]])"
      ]
     },
     "execution_count": 26,
     "metadata": {},
     "output_type": "execute_result"
    }
   ],
   "source": [
    "C(q, dq, l, mn, In, mi)"
   ]
  },
  {
   "cell_type": "markdown",
   "metadata": {},
   "source": [
    "### Hydrodynamic damping matrix"
   ]
  },
  {
   "cell_type": "code",
   "execution_count": 27,
   "metadata": {},
   "outputs": [],
   "source": [
    "def R_I_Bi(i, alp):\n",
    "    return np.array([[np.cos(np.radians(alp[i])), -np.sin(np.radians(alp[i]))],\n",
    "                    [np.sin(np.radians(alp[i])), np.cos(np.radians(alp[i]))]])"
   ]
  },
  {
   "cell_type": "code",
   "execution_count": 28,
   "metadata": {},
   "outputs": [],
   "source": [
    "alp=alpha(q)"
   ]
  },
  {
   "cell_type": "code",
   "execution_count": 29,
   "metadata": {},
   "outputs": [
    {
     "data": {
      "text/plain": [
       "array([[ 0.99624934, -0.08652888],\n",
       "       [ 0.08652888,  0.99624934]])"
      ]
     },
     "execution_count": 29,
     "metadata": {},
     "output_type": "execute_result"
    }
   ],
   "source": [
    "R_I_Bi(2, alp)"
   ]
  },
  {
   "cell_type": "code",
   "execution_count": 30,
   "metadata": {},
   "outputs": [],
   "source": [
    "I_=np.array([[0,0],\n",
    "             [0,1]])"
   ]
  },
  {
   "cell_type": "code",
   "execution_count": 31,
   "metadata": {},
   "outputs": [],
   "source": [
    "def Pi(i,alp):\n",
    "    return np.dot(np.dot(R_I_Bi(i, alp),I_),R_I_Bi(i, alp).T)"
   ]
  },
  {
   "cell_type": "code",
   "execution_count": 32,
   "metadata": {},
   "outputs": [],
   "source": [
    "# TODO - not sure about this formula \n",
    "def mod_Vn(q, alp, dq):\n",
    "    ans=[]\n",
    "    for j in range(len(q)):\n",
    "        ans.append(np.dot(np.dot(Pi(j,alp),Jv( q,j, l)), np.radians(dq)))\n",
    "    return np.linalg.norm(np.array(ans))"
   ]
  },
  {
   "cell_type": "code",
   "execution_count": 33,
   "metadata": {},
   "outputs": [
    {
     "data": {
      "text/plain": [
       "416.7166853577408"
      ]
     },
     "execution_count": 33,
     "metadata": {},
     "output_type": "execute_result"
    }
   ],
   "source": [
    "mod_Vn(q,alp,dq)"
   ]
  },
  {
   "cell_type": "code",
   "execution_count": 34,
   "metadata": {},
   "outputs": [],
   "source": [
    "# TODO - not sure about this formula \n",
    "def mod_Vni(i,q,alp,dq):\n",
    "    return np.linalg.norm(np.dot(np.dot(Pi(i,alp),Jv( q,i, l)), np.radians(dq)))"
   ]
  },
  {
   "cell_type": "code",
   "execution_count": 35,
   "metadata": {},
   "outputs": [
    {
     "data": {
      "text/plain": [
       "349.0583462872576"
      ]
     },
     "execution_count": 35,
     "metadata": {},
     "output_type": "execute_result"
    }
   ],
   "source": [
    "mod_Vni(len(q)-1,q,alp,dq)"
   ]
  },
  {
   "cell_type": "code",
   "execution_count": 36,
   "metadata": {},
   "outputs": [],
   "source": [
    "def gamma(i):\n",
    "    return 0.5*Cd[i]*qw*d0*l[i]"
   ]
  },
  {
   "cell_type": "code",
   "execution_count": 37,
   "metadata": {},
   "outputs": [],
   "source": [
    "def H(alp,q,dq,l):\n",
    "    ans=np.zeros((len(q), len(q)))\n",
    "    alp=alpha(q)\n",
    "    for j in range(len(q)):\n",
    "        ans+=gamma(j)*mod_Vni(j,q,alp,dq)*np.dot(np.dot(Jv(q,j,l).T,Pi(j,alp)),Jv( q,j, l))\n",
    "    return ans    "
   ]
  },
  {
   "cell_type": "code",
   "execution_count": 38,
   "metadata": {},
   "outputs": [
    {
     "name": "stdout",
     "output_type": "stream",
     "text": [
      "[0.99398403 2.98075607 4.96394727 6.94119423]\n",
      "[0.9939840275055615, 1.986772044151028, 1.9831911966919273, 1.9772469629333669]\n"
     ]
    }
   ],
   "source": [
    "print(alp)\n",
    "print(q)"
   ]
  },
  {
   "cell_type": "code",
   "execution_count": 39,
   "metadata": {},
   "outputs": [
    {
     "data": {
      "text/plain": [
       "array([[3.86925132e+14, 2.76706657e+14, 1.66156380e+14, 5.54074527e+13],\n",
       "       [2.76706657e+14, 1.97884726e+14, 1.18825510e+14, 3.96242315e+13],\n",
       "       [1.66156380e+14, 1.18825510e+14, 7.13521564e+13, 2.37934964e+13],\n",
       "       [5.54074527e+13, 3.96242315e+13, 2.37934964e+13, 7.93431484e+12]])"
      ]
     },
     "execution_count": 39,
     "metadata": {},
     "output_type": "execute_result"
    }
   ],
   "source": [
    "H(alp,q,[0,0,0,0.1],l)"
   ]
  },
  {
   "cell_type": "markdown",
   "metadata": {},
   "source": [
    "### Vector of spring forces in the pipe joints"
   ]
  },
  {
   "cell_type": "code",
   "execution_count": 40,
   "metadata": {},
   "outputs": [],
   "source": [
    "def f(q,k):\n",
    "    ans=np.array([k*q[i] for i in range(len(q))])\n",
    "    return ans.reshape(len(q),1)"
   ]
  },
  {
   "cell_type": "markdown",
   "metadata": {},
   "source": [
    "### Vector of gravitational/buoyancy forces"
   ]
  },
  {
   "cell_type": "code",
   "execution_count": 41,
   "metadata": {},
   "outputs": [
    {
     "data": {
      "text/plain": [
       "[0.9939840275055615, 1.986772044151028, 1.9831911966919273, 1.9772469629333669]"
      ]
     },
     "execution_count": 41,
     "metadata": {},
     "output_type": "execute_result"
    }
   ],
   "source": [
    "q"
   ]
  },
  {
   "cell_type": "code",
   "execution_count": 42,
   "metadata": {},
   "outputs": [],
   "source": [
    "def x(alp,i,l):\n",
    "    tmp1=np.dot(np.array(l[:i]),np.cos(np.radians(alp[:i])))\n",
    "\n",
    "    tmp1+=0.5*l[i]*np.cos(np.radians(alp[i]))\n",
    "    return tmp1"
   ]
  },
  {
   "cell_type": "code",
   "execution_count": 43,
   "metadata": {},
   "outputs": [
    {
     "data": {
      "text/plain": [
       "6898.164513606359"
      ]
     },
     "execution_count": 43,
     "metadata": {},
     "output_type": "execute_result"
    }
   ],
   "source": [
    "x(alp,2,l)"
   ]
  },
  {
   "cell_type": "code",
   "execution_count": 44,
   "metadata": {},
   "outputs": [],
   "source": [
    "def y(alp,i,l):\n",
    "    tmp1=np.dot(np.array(l[:i]),np.sin(np.radians(alp[:i])))\n",
    "#     print(l,alp[i],alp)\n",
    "#     print(math.sin(math.radians(alp[i])))\n",
    "    tmp1+=0.5*l[i]*np.sin(np.radians(alp[i]))\n",
    "    return tmp1"
   ]
  },
  {
   "cell_type": "code",
   "execution_count": 45,
   "metadata": {},
   "outputs": [
    {
     "data": {
      "text/plain": [
       "311.1480834242025"
      ]
     },
     "execution_count": 45,
     "metadata": {},
     "output_type": "execute_result"
    }
   ],
   "source": [
    "y(alp,2,l)"
   ]
  },
  {
   "cell_type": "code",
   "execution_count": 46,
   "metadata": {},
   "outputs": [],
   "source": [
    "G=np.array([0,-9.81]).T\n",
    "\n",
    "def ggi(i,G):\n",
    "    return mi[i]*G\n",
    "   \n",
    "    \n",
    "def gbi(G,l,i):\n",
    "    return -3.14*l[i]*(d0**2/4)*qw*G \n",
    "\n",
    "# not complete formula\n",
    "def gt(alp,fip, i): \n",
    "    return -fip*np.radians(alp[i])\n"
   ]
  },
  {
   "cell_type": "code",
   "execution_count": 47,
   "metadata": {},
   "outputs": [],
   "source": [
    "# TODO understand the commeted part and incorporate it in model \n",
    "def g(q,alp):\n",
    "    sum_=0\n",
    "    for i in range(len(q)-1):\n",
    "        sum_+=np.dot(Jv( q,i, l).T,ggi(i,G)+gbi(G,l,i))\n",
    "#     print(-qw)   \n",
    "#     print(Awp)\n",
    "#     print(y(alp,len(alp)-1,l))\n",
    "#     print(h)\n",
    "#     print(-qw,Awp,y(alp,len(q)-1,l),h)\n",
    "    tmp = -qw*Awp*(y(alp,len(alp)-1,l)-h)*G \n",
    "    sum_ += np.dot(Jv(q,len(q)-1, l).T, tmp)  #- \\\n",
    "#         np.dot(Jomega(len(q)-1).T, gt(q, fip, len(q)-1)).reshape(len(q),) \n",
    "    return sum_.reshape(len(q),1)   "
   ]
  },
  {
   "cell_type": "code",
   "execution_count": 48,
   "metadata": {},
   "outputs": [
    {
     "data": {
      "text/plain": [
       "array([[-9.80321218e+12],\n",
       "       [-7.02914462e+12],\n",
       "       [-4.23074288e+12],\n",
       "       [-1.41145604e+12]])"
      ]
     },
     "execution_count": 48,
     "metadata": {},
     "output_type": "execute_result"
    }
   ],
   "source": [
    "g(q,alp)"
   ]
  },
  {
   "cell_type": "markdown",
   "metadata": {},
   "source": [
    "### Vector of control inputs"
   ]
  },
  {
   "cell_type": "code",
   "execution_count": 49,
   "metadata": {},
   "outputs": [],
   "source": [
    "# Assume that the stinger is shorter than the link length li for any link i\n",
    "def tau_q(q,tau_qn): \n",
    "    ans= np.array([0 for i in range(len(q))]).reshape(len(q),1)\n",
    "    ans[-1] = tau_qn\n",
    "    return ans\n",
    "# tau_q - control forces from the stinger "
   ]
  },
  {
   "cell_type": "code",
   "execution_count": 50,
   "metadata": {},
   "outputs": [],
   "source": [
    "def Fx(q,alp,dq,kp, kd, x_ref = 0):\n",
    "#     print(-kp*(x(q,len(q)-1,l)-x_ref))\n",
    "#     return -kp*(x(q,len(q)-1,l)-x_ref) - kd*np.dot(np.dot(Pi(len(q)-1,q),Jv( q, len(q)-1, l)), np.radians(dq)) \n",
    "    return -kp*(x(alp,len(q)-1,l)-x_ref) - kd*mod_Vn(q,alp,dq)"
   ]
  },
  {
   "cell_type": "code",
   "execution_count": 51,
   "metadata": {},
   "outputs": [
    {
     "data": {
      "text/plain": [
       "-194344972.8231884"
      ]
     },
     "execution_count": 51,
     "metadata": {},
     "output_type": "execute_result"
    }
   ],
   "source": [
    "Fx(q,alp,dq,kp, kd, x_ref = 0)"
   ]
  },
  {
   "cell_type": "code",
   "execution_count": 52,
   "metadata": {},
   "outputs": [],
   "source": [
    "F1=np.array([Fx_,0]).reshape(2,1) # actuates the vessel in the surge direction in frame Bn\n",
    "# F=np.array([0,Fy]).reshape(2,1)\n",
    "def tau_t(q, F):\n",
    "    tmp= np.dot(Jv(q,len(q)-1, l).T, F)\n",
    "    return tmp\n",
    "#     ans=np.zeros((len(q),1))\n",
    "#     ans[-1][0]=tmp[-1][0]\n",
    "#     return  ans # the thruster forces"
   ]
  },
  {
   "cell_type": "code",
   "execution_count": 53,
   "metadata": {},
   "outputs": [
    {
     "data": {
      "text/plain": [
       "array([[-8.36699924e+10],\n",
       "       [-7.69596619e+10],\n",
       "       [-5.68448116e+10],\n",
       "       [-2.33737098e+10]])"
      ]
     },
     "execution_count": 53,
     "metadata": {},
     "output_type": "execute_result"
    }
   ],
   "source": [
    "tau_t(q, F1)"
   ]
  },
  {
   "cell_type": "code",
   "execution_count": 54,
   "metadata": {},
   "outputs": [],
   "source": [
    "tau_q_wave=9e6 # (taken from article on forces to semi-submersible platform),[N]\n",
    "# this function purly my invention\n",
    "# TODO - for improvement see Jensen thesis p. 49\n",
    "def tau_wave(q,alp, tau_q_wave):\n",
    "    Y0=y(alp,0,l)\n",
    "    C=np.exp(y(alp,len(q)-1,l))-np.exp(y(alp,0,l))\n",
    "    ans=[]\n",
    "    for i in range(len(q)):\n",
    "        ans.append([tau_q_wave/C*(np.exp(y(alp,i,l))-np.exp(y(alp,0,l)))])   \n",
    "    return np.array(ans)"
   ]
  },
  {
   "cell_type": "code",
   "execution_count": 55,
   "metadata": {},
   "outputs": [],
   "source": [
    "def tau(q, alp, tau_qn, F, tau_q_wave):\n",
    "#     return tau_q(q,tau_qn) + tau_t(q, F) + tau_wave(q, tau_q_wave)\n",
    "#     return tau_t(q, F) + tau_wave(q, tau_q_wave)\n",
    "#     return  tau_t(q, F)\n",
    "    return tau_t(q, F) + tau_wave(q, alp, tau_q_wave)"
   ]
  },
  {
   "cell_type": "code",
   "execution_count": 56,
   "metadata": {},
   "outputs": [],
   "source": [
    "# f1=C*eh1+b\n",
    "# f2=C*eh2+b\n",
    "\n",
    "# f1=C*(eh1-eh2)\n",
    "# f2=f1/(eh1-eh2)eh2+b\n",
    "# b="
   ]
  },
  {
   "cell_type": "code",
   "execution_count": 57,
   "metadata": {},
   "outputs": [
    {
     "data": {
      "text/plain": [
       "([0.9939840275055615,\n",
       "  1.986772044151028,\n",
       "  1.9831911966919273,\n",
       "  1.9772469629333669],\n",
       " array([0.99398403, 2.98075607, 4.96394727, 6.94119423]))"
      ]
     },
     "execution_count": 57,
     "metadata": {},
     "output_type": "execute_result"
    }
   ],
   "source": [
    "q,alp"
   ]
  },
  {
   "cell_type": "code",
   "execution_count": 58,
   "metadata": {},
   "outputs": [
    {
     "data": {
      "text/plain": [
       "array([[0.00000000e+000],\n",
       "       [2.60965835e-201],\n",
       "       [3.39755801e-118],\n",
       "       [9.00000000e+006]])"
      ]
     },
     "execution_count": 58,
     "metadata": {},
     "output_type": "execute_result"
    }
   ],
   "source": [
    "tau_wave(q,alp, tau_q_wave)"
   ]
  },
  {
   "cell_type": "code",
   "execution_count": 59,
   "metadata": {},
   "outputs": [
    {
     "data": {
      "text/plain": [
       "array([[-8.36699924e+10],\n",
       "       [-7.69596619e+10],\n",
       "       [-5.68448116e+10],\n",
       "       [-2.33647098e+10]])"
      ]
     },
     "execution_count": 59,
     "metadata": {},
     "output_type": "execute_result"
    }
   ],
   "source": [
    "tau(q, alp, tau_qn, F1, tau_q_wave)"
   ]
  },
  {
   "cell_type": "markdown",
   "metadata": {},
   "source": [
    "### Static solution"
   ]
  },
  {
   "cell_type": "code",
   "execution_count": 60,
   "metadata": {},
   "outputs": [],
   "source": [
    "def catenary(x,Ws,Fh):\n",
    "    return (Fh/Ws)*(np.cosh(x*Ws/Fh)-1)"
   ]
  },
  {
   "cell_type": "code",
   "execution_count": 61,
   "metadata": {},
   "outputs": [],
   "source": [
    "Ws = pipe_weight_per_unit_length*9.81 # [N/m]"
   ]
  },
  {
   "cell_type": "code",
   "execution_count": 62,
   "metadata": {},
   "outputs": [],
   "source": [
    "# lift_off_slope = 62#30.6 # from Jee catenary sheet, [deg]"
   ]
  },
  {
   "cell_type": "code",
   "execution_count": 63,
   "metadata": {},
   "outputs": [],
   "source": [
    "# Fx_=250000 # [N]"
   ]
  },
  {
   "cell_type": "code",
   "execution_count": null,
   "metadata": {},
   "outputs": [],
   "source": []
  },
  {
   "cell_type": "code",
   "execution_count": 64,
   "metadata": {},
   "outputs": [],
   "source": [
    "# horizontal_length =(Fx_/Ws)*math.asinh(np.tan(np.radians(lift_off_slope)))\n",
    "\n",
    "# below from Jensen thesis \n",
    "\n",
    "# Fx_=52347339\n",
    "# a0=Fx_/(Ws*h)\n",
    "# a1=math.sqrt(2*a0+1)/a0\n",
    "\n",
    "# horizontal_length=h*np.log((a1+math.sqrt(a1**2+1))**a1)"
   ]
  },
  {
   "cell_type": "code",
   "execution_count": 65,
   "metadata": {},
   "outputs": [],
   "source": [
    "# http://abc-moorings.weebly.com/catenary-calculator.html"
   ]
  },
  {
   "cell_type": "code",
   "execution_count": 66,
   "metadata": {},
   "outputs": [],
   "source": [
    "Fx_0=82945396"
   ]
  },
  {
   "cell_type": "code",
   "execution_count": 67,
   "metadata": {},
   "outputs": [],
   "source": [
    "S=math.sqrt(h*(2*Fx_0/Ws -h))\n",
    "horizontal_length=(Fx_0/Ws -h)*np.log((S+Fx_0/Ws)/(Fx_0/Ws-h))"
   ]
  },
  {
   "cell_type": "code",
   "execution_count": 68,
   "metadata": {},
   "outputs": [
    {
     "data": {
      "text/plain": [
       "11052.68484446162"
      ]
     },
     "execution_count": 68,
     "metadata": {},
     "output_type": "execute_result"
    }
   ],
   "source": [
    "horizontal_length"
   ]
  },
  {
   "cell_type": "code",
   "execution_count": 69,
   "metadata": {},
   "outputs": [],
   "source": [
    "number_of_elements=4"
   ]
  },
  {
   "cell_type": "code",
   "execution_count": 70,
   "metadata": {},
   "outputs": [],
   "source": [
    "delta_x=horizontal_length/number_of_elements"
   ]
  },
  {
   "cell_type": "code",
   "execution_count": 71,
   "metadata": {},
   "outputs": [],
   "source": [
    "x0=[i*delta_x for i in range(number_of_elements+1)]\n",
    "y0=[]\n",
    "for i in range(len(x0)):\n",
    "    y0.append(catenary(x0[i],Ws,Fx_))"
   ]
  },
  {
   "cell_type": "code",
   "execution_count": 72,
   "metadata": {},
   "outputs": [
    {
     "data": {
      "text/plain": [
       "[0.0,\n",
       " 2763.171211115405,\n",
       " 5526.34242223081,\n",
       " 8289.513633346216,\n",
       " 11052.68484446162]"
      ]
     },
     "execution_count": 72,
     "metadata": {},
     "output_type": "execute_result"
    }
   ],
   "source": [
    "x0"
   ]
  },
  {
   "cell_type": "code",
   "execution_count": 73,
   "metadata": {},
   "outputs": [],
   "source": [
    "q=[]\n",
    "l_=[]\n",
    "deg_=[0]\n",
    "\n",
    "for i in range(len(x0)-1):\n",
    "    l_.append(np.sqrt((x0[i+1]-x0[i])**2+(y0[i+1]-y0[i])**2))\n",
    "    deg =np.degrees(math.atan((y0[i+1]-y0[i])/(x0[i+1]-x0[i])))\n",
    "    q.append(deg-deg_[-1]) \n",
    "    deg_.append(deg)\n"
   ]
  },
  {
   "cell_type": "code",
   "execution_count": 74,
   "metadata": {},
   "outputs": [],
   "source": [
    "alp_=alpha(q)"
   ]
  },
  {
   "cell_type": "code",
   "execution_count": 75,
   "metadata": {},
   "outputs": [
    {
     "data": {
      "text/plain": [
       "[0.5324914472404209,\n",
       " 1.0647989485770295,\n",
       " 1.0642474284519123,\n",
       " 1.0633292855171863]"
      ]
     },
     "execution_count": 75,
     "metadata": {},
     "output_type": "execute_result"
    }
   ],
   "source": [
    "q"
   ]
  },
  {
   "cell_type": "code",
   "execution_count": 76,
   "metadata": {},
   "outputs": [
    {
     "data": {
      "text/plain": [
       "[2763.290547654398, 2764.2453018073493, 2766.1551399557356, 2769.0207218985934]"
      ]
     },
     "execution_count": 76,
     "metadata": {},
     "output_type": "execute_result"
    }
   ],
   "source": [
    "l_"
   ]
  },
  {
   "cell_type": "code",
   "execution_count": 77,
   "metadata": {
    "scrolled": true
   },
   "outputs": [
    {
     "data": {
      "image/png": "[encoded data removed]",
      "text/plain": [
       "<Figure size 432x288 with 1 Axes>"
      ]
     },
     "metadata": {
      "needs_background": "light"
     },
     "output_type": "display_data"
    }
   ],
   "source": [
    "plt.plot(x0, y0)\n",
    "plt.plot(x(alp_,0,l_),y(alp_,0,l_), 'o', color='black')\n",
    "plt.plot(x(alp_,1,l_),y(alp_,1,l_), 'o', color='black')\n",
    "plt.plot(x(alp_,2,l_),y(alp_,2,l_), 'o', color='black')\n",
    "plt.plot(x(alp_,3,l_),y(alp_,3,l_), 'o', color='black')\n",
    "plt.show()"
   ]
  },
  {
   "cell_type": "code",
   "execution_count": 78,
   "metadata": {},
   "outputs": [],
   "source": [
    "q0=[]\n",
    "for i in range(len(q)):\n",
    "    q0.append(q[i])\n",
    "    q0.append(0)"
   ]
  },
  {
   "cell_type": "code",
   "execution_count": 79,
   "metadata": {},
   "outputs": [
    {
     "data": {
      "text/plain": [
       "[0.5324914472404209,\n",
       " 0,\n",
       " 1.0647989485770295,\n",
       " 0,\n",
       " 1.0642474284519123,\n",
       " 0,\n",
       " 1.0633292855171863,\n",
       " 0]"
      ]
     },
     "execution_count": 79,
     "metadata": {},
     "output_type": "execute_result"
    }
   ],
   "source": [
    "q0"
   ]
  },
  {
   "cell_type": "code",
   "execution_count": 80,
   "metadata": {},
   "outputs": [
    {
     "data": {
      "text/plain": [
       "([0.5324914472404209,\n",
       "  1.0647989485770295,\n",
       "  1.0642474284519123,\n",
       "  1.0633292855171863],\n",
       " [1, 1, 0.5, 1],\n",
       " 19500.0)"
      ]
     },
     "execution_count": 80,
     "metadata": {},
     "output_type": "execute_result"
    }
   ],
   "source": [
    "q,dq,kp"
   ]
  },
  {
   "cell_type": "code",
   "execution_count": 81,
   "metadata": {},
   "outputs": [],
   "source": [
    "alp_=alpha(q)"
   ]
  },
  {
   "cell_type": "code",
   "execution_count": 82,
   "metadata": {},
   "outputs": [],
   "source": [
    "F_=np.array([-Fx(q,alp_,dq,kp, 0, x_ref = 0),0]).reshape(2,1)"
   ]
  },
  {
   "cell_type": "code",
   "execution_count": 83,
   "metadata": {},
   "outputs": [
    {
     "data": {
      "text/plain": [
       "array([[1.88436459e+08],\n",
       "       [0.00000000e+00]])"
      ]
     },
     "execution_count": 83,
     "metadata": {},
     "output_type": "execute_result"
    }
   ],
   "source": [
    "F_"
   ]
  },
  {
   "cell_type": "code",
   "execution_count": 84,
   "metadata": {},
   "outputs": [],
   "source": [
    "def static_func(q):\n",
    "    alp=alpha(q)\n",
    "    ans=  f(q, K) + g(q,alp) - tau(q,alp, tau_qn, F_, 0)\n",
    "    return ans.reshape((len(q),))"
   ]
  },
  {
   "cell_type": "code",
   "execution_count": 85,
   "metadata": {},
   "outputs": [],
   "source": [
    "root = fsolve(static_func, np.array(q))"
   ]
  },
  {
   "cell_type": "code",
   "execution_count": 86,
   "metadata": {},
   "outputs": [
    {
     "data": {
      "text/plain": [
       "array([0.73313185, 2.7956858 , 2.83780397, 1.35186778])"
      ]
     },
     "execution_count": 86,
     "metadata": {},
     "output_type": "execute_result"
    }
   ],
   "source": [
    "root"
   ]
  },
  {
   "cell_type": "code",
   "execution_count": 87,
   "metadata": {},
   "outputs": [],
   "source": [
    "q=list(root)"
   ]
  },
  {
   "cell_type": "code",
   "execution_count": 88,
   "metadata": {},
   "outputs": [],
   "source": [
    "q0=[]\n",
    "for i in range(len(q)):\n",
    "    q0.append(q[i])\n",
    "    q0.append(0)"
   ]
  },
  {
   "cell_type": "code",
   "execution_count": 89,
   "metadata": {},
   "outputs": [],
   "source": [
    "alp_=alpha(root)"
   ]
  },
  {
   "cell_type": "code",
   "execution_count": 90,
   "metadata": {},
   "outputs": [
    {
     "data": {
      "text/plain": [
       "array([0.73313185, 3.52881765, 6.36662161, 7.71848939])"
      ]
     },
     "execution_count": 90,
     "metadata": {},
     "output_type": "execute_result"
    }
   ],
   "source": [
    "alp_"
   ]
  },
  {
   "cell_type": "code",
   "execution_count": 91,
   "metadata": {},
   "outputs": [
    {
     "data": {
      "image/png": "[encoded data removed]",
      "text/plain": [
       "<Figure size 432x288 with 1 Axes>"
      ]
     },
     "metadata": {
      "needs_background": "light"
     },
     "output_type": "display_data"
    }
   ],
   "source": [
    "plt.plot(x(alp_,0,l),y(alp_,0,l), 'o', color='black')\n",
    "plt.plot(x(alp_,1,l),y(alp_,1,l), 'o', color='black')\n",
    "plt.plot(x(alp_,2,l),y(alp_,2,l), 'o', color='black')\n",
    "plt.plot(x(alp_,3,l),y(alp_,3,l), 'o', color='black')\n",
    "plt.show()"
   ]
  },
  {
   "cell_type": "code",
   "execution_count": 92,
   "metadata": {},
   "outputs": [
    {
     "data": {
      "text/plain": [
       "[0.7331318501868566, 2.7956857962718002, 2.837803967849071, 1.3518677796322582]"
      ]
     },
     "execution_count": 92,
     "metadata": {},
     "output_type": "execute_result"
    }
   ],
   "source": [
    "q"
   ]
  },
  {
   "cell_type": "code",
   "execution_count": 93,
   "metadata": {},
   "outputs": [
    {
     "data": {
      "text/plain": [
       "[0.7331318501868566,\n",
       " 0,\n",
       " 2.7956857962718002,\n",
       " 0,\n",
       " 2.837803967849071,\n",
       " 0,\n",
       " 1.3518677796322582,\n",
       " 0]"
      ]
     },
     "execution_count": 93,
     "metadata": {},
     "output_type": "execute_result"
    }
   ],
   "source": [
    "q0"
   ]
  },
  {
   "cell_type": "code",
   "execution_count": 94,
   "metadata": {},
   "outputs": [
    {
     "name": "stdout",
     "output_type": "stream",
     "text": [
      "0:00:00.000968\n"
     ]
    }
   ],
   "source": [
    "startTime = datetime.now()\n",
    "\n",
    "add1=functools.partial(Jv, i=len(q)-1, l=l)\n",
    "add1__Jv = np.array(list(map(add1, [q])))\n",
    "\n",
    "add5=functools.partial(f, k=K)\n",
    "add5__f =np.array(list(map(add5, [q])))\n",
    "\n",
    "add6=functools.partial(g,alp=alp_)\n",
    "add6__g =np.array(list(map(add6, [q])))\n",
    "\n",
    "print(datetime.now() - startTime)"
   ]
  },
  {
   "cell_type": "code",
   "execution_count": 95,
   "metadata": {},
   "outputs": [],
   "source": [
    "tmp__1=pinv(add1__Jv.transpose(0, 2, 1))\n",
    "tmp__2= add5__f + add6__g"
   ]
  },
  {
   "cell_type": "code",
   "execution_count": 96,
   "metadata": {},
   "outputs": [],
   "source": [
    "tmp__=np.matmul(tmp__1, tmp__2)"
   ]
  },
  {
   "cell_type": "code",
   "execution_count": 97,
   "metadata": {},
   "outputs": [],
   "source": [
    "dim1=int(max_t/dt)\n",
    "dim2=dim1-1"
   ]
  },
  {
   "cell_type": "code",
   "execution_count": 98,
   "metadata": {},
   "outputs": [
    {
     "data": {
      "image/png": "[encoded data removed]",
      "text/plain": [
       "<Figure size 432x288 with 1 Axes>"
      ]
     },
     "metadata": {
      "needs_background": "light"
     },
     "output_type": "display_data"
    }
   ],
   "source": [
    "plt.plot(t[:len(tmp__)],tmp__[:,0],'o', color='red')\n",
    "plt.xlim([-1, dim1//2])\n",
    "plt.ylim([-1000000000, 1000000000])\n",
    "plt.xlabel('t')\n",
    "plt.ylabel('T_H')\n",
    "plt.show()"
   ]
  },
  {
   "cell_type": "code",
   "execution_count": 99,
   "metadata": {},
   "outputs": [
    {
     "data": {
      "image/png": "[encoded data removed]",
      "text/plain": [
       "<Figure size 432x288 with 1 Axes>"
      ]
     },
     "metadata": {
      "needs_background": "light"
     },
     "output_type": "display_data"
    }
   ],
   "source": [
    "plt.plot(t[:len(tmp__)],tmp__[:,1],'o', color='red')\n",
    "plt.xlim([-1, dim1//2])\n",
    "plt.ylim([-100000000, 100000000])\n",
    "plt.xlabel('t')\n",
    "plt.ylabel('T_V')\n",
    "plt.show()"
   ]
  },
  {
   "cell_type": "code",
   "execution_count": 100,
   "metadata": {},
   "outputs": [
    {
     "data": {
      "text/plain": [
       "(array([1.88436459e+08]), array([1.12522393e-05]))"
      ]
     },
     "execution_count": 100,
     "metadata": {},
     "output_type": "execute_result"
    }
   ],
   "source": [
    "max(tmp__[:,0]), max(tmp__[:,1])"
   ]
  },
  {
   "cell_type": "markdown",
   "metadata": {},
   "source": [
    "### Dynamic solution "
   ]
  },
  {
   "cell_type": "code",
   "execution_count": 101,
   "metadata": {},
   "outputs": [],
   "source": [
    "from scipy.linalg import lu_factor, lu_solve"
   ]
  },
  {
   "cell_type": "code",
   "execution_count": 102,
   "metadata": {},
   "outputs": [],
   "source": [
    "def manipulator(Q, t, q):\n",
    "    q0,dq0,q1,dq1,q2,dq2,q3,dq3 = Q\n",
    "    QI=np.array([q0,q1,q2,q3]).reshape(len(q),1)\n",
    "    dQ=np.array([dq0,dq1,dq2,dq3]).reshape(len(q),1)\n",
    "    \n",
    "    QI= QI.flatten().tolist()\n",
    "    \n",
    "    alp=alpha(QI)\n",
    "#     print(alp)\n",
    "    \n",
    "#     F0=-Fx(QI,alp,dQ, kp, kd, x_ref = 0)\n",
    "    \n",
    "#     if 100<t<120:\n",
    "#         F=np.array([F0+1e6/120*t, 0]).reshape(2,1)\n",
    "#     elif 120<t<150:\n",
    "#         F=np.array([F0+1e6, 0]).reshape(2,1)\n",
    "#     elif 150<t<170:\n",
    "#         F=np.array([F0+1e6-1e6/170*t, 0]).reshape(2,1)\n",
    "#     else:\n",
    "#         F=np.array([F0, 0]).reshape(2,1)\n",
    "\n",
    "#     if 40<t<60:\n",
    "#         F=np.array([Fx_+1e6/60*t, 0]).reshape(2,1)\n",
    "#     elif 60<t<80:\n",
    "#         F=np.array([Fx_+1e6, 0]).reshape(2,1)\n",
    "#     elif 80<t<100:\n",
    "#         F=np.array([Fx_+1e6-1e6/100*t, 0]).reshape(2,1)\n",
    "#     elif t>100:\n",
    "#         F0=-Fx(QI,alp,dQ, kp, kd, x_ref = 0)\n",
    "#         F=np.array([F0, 0]).reshape(2,1)\n",
    "#     else:\n",
    "#         F=np.array([Fx_, 0]).reshape(2,1)\n",
    "        \n",
    "        \n",
    "#     if 100<t:\n",
    "#         F=np.array([-Fx(QI,alp, dQ, kp, kd, x_ref = 0),0]).reshape(2,1)\n",
    "#     else:\n",
    "#         F=np.array([Fx_,0]).reshape(2,1) \n",
    "\n",
    "#     if 100<t<130:\n",
    "#         F=np.array([-Fx(QI, alp, dQ, kp, 0, x_ref = 0),0]).reshape(2,1)\n",
    "#     elif t>130:\n",
    "#         F=np.array([-Fx(QI, alp, dQ, kp, kd, x_ref = 0),0]).reshape(2,1)\n",
    "#     else:\n",
    "#         F=np.array([Fx_,0]).reshape(2,1)\n",
    "\n",
    "    if t>100:\n",
    "        F=np.array([-Fx(QI, alp, dQ, kp, kd, x_ref = 0),0]).reshape(2,1)\n",
    "    else:\n",
    "        F=np.array([Fx_,0]).reshape(2,1)\n",
    "   \n",
    "    \n",
    "    ddq0,ddq1,ddq2,ddq3 = np.linalg.lstsq(M(QI, l, mn, In, mi), \n",
    "                        - np.dot(H(alp,QI,dQ,l), np.radians(dQ)).reshape(len(QI),1)\n",
    "                        - np.dot(C(QI,dQ, l, mn, In, mi), np.radians(dQ)).reshape(len(QI),1)  \n",
    "                        - f(QI, K) \n",
    "                        - g(QI,alp)\n",
    "                        + tau(QI,alp, tau_qn, F, tau_q_wave), rcond=None)[0]\n",
    "\n",
    "    return [dq0, ddq0, dq1, ddq1, dq2, ddq2, dq3, ddq3]"
   ]
  },
  {
   "cell_type": "code",
   "execution_count": 103,
   "metadata": {},
   "outputs": [
    {
     "name": "stdout",
     "output_type": "stream",
     "text": [
      "0:02:14.606736\n"
     ]
    }
   ],
   "source": [
    "startTime1 = datetime.now()\n",
    "us=odeint(manipulator,q0,t, args=(q,))\n",
    "print(datetime.now() - startTime1)"
   ]
  },
  {
   "cell_type": "code",
   "execution_count": 104,
   "metadata": {},
   "outputs": [],
   "source": [
    "us_=us"
   ]
  },
  {
   "cell_type": "code",
   "execution_count": 105,
   "metadata": {},
   "outputs": [
    {
     "data": {
      "image/png": "[encoded data removed]",
      "text/plain": [
       "<Figure size 432x288 with 1 Axes>"
      ]
     },
     "metadata": {
      "needs_background": "light"
     },
     "output_type": "display_data"
    }
   ],
   "source": [
    "plt.plot(t,np.radians(us_[:,0]) ,'-')\n",
    "plt.xlabel('t')\n",
    "plt.ylabel('q0 (rad)')\n",
    "plt.show()"
   ]
  },
  {
   "cell_type": "code",
   "execution_count": 106,
   "metadata": {},
   "outputs": [
    {
     "data": {
      "image/png": "[encoded data removed]",
      "text/plain": [
       "<Figure size 432x288 with 1 Axes>"
      ]
     },
     "metadata": {
      "needs_background": "light"
     },
     "output_type": "display_data"
    }
   ],
   "source": [
    "plt.plot(t,us_[:,1],'-')\n",
    "plt.xlabel('t')\n",
    "plt.ylabel('dq0')\n",
    "plt.show()"
   ]
  },
  {
   "cell_type": "code",
   "execution_count": 107,
   "metadata": {},
   "outputs": [
    {
     "data": {
      "image/png": "[encoded data removed]",
      "text/plain": [
       "<Figure size 432x288 with 1 Axes>"
      ]
     },
     "metadata": {
      "needs_background": "light"
     },
     "output_type": "display_data"
    }
   ],
   "source": [
    "plt.plot(t, np.radians(us_[:,2]),'-')\n",
    "plt.xlabel('t')\n",
    "plt.ylabel('q1 (rad)')\n",
    "plt.show()"
   ]
  },
  {
   "cell_type": "code",
   "execution_count": 108,
   "metadata": {},
   "outputs": [
    {
     "data": {
      "image/png": "[encoded data removed]",
      "text/plain": [
       "<Figure size 432x288 with 1 Axes>"
      ]
     },
     "metadata": {
      "needs_background": "light"
     },
     "output_type": "display_data"
    }
   ],
   "source": [
    "plt.plot(t, us_[:,3],'-')\n",
    "plt.xlabel('t')\n",
    "plt.ylabel('dq1')\n",
    "plt.show()"
   ]
  },
  {
   "cell_type": "code",
   "execution_count": 109,
   "metadata": {},
   "outputs": [
    {
     "data": {
      "image/png": "[encoded data removed]",
      "text/plain": [
       "<Figure size 432x288 with 1 Axes>"
      ]
     },
     "metadata": {
      "needs_background": "light"
     },
     "output_type": "display_data"
    }
   ],
   "source": [
    "plt.plot(t, np.radians(us_[:,4]),'-')\n",
    "plt.xlabel('t')\n",
    "plt.ylabel('q2 (rad)')\n",
    "plt.show()"
   ]
  },
  {
   "cell_type": "code",
   "execution_count": 110,
   "metadata": {},
   "outputs": [
    {
     "data": {
      "image/png": "[encoded data removed]",
      "text/plain": [
       "<Figure size 432x288 with 1 Axes>"
      ]
     },
     "metadata": {
      "needs_background": "light"
     },
     "output_type": "display_data"
    }
   ],
   "source": [
    "plt.plot(t, us_[:,5],'-')\n",
    "plt.xlabel('t')\n",
    "plt.ylabel('dq2')\n",
    "plt.show()"
   ]
  },
  {
   "cell_type": "code",
   "execution_count": 111,
   "metadata": {},
   "outputs": [
    {
     "data": {
      "image/png": "[encoded data removed]",
      "text/plain": [
       "<Figure size 432x288 with 1 Axes>"
      ]
     },
     "metadata": {
      "needs_background": "light"
     },
     "output_type": "display_data"
    }
   ],
   "source": [
    "plt.plot(t, np.radians(us_[:,6]),'-')\n",
    "plt.xlabel('t')\n",
    "plt.ylabel('q3 (rad)')\n",
    "plt.show()"
   ]
  },
  {
   "cell_type": "code",
   "execution_count": 112,
   "metadata": {},
   "outputs": [
    {
     "data": {
      "image/png": "[encoded data removed]",
      "text/plain": [
       "<Figure size 432x288 with 1 Axes>"
      ]
     },
     "metadata": {
      "needs_background": "light"
     },
     "output_type": "display_data"
    }
   ],
   "source": [
    "plt.plot(t, us_[:,7],'-')\n",
    "plt.xlabel('t')\n",
    "plt.ylabel('dq3')\n",
    "plt.show()"
   ]
  },
  {
   "cell_type": "code",
   "execution_count": 113,
   "metadata": {},
   "outputs": [],
   "source": [
    "X0=[x(alpha(us_[i,[0,2,4,6]]),0,l) for i in range(len(us_))]\n",
    "Y0=[y(alpha(us_[i,[0,2,4,6]]),0,l) for i in range(len(us_))]\n",
    "X1=[x(alpha(us_[i,[0,2,4,6]]),1,l) for i in range(len(us_))]\n",
    "Y1=[y(alpha(us_[i,[0,2,4,6]]),1,l) for i in range(len(us_))]\n",
    "X2=[x(alpha(us_[i,[0,2,4,6]]),2,l) for i in range(len(us_))]\n",
    "Y2=[y(alpha(us_[i,[0,2,4,6]]),2,l) for i in range(len(us_))]\n",
    "X3=[x(alpha(us_[i,[0,2,4,6]]),3,l) for i in range(len(us_))]\n",
    "Y3=[y(alpha(us_[i,[0,2,4,6]]),3,l) for i in range(len(us_))]"
   ]
  },
  {
   "cell_type": "code",
   "execution_count": 114,
   "metadata": {},
   "outputs": [],
   "source": [
    "X0_=[x(alpha(us_[i,[0,2,4,6]]),0,l) for i in range(1)]\n",
    "Y0_=[y(alpha(us_[i,[0,2,4,6]]),0,l) for i in range(1)]\n",
    "X1_=[x(alpha(us_[i,[0,2,4,6]]),1,l) for i in range(1)]\n",
    "Y1_=[y(alpha(us_[i,[0,2,4,6]]),1,l) for i in range(1)]\n",
    "X2_=[x(alpha(us_[i,[0,2,4,6]]),2,l) for i in range(1)]\n",
    "Y2_=[y(alpha(us_[i,[0,2,4,6]]),2,l) for i in range(1)]\n",
    "X3_=[x(alpha(us_[i,[0,2,4,6]]),3,l) for i in range(1)]\n",
    "Y3_=[y(alpha(us_[i,[0,2,4,6]]),3,l) for i in range(1)]"
   ]
  },
  {
   "cell_type": "code",
   "execution_count": 115,
   "metadata": {},
   "outputs": [
    {
     "data": {
      "image/png": "[encoded data removed]",
      "text/plain": [
       "<Figure size 1008x288 with 1 Axes>"
      ]
     },
     "metadata": {
      "needs_background": "light"
     },
     "output_type": "display_data"
    }
   ],
   "source": [
    "plt.figure(figsize=(14,4))\n",
    "plt.plot(X0_,Y0_, 'o', color='black')\n",
    "plt.plot(X1_,Y1_, 'o', color='black')\n",
    "plt.plot(X2_,Y2_, 'o', color='black')\n",
    "plt.plot(X3_,Y3_, 'o', color='black')\n",
    "\n",
    "# dynamic\n",
    "plt.plot(X0,Y0,'b')\n",
    "plt.plot(X1,Y1,'y')\n",
    "plt.plot(X2,Y2,'g')\n",
    "plt.plot(X3,Y3,'r')\n",
    "\n",
    "plt.plot(x(alpha(us_[-1,[0,2,4,6]]),0,l),y(alpha(us_[-1,[0,2,4,6]]),0,l), 'o', color='green')\n",
    "plt.plot(x(alpha(us_[-1,[0,2,4,6]]),1,l),y(alpha(us_[-1,[0,2,4,6]]),1,l), 'o', color='green')\n",
    "plt.plot(x(alpha(us_[-1,[0,2,4,6]]),2,l),y(alpha(us_[-1,[0,2,4,6]]),2,l), 'o', color='green')\n",
    "plt.plot(x(alpha(us_[-1,[0,2,4,6]]),3,l),y(alpha(us_[-1,[0,2,4,6]]),3,l), 'o', color='green')\n",
    "\n",
    "# plt.plot(x0, y0)\n",
    "plt.xlabel('X')\n",
    "plt.ylabel('Y')\n",
    "\n",
    "plt.show()"
   ]
  },
  {
   "cell_type": "code",
   "execution_count": 116,
   "metadata": {},
   "outputs": [
    {
     "data": {
      "text/plain": [
       "0.7331318501868566"
      ]
     },
     "execution_count": 116,
     "metadata": {},
     "output_type": "execute_result"
    }
   ],
   "source": [
    "us_[0,0]"
   ]
  },
  {
   "cell_type": "code",
   "execution_count": 117,
   "metadata": {},
   "outputs": [
    {
     "data": {
      "text/plain": [
       "2.7956857962718002"
      ]
     },
     "execution_count": 117,
     "metadata": {},
     "output_type": "execute_result"
    }
   ],
   "source": [
    "us_[0,2]"
   ]
  },
  {
   "cell_type": "code",
   "execution_count": 118,
   "metadata": {},
   "outputs": [
    {
     "data": {
      "text/plain": [
       "2.837803967849071"
      ]
     },
     "execution_count": 118,
     "metadata": {},
     "output_type": "execute_result"
    }
   ],
   "source": [
    "us_[0,4]"
   ]
  },
  {
   "cell_type": "code",
   "execution_count": 119,
   "metadata": {},
   "outputs": [
    {
     "data": {
      "text/plain": [
       "1.3518677796322582"
      ]
     },
     "execution_count": 119,
     "metadata": {},
     "output_type": "execute_result"
    }
   ],
   "source": [
    "us_[0,6]"
   ]
  },
  {
   "cell_type": "code",
   "execution_count": 120,
   "metadata": {},
   "outputs": [
    {
     "data": {
      "text/plain": [
       "7.718489393939986"
      ]
     },
     "execution_count": 120,
     "metadata": {},
     "output_type": "execute_result"
    }
   ],
   "source": [
    "us_[0,0]+us_[0,2]+us_[0,4]+us_[0,6]"
   ]
  },
  {
   "cell_type": "markdown",
   "metadata": {},
   "source": [
    "### Pipe-tip tension"
   ]
  },
  {
   "cell_type": "code",
   "execution_count": 121,
   "metadata": {},
   "outputs": [],
   "source": [
    "coordinates=us[:,[0,2,4,6]]\n",
    "velocities=us[:,[1,3,5,7]]"
   ]
  },
  {
   "cell_type": "code",
   "execution_count": 122,
   "metadata": {},
   "outputs": [],
   "source": [
    "alp_=[]\n",
    "for i in range(len(us)):\n",
    "    alp_.append(alpha(coordinates[i]))\n",
    "alp_=np.matrix(alp_)    "
   ]
  },
  {
   "cell_type": "code",
   "execution_count": 123,
   "metadata": {},
   "outputs": [
    {
     "data": {
      "text/plain": [
       "(1200, 4)"
      ]
     },
     "execution_count": 123,
     "metadata": {},
     "output_type": "execute_result"
    }
   ],
   "source": [
    "velocities.shape"
   ]
  },
  {
   "cell_type": "code",
   "execution_count": 124,
   "metadata": {},
   "outputs": [],
   "source": [
    "velocities_0=velocities[:-1]\n",
    "velocities_1=velocities[1:]"
   ]
  },
  {
   "cell_type": "code",
   "execution_count": 125,
   "metadata": {},
   "outputs": [
    {
     "data": {
      "text/plain": [
       "((1200, 4), (1200, 4))"
      ]
     },
     "execution_count": 125,
     "metadata": {},
     "output_type": "execute_result"
    }
   ],
   "source": [
    "coordinates.shape, velocities.shape"
   ]
  },
  {
   "cell_type": "code",
   "execution_count": 126,
   "metadata": {},
   "outputs": [
    {
     "name": "stdout",
     "output_type": "stream",
     "text": [
      "0:01:43.837411\n"
     ]
    }
   ],
   "source": [
    "startTime1 = datetime.now()\n",
    "\n",
    "add4=functools.partial(C, l=l, mn=mn, In=In, mi=mi)\n",
    "add4__C =np.array(list(map(add4, coordinates, velocities)))\n",
    "\n",
    "print(datetime.now() - startTime1)"
   ]
  },
  {
   "cell_type": "code",
   "execution_count": 127,
   "metadata": {},
   "outputs": [
    {
     "name": "stdout",
     "output_type": "stream",
     "text": [
      "0:00:02.914792\n"
     ]
    }
   ],
   "source": [
    "startTime = datetime.now()\n",
    "\n",
    "add1=functools.partial(Jv, i=len(q)-1, l=l)\n",
    "add1__Jv = np.array(list(map(add1, coordinates)))\n",
    "\n",
    "add2=functools.partial(M, l=l, mn=mn, In=In, mi=mi)\n",
    "add2__M =np.array(list(map(add2, coordinates)))\n",
    "\n",
    "add3=functools.partial(H,  l=l)\n",
    "add3__H =np.array(list(map(add3, alp_.tolist(), coordinates, velocities)))\n",
    "\n",
    "add5=functools.partial(f, k=K)\n",
    "add5__f =np.array(list(map(add5, coordinates)))\n",
    "\n",
    "add6=functools.partial(g)\n",
    "add6__g =np.array(list(map(add6, coordinates, alp_.tolist())))\n",
    "\n",
    "print(datetime.now() - startTime)"
   ]
  },
  {
   "cell_type": "code",
   "execution_count": 128,
   "metadata": {},
   "outputs": [
    {
     "data": {
      "text/plain": [
       "(1199, 4)"
      ]
     },
     "execution_count": 128,
     "metadata": {},
     "output_type": "execute_result"
    }
   ],
   "source": [
    "velocities_1.shape"
   ]
  },
  {
   "cell_type": "code",
   "execution_count": 129,
   "metadata": {},
   "outputs": [
    {
     "data": {
      "text/plain": [
       "(1200, 4, 1)"
      ]
     },
     "execution_count": 129,
     "metadata": {},
     "output_type": "execute_result"
    }
   ],
   "source": [
    "add5__f.shape"
   ]
  },
  {
   "cell_type": "code",
   "execution_count": 130,
   "metadata": {},
   "outputs": [
    {
     "data": {
      "text/plain": [
       "(1200, 4, 1)"
      ]
     },
     "execution_count": 130,
     "metadata": {},
     "output_type": "execute_result"
    }
   ],
   "source": [
    "add6__g.shape"
   ]
  },
  {
   "cell_type": "code",
   "execution_count": 131,
   "metadata": {},
   "outputs": [
    {
     "data": {
      "text/plain": [
       "(1200, 4, 4)"
      ]
     },
     "execution_count": 131,
     "metadata": {},
     "output_type": "execute_result"
    }
   ],
   "source": [
    "add3__H.shape"
   ]
  },
  {
   "cell_type": "code",
   "execution_count": 132,
   "metadata": {},
   "outputs": [],
   "source": [
    "tmp__1=pinv(add1__Jv[:-1].transpose(0, 2, 1))\n",
    "#here\n",
    "tmp__2=np.matmul(add2__M[:-1], ((np.radians(velocities_1).reshape(dim2,4,1) - \n",
    "                              np.radians(velocities_0).reshape(dim2,4,1))/dt))\\\n",
    "            + np.matmul(add3__H[:-1], np.radians(velocities[:-1]).reshape(dim2,4,1)) \\\n",
    "            + np.matmul(add4__C[:-1], np.radians(velocities[:-1]).reshape(dim2,4,1)) \\\n",
    "            + add5__f[:-1] \\\n",
    "            + add6__g[:-1]"
   ]
  },
  {
   "cell_type": "code",
   "execution_count": 133,
   "metadata": {},
   "outputs": [],
   "source": [
    "tmp__=np.matmul(tmp__1, tmp__2)"
   ]
  },
  {
   "cell_type": "code",
   "execution_count": 134,
   "metadata": {},
   "outputs": [
    {
     "data": {
      "image/png": "[encoded data removed]",
      "text/plain": [
       "<Figure size 432x288 with 1 Axes>"
      ]
     },
     "metadata": {
      "needs_background": "light"
     },
     "output_type": "display_data"
    }
   ],
   "source": [
    "plt.plot(t[:len(tmp__)],tmp__[:,0],'-')\n",
    "plt.xlim([-1, dim1//2])\n",
    "plt.ylim([-300000000, 300000000])\n",
    "plt.xlabel('t')\n",
    "plt.ylabel('T_H')\n",
    "plt.show()"
   ]
  },
  {
   "cell_type": "code",
   "execution_count": 135,
   "metadata": {},
   "outputs": [
    {
     "data": {
      "image/png": "[encoded data removed]",
      "text/plain": [
       "<Figure size 432x288 with 1 Axes>"
      ]
     },
     "metadata": {
      "needs_background": "light"
     },
     "output_type": "display_data"
    }
   ],
   "source": [
    "plt.plot(t[:len(tmp__)],tmp__[:,1],'-')\n",
    "plt.xlim([-1, dim1//2])\n",
    "plt.ylim([-100000000, 100000000])\n",
    "plt.xlabel('t')\n",
    "plt.ylabel('T_V')\n",
    "plt.show()"
   ]
  },
  {
   "cell_type": "code",
   "execution_count": 136,
   "metadata": {},
   "outputs": [
    {
     "data": {
      "text/plain": [
       "(array([2.10198178e+08]), array([7420762.04724669]))"
      ]
     },
     "execution_count": 136,
     "metadata": {},
     "output_type": "execute_result"
    }
   ],
   "source": [
    "max(tmp__[:,0]), max(tmp__[:,1])"
   ]
  },
  {
   "cell_type": "code",
   "execution_count": 137,
   "metadata": {},
   "outputs": [
    {
     "data": {
      "text/plain": [
       "(array([1.26352622e+08]), array([-7917150.06672654]))"
      ]
     },
     "execution_count": 137,
     "metadata": {},
     "output_type": "execute_result"
    }
   ],
   "source": [
    "min(tmp__[:,0]), min(tmp__[:,1])"
   ]
  },
  {
   "cell_type": "code",
   "execution_count": 138,
   "metadata": {},
   "outputs": [],
   "source": [
    "# (array([28319143.73486871]), array([25605994.71854329])) just waves\n",
    "# (array([28491881.95694733]), array([25520818.9120822]))  positive Fx\n",
    "# (array([28146301.99196166]), array([25687403.50463529])) negative Fx\n",
    "# (array([30076743.25808775]), array([25019302.28641659])) large positive Fx\n",
    "# (array([26618614.2824719]),  array([26179692.06953637])) large negative Fx\n",
    "# (array([3953150.66297572]),  array([1508270.46574422]))  fip=1e10\n",
    "# (array([6746771.13788591]),  array([10057989.37909701])) max_t = 300\n",
    "# (array([2084853.78862965]),  array([766900.49862976])) fip=1e9\n",
    "# (array([1518705.92013393]),  array([361011.0471009])) fip=5e8\n",
    "# (array([2212275.89406135]),  array([634267.05259892])) fip=4e8"
   ]
  },
  {
   "cell_type": "code",
   "execution_count": 139,
   "metadata": {},
   "outputs": [],
   "source": [
    "# ρa = 1.200 * 10**3 # g/m3\n",
    "# ρs=7.850 * 10**6\n",
    "# di = 0.6900 # m\n",
    "# do = 0.7610 "
   ]
  },
  {
   "cell_type": "code",
   "execution_count": 140,
   "metadata": {},
   "outputs": [],
   "source": [
    "# Q=(ρa-ρs)*(di/do)**2+ρs  # g/m3"
   ]
  },
  {
   "cell_type": "code",
   "execution_count": 141,
   "metadata": {},
   "outputs": [],
   "source": [
    "# length=1000"
   ]
  },
  {
   "cell_type": "code",
   "execution_count": 142,
   "metadata": {},
   "outputs": [],
   "source": [
    "# V=math.pi * (do/2)**2 * length - math.pi * (di/2)**2 * length #m3"
   ]
  },
  {
   "cell_type": "code",
   "execution_count": 143,
   "metadata": {},
   "outputs": [],
   "source": [
    "#m3"
   ]
  },
  {
   "cell_type": "code",
   "execution_count": 144,
   "metadata": {},
   "outputs": [],
   "source": [
    "# Q*V/length/1000"
   ]
  }
 ],
 "metadata": {
  "kernelspec": {
   "display_name": "Python 3",
   "language": "python",
   "name": "python3"
  },
  "language_info": {
   "codemirror_mode": {
    "name": "ipython",
    "version": 3
   },
   "file_extension": ".py",
   "mimetype": "text/x-python",
   "name": "python",
   "nbconvert_exporter": "python",
   "pygments_lexer": "ipython3",
   "version": "3.7.7"
  }
 },
 "nbformat": 4,
 "nbformat_minor": 4
}
