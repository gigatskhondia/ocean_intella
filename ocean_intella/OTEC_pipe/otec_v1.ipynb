{
 "cells": [
  {
   "cell_type": "markdown",
   "id": "cb5eeb93",
   "metadata": {},
   "source": [
    "[1] Dynamics of offshore structures, J. F. Wilson (Chapter 10)"
   ]
  },
  {
   "cell_type": "code",
   "execution_count": 1,
   "id": "402e010c",
   "metadata": {},
   "outputs": [],
   "source": [
    "import numpy as np\n",
    "from random import  uniform\n",
    "from sympy import Sum, cos, pi, diff, Symbol,lambdify, solve\n",
    "from sympy.abc import a\n",
    "from datetime import datetime\n",
    "import matplotlib.pyplot as plt\n",
    "from tqdm import tqdm"
   ]
  },
  {
   "cell_type": "code",
   "execution_count": 2,
   "id": "a7328ff6",
   "metadata": {},
   "outputs": [],
   "source": [
    "A = 0.78\n",
    "B = 0.0311\n",
    "B0 = 122\n",
    "c = 5.55\n",
    "CA = 1\n",
    "CM = 2\n",
    "d = 1067\n",
    "D = 9.144\n",
    "e1 = 0.093\n",
    "e2 = 0.05\n",
    "E = 2.07e11\n",
    "EI = 3.94e11\n",
    "g = 9.81\n",
    "K = 1.13e8\n",
    "L = 244 # to 1037 m\n",
    "M0 = 4.54e4 # or 2.27e5\n",
    "M1 = 0.6*M0\n",
    "m_hat = 6.43e4\n",
    "m1_hat = 1.25e3\n",
    "N = 15\n",
    "rho = 962\n",
    "omega1 = 0.1\n",
    "omega_b = 0.503\n",
    "omega_N = 1.5\n",
    "omega_p = 0.4"
   ]
  },
  {
   "cell_type": "code",
   "execution_count": 3,
   "id": "62d7e6b5",
   "metadata": {},
   "outputs": [],
   "source": [
    "# Pierson-Moskowitz spectrum\n",
    "def S_eta(omega):\n",
    "    return A*omega**(-5)*np.exp(-B/omega**4)"
   ]
  },
  {
   "cell_type": "code",
   "execution_count": 4,
   "id": "a3d6a304",
   "metadata": {},
   "outputs": [],
   "source": [
    "def eta(omega_n, del_omega):\n",
    "    return (2*S_eta(omega_n)*del_omega)**0.5"
   ]
  },
  {
   "cell_type": "code",
   "execution_count": 5,
   "id": "5c4dea77",
   "metadata": {},
   "outputs": [
    {
     "data": {
      "text/plain": [
       "0.14288945193592165"
      ]
     },
     "execution_count": 5,
     "metadata": {},
     "output_type": "execute_result"
    }
   ],
   "source": [
    "eta(omega_N, omega_N/N)"
   ]
  },
  {
   "cell_type": "code",
   "execution_count": 6,
   "id": "8e24be74",
   "metadata": {},
   "outputs": [],
   "source": [
    "def R(omega_n):\n",
    "    if 0<omega_n<=omega_b :\n",
    "        return 1\n",
    "    elif omega_b<omega_n<=omega_N:\n",
    "        return 1-(omega_n-omega_b)/(omega_N-omega_b)\n",
    "    else:\n",
    "        return 0"
   ]
  },
  {
   "cell_type": "code",
   "execution_count": 7,
   "id": "6e044010",
   "metadata": {},
   "outputs": [],
   "source": [
    "# heave motion of the barge\n",
    "def H(t, del_omega):\n",
    "    return np.sum([R(i*del_omega)*eta(i*del_omega,del_omega)*cos(i*del_omega*t+uniform(0, 2*pi)) for i in range(1,N+1)])"
   ]
  },
  {
   "cell_type": "code",
   "execution_count": 8,
   "id": "76c7e9a4",
   "metadata": {},
   "outputs": [],
   "source": [
    "def P(x,t):\n",
    "    x_=Symbol('x_')\n",
    "    t_=Symbol('t_')\n",
    "    def P_(x_,t_):\n",
    "        return M1*g + (L-x_)*m1_hat*g + (L-x_)*m_hat*diff(H(t_,omega_N/N),t_,2) + M0*diff(H(t_,omega_N/N),t_,2)\n",
    "    return lambdify((x_, t_), P_(x_,t_), 'numpy')(x,t)"
   ]
  },
  {
   "cell_type": "code",
   "execution_count": 9,
   "id": "7530b378",
   "metadata": {},
   "outputs": [],
   "source": [
    "# sway motion of the barge\n",
    "def S(t, del_omega):\n",
    "    return (eta(omega_p, omega_N/N)*np.sin(e1*omega_p*t+uniform(0, 2*np.pi))+\n",
    "            np.sum([e2*eta(i*del_omega,del_omega)*np.sin(e1*i*del_omega*t+uniform(0, 2*np.pi)) for i in range(int(omega_p/del_omega),N+1)]))"
   ]
  },
  {
   "cell_type": "code",
   "execution_count": 10,
   "id": "836b4e0a",
   "metadata": {},
   "outputs": [],
   "source": [
    "def q_hat(t, x, del_omega, ddv):\n",
    "    z = -x \n",
    "    \n",
    "    def du(z,t,del_omega):\n",
    "        return np.sum( [(i*del_omega)**2*eta(i*del_omega, del_omega)*np.exp((i*del_omega)**2/g*(z+d)*np.sin(i*del_omega*t+uniform(0, 2*np.pi))/np.sinh((i*del_omega)**2/g*d))\n",
    "                   for i in range(1,N+1)])\n",
    "    \n",
    "    return 1.1*0.25*np.pi*CM*rho*D**2*du(z,t,omega_N/N)-0.25*np.pi*CA*rho*D**2*ddv"
   ]
  },
  {
   "cell_type": "code",
   "execution_count": 11,
   "id": "d8388f8b",
   "metadata": {},
   "outputs": [
    {
     "data": {
      "text/plain": [
       "655847.1278749588"
      ]
     },
     "execution_count": 11,
     "metadata": {},
     "output_type": "execute_result"
    }
   ],
   "source": [
    "q_hat(0.1, 10, omega_N/N, .015)"
   ]
  },
  {
   "cell_type": "code",
   "execution_count": null,
   "id": "ab8c104a",
   "metadata": {},
   "outputs": [],
   "source": []
  },
  {
   "cell_type": "markdown",
   "id": "d44d265c",
   "metadata": {},
   "source": [
    "### Finite difference solution"
   ]
  },
  {
   "cell_type": "code",
   "execution_count": 12,
   "id": "5bf6c027",
   "metadata": {},
   "outputs": [],
   "source": [
    "# EI*ddddv_ddddx-dP_dx*dv_dx-P*ddv_ddx+m_hat*ddv=q_hat(x,t)"
   ]
  },
  {
   "cell_type": "code",
   "execution_count": 13,
   "id": "91d04df7",
   "metadata": {},
   "outputs": [],
   "source": [
    "T = 1  # Maximum time bound\n",
    "del_t = 0.05\n",
    "m = 50  # No. of intervals in space\n",
    "n = int(T/del_t)  # No. of intervals in time\n",
    "h = L / m  # Step size in space\n",
    "k = T / n  # Step size in time"
   ]
  },
  {
   "cell_type": "code",
   "execution_count": null,
   "id": "30075fad",
   "metadata": {},
   "outputs": [],
   "source": []
  },
  {
   "cell_type": "code",
   "execution_count": 14,
   "id": "2675ca23",
   "metadata": {},
   "outputs": [],
   "source": [
    "# Initialization of solution\n",
    "v = np.zeros((m + 1, n + 1))\n",
    "\n",
    "# Initial condition\n",
    "ic1 = lambda x: S(x, omega_N/N)  # produces slight variability when called twice in Space discretization below\n",
    "\n",
    "# Space discretization\n",
    "for j in range(1, n + 2):\n",
    "    v[0, j - 1] = ic1((j - 1) * h)\n",
    "    v[1, j - 1] = ic1((j - 1) * h)"
   ]
  },
  {
   "cell_type": "code",
   "execution_count": 15,
   "id": "e46749a5",
   "metadata": {},
   "outputs": [],
   "source": [
    "# Boundary condition\n",
    "# b1 = lambda t: 0  # U.B.C\n",
    "# b2 = lambda t: 0  # D.B.C"
   ]
  },
  {
   "cell_type": "code",
   "execution_count": 16,
   "id": "72f488c4",
   "metadata": {},
   "outputs": [],
   "source": [
    "# Time discretization\n",
    "# for i in range(1, m + 2):\n",
    "#     v[i - 1, 0] = b1((i - 1) * k)\n",
    "#     v[i - 1, n] = b2((i - 1) * k)"
   ]
  },
  {
   "cell_type": "code",
   "execution_count": null,
   "id": "62e964fd",
   "metadata": {},
   "outputs": [],
   "source": []
  },
  {
   "cell_type": "code",
   "execution_count": 17,
   "id": "46b0789b",
   "metadata": {},
   "outputs": [
    {
     "data": {
      "text/plain": [
       "(51, 21)"
      ]
     },
     "execution_count": 17,
     "metadata": {},
     "output_type": "execute_result"
    }
   ],
   "source": [
    "v.shape"
   ]
  },
  {
   "cell_type": "code",
   "execution_count": 18,
   "id": "fe42d95b",
   "metadata": {},
   "outputs": [],
   "source": [
    "y2=Symbol('y2')"
   ]
  },
  {
   "cell_type": "code",
   "execution_count": 19,
   "id": "99dcfff3",
   "metadata": {},
   "outputs": [],
   "source": [
    "def ddddv_ddddx(y0,y1,y2,y3,y4,h):\n",
    "    return (y0-4*y1+6*y2-4*y3+y4)/h**4"
   ]
  },
  {
   "cell_type": "code",
   "execution_count": 20,
   "id": "8893bc1e",
   "metadata": {},
   "outputs": [],
   "source": [
    "def ddv_ddx(y1,y2,y3, h):\n",
    "    return (y1-2*y2+y3)/h**2"
   ]
  },
  {
   "cell_type": "code",
   "execution_count": 21,
   "id": "783cdcf8",
   "metadata": {},
   "outputs": [],
   "source": [
    "def dv_dx(y1,y2,h):\n",
    "    return (y2-y1)/(2*h)"
   ]
  },
  {
   "cell_type": "code",
   "execution_count": 22,
   "id": "f834f39e",
   "metadata": {},
   "outputs": [],
   "source": [
    "def dP_dx(x1,x2,h,t):\n",
    "    return (P(x2,t)-P(x1,t))/(2*h)"
   ]
  },
  {
   "cell_type": "code",
   "execution_count": 23,
   "id": "533b5539",
   "metadata": {},
   "outputs": [],
   "source": [
    "def gov_eq(y0, y1, y2, y3, y4,t0,t2, h, k, x,t):\n",
    "    return (EI*ddddv_ddddx(y0,y1,y2,y3,y4,h)-dP_dx(x-h,x+h,h,t)*dv_dx(y1,y3,h)\n",
    "            -P(x,t)*ddv_ddx(y1,y2,y3, h)+m_hat*ddv_ddx(t0,y2,t2, k)-q_hat(x,t,omega_N/N,ddv_ddx(t0,y2,t2, k)))"
   ]
  },
  {
   "cell_type": "code",
   "execution_count": 24,
   "id": "74027610",
   "metadata": {},
   "outputs": [
    {
     "name": "stderr",
     "output_type": "stream",
     "text": [
      "100%|███████████████████████████████████████████| 47/47 [00:20<00:00,  2.25it/s]\n",
      "100%|███████████████████████████████████████████| 47/47 [00:20<00:00,  2.25it/s]\n",
      "100%|███████████████████████████████████████████| 47/47 [00:20<00:00,  2.25it/s]\n",
      "100%|███████████████████████████████████████████| 47/47 [00:20<00:00,  2.24it/s]\n",
      "100%|███████████████████████████████████████████| 47/47 [00:21<00:00,  2.14it/s]\n",
      "100%|███████████████████████████████████████████| 47/47 [00:22<00:00,  2.07it/s]\n",
      "100%|███████████████████████████████████████████| 47/47 [00:20<00:00,  2.26it/s]\n",
      "100%|███████████████████████████████████████████| 47/47 [00:22<00:00,  2.13it/s]\n",
      "100%|███████████████████████████████████████████| 47/47 [00:22<00:00,  2.09it/s]\n",
      "100%|███████████████████████████████████████████| 47/47 [00:22<00:00,  2.11it/s]\n",
      "100%|███████████████████████████████████████████| 47/47 [00:23<00:00,  2.04it/s]\n",
      "100%|███████████████████████████████████████████| 47/47 [00:22<00:00,  2.07it/s]\n",
      "100%|███████████████████████████████████████████| 47/47 [00:22<00:00,  2.10it/s]\n",
      "100%|███████████████████████████████████████████| 47/47 [00:22<00:00,  2.07it/s]\n",
      "100%|███████████████████████████████████████████| 47/47 [00:22<00:00,  2.08it/s]\n",
      "100%|███████████████████████████████████████████| 47/47 [00:21<00:00,  2.18it/s]\n",
      "100%|███████████████████████████████████████████| 47/47 [00:21<00:00,  2.22it/s]\n",
      "100%|███████████████████████████████████████████| 47/47 [00:21<00:00,  2.23it/s]\n",
      "100%|███████████████████████████████████████████| 47/47 [00:21<00:00,  2.23it/s]"
     ]
    },
    {
     "name": "stdout",
     "output_type": "stream",
     "text": [
      "0:06:54.322683\n"
     ]
    },
    {
     "name": "stderr",
     "output_type": "stream",
     "text": [
      "\n"
     ]
    }
   ],
   "source": [
    "startTime1 = datetime.now()\n",
    "for j in range(1, n):\n",
    "    for i in tqdm(range(2, m-1)): # the range must start from i=2 ?\n",
    "        v[i][j] = solve(gov_eq(v[i - 2, j], v[i - 1, j], y2, v[i +1, j], v[i + 2, j], v[i , j-1], v[i , j+1], h, k, i*h,j*k), y2)[0]  \n",
    "print(datetime.now() - startTime1)        "
   ]
  },
  {
   "cell_type": "code",
   "execution_count": 25,
   "id": "3edf3737",
   "metadata": {},
   "outputs": [
    {
     "data": {
      "text/plain": [
       "2.236840446820195"
      ]
     },
     "execution_count": 25,
     "metadata": {},
     "output_type": "execute_result"
    }
   ],
   "source": [
    "np.max(v)"
   ]
  },
  {
   "cell_type": "code",
   "execution_count": 26,
   "id": "b7b4df4f",
   "metadata": {},
   "outputs": [
    {
     "name": "stdout",
     "output_type": "stream",
     "text": [
      "Stable\n"
     ]
    }
   ],
   "source": [
    "if np.max(v)/L<1:\n",
    "    print(\"Stable\")\n",
    "else:\n",
    "    print(\"Unbounded pipe response\")"
   ]
  },
  {
   "cell_type": "code",
   "execution_count": null,
   "id": "c580fc73",
   "metadata": {},
   "outputs": [],
   "source": []
  },
  {
   "cell_type": "code",
   "execution_count": 27,
   "id": "d97477ee",
   "metadata": {},
   "outputs": [
    {
     "data": {
      "image/png": "[encoded data removed]",
      "text/plain": [
       "<Figure size 640x480 with 1 Axes>"
      ]
     },
     "metadata": {},
     "output_type": "display_data"
    }
   ],
   "source": [
    "# Visualization\n",
    "x_ = np.linspace(0, L, m + 1 )\n",
    "t_ = np.linspace(0, T, n + 1)\n",
    "X, T = np.meshgrid(x_, t_)\n",
    "\n",
    "fig = plt.figure()\n",
    "ax = fig.add_subplot(111, projection='3d')\n",
    "ax.plot_surface(X, T, v.T, cmap='viridis')\n",
    "ax.set_xlabel('Space X')\n",
    "ax.set_ylabel('Time T')\n",
    "ax.set_zlabel('V')\n",
    "plt.title('Python Program for OTEC pipe')\n",
    "plt.show()"
   ]
  },
  {
   "cell_type": "code",
   "execution_count": 28,
   "id": "51b942c0",
   "metadata": {},
   "outputs": [
    {
     "data": {
      "text/plain": [
       "0.0003313487917027652"
      ]
     },
     "execution_count": 28,
     "metadata": {},
     "output_type": "execute_result"
    }
   ],
   "source": [
    "np.max(v[-3])"
   ]
  },
  {
   "cell_type": "code",
   "execution_count": 29,
   "id": "c788e7ba",
   "metadata": {},
   "outputs": [
    {
     "data": {
      "text/plain": [
       "1.4133524531697303"
      ]
     },
     "execution_count": 29,
     "metadata": {},
     "output_type": "execute_result"
    }
   ],
   "source": [
    "np.max(v[2])"
   ]
  },
  {
   "cell_type": "code",
   "execution_count": 30,
   "id": "4c20731e",
   "metadata": {},
   "outputs": [
    {
     "data": {
      "text/plain": [
       "0.6941224245837833"
      ]
     },
     "execution_count": 30,
     "metadata": {},
     "output_type": "execute_result"
    }
   ],
   "source": [
    "np.max(v[3])"
   ]
  },
  {
   "cell_type": "code",
   "execution_count": 31,
   "id": "4cab32fe",
   "metadata": {},
   "outputs": [
    {
     "data": {
      "text/plain": [
       "0.2353116590682293"
      ]
     },
     "execution_count": 31,
     "metadata": {},
     "output_type": "execute_result"
    }
   ],
   "source": [
    "np.max(v[4])"
   ]
  },
  {
   "cell_type": "code",
   "execution_count": 32,
   "id": "d4b64392",
   "metadata": {},
   "outputs": [
    {
     "data": {
      "text/plain": [
       "0.042574658891383135"
      ]
     },
     "execution_count": 32,
     "metadata": {},
     "output_type": "execute_result"
    }
   ],
   "source": [
    "np.max(v[5])"
   ]
  },
  {
   "cell_type": "code",
   "execution_count": 33,
   "id": "a108927f",
   "metadata": {},
   "outputs": [],
   "source": [
    "# 0.00033134795191650364,, 2 sec\n",
    "# 0.0003313502984314237,, 3 sec\n",
    "# 0.0003313437471720979,  2.2776320226238616,  5 sec\n",
    "# 0.00033134747576659334, 2.4078763206688865 ,  20 sec"
   ]
  },
  {
   "cell_type": "code",
   "execution_count": 34,
   "id": "088bc956",
   "metadata": {},
   "outputs": [
    {
     "data": {
      "text/plain": [
       "<matplotlib.image.AxesImage at 0x147479d00>"
      ]
     },
     "execution_count": 34,
     "metadata": {},
     "output_type": "execute_result"
    },
    {
     "data": {
      "image/png": "[encoded data removed]",
      "text/plain": [
       "<Figure size 400x971.429 with 1 Axes>"
      ]
     },
     "metadata": {},
     "output_type": "display_data"
    }
   ],
   "source": [
    "plt.matshow(v)"
   ]
  },
  {
   "cell_type": "code",
   "execution_count": null,
   "id": "f0b2bd15",
   "metadata": {},
   "outputs": [],
   "source": []
  },
  {
   "cell_type": "markdown",
   "id": "b1482946",
   "metadata": {},
   "source": [
    "Other references:"
   ]
  },
  {
   "cell_type": "markdown",
   "id": "e95c20dc",
   "metadata": {},
   "source": [
    "https://medium.com/@ghartirem072/scientific-computing-with-python-application-of-finite-difference-method-70fd9edff112"
   ]
  },
  {
   "cell_type": "markdown",
   "id": "c58a2ae5",
   "metadata": {},
   "source": [
    "https://pythonnumericalmethods.studentorg.berkeley.edu/notebooks/chapter23.03-Finite-Difference-Method.html"
   ]
  },
  {
   "cell_type": "code",
   "execution_count": null,
   "id": "b856ade9",
   "metadata": {},
   "outputs": [],
   "source": []
  }
 ],
 "metadata": {
  "kernelspec": {
   "display_name": "Python 3 (ipykernel)",
   "language": "python",
   "name": "python3"
  },
  "language_info": {
   "codemirror_mode": {
    "name": "ipython",
    "version": 3
   },
   "file_extension": ".py",
   "mimetype": "text/x-python",
   "name": "python",
   "nbconvert_exporter": "python",
   "pygments_lexer": "ipython3",
   "version": "3.9.6"
  }
 },
 "nbformat": 4,
 "nbformat_minor": 5
}
