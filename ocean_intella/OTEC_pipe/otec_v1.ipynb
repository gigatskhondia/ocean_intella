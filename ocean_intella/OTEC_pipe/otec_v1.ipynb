{
 "cells": [
  {
   "cell_type": "markdown",
   "id": "cb5eeb93",
   "metadata": {},
   "source": [
    "[1] Dynamics of offshore structures, J. F. Wilson (Chapter 10)"
   ]
  },
  {
   "cell_type": "code",
   "execution_count": 1,
   "id": "402e010c",
   "metadata": {},
   "outputs": [],
   "source": [
    "import numpy as np\n",
    "from random import  uniform\n",
    "from sympy import Sum, cos, pi, diff, Symbol,lambdify\n",
    "from sympy.abc import a"
   ]
  },
  {
   "cell_type": "code",
   "execution_count": 2,
   "id": "a7328ff6",
   "metadata": {},
   "outputs": [],
   "source": [
    "A = 0.78\n",
    "B = 0.0311\n",
    "B0 = 122\n",
    "c = 5.55\n",
    "CA = 1\n",
    "CM = 2\n",
    "d = 1067\n",
    "D = 9.144\n",
    "e1 = 0.093\n",
    "e2 = 0.05\n",
    "E = 2.07e11\n",
    "EI = 3.94e10\n",
    "g = 9.81\n",
    "K = 1.13e8\n",
    "L = 61 # to 1037 m\n",
    "M0 = 4.54e10 # 2.27e5\n",
    "M1 = 0.6*M0\n",
    "m_hat = 6.43e4\n",
    "m1_hat = 1.25e3\n",
    "N = 15\n",
    "rho = 962\n",
    "omega1 = 0.1\n",
    "omega_b = 0.503\n",
    "omega_N = 1.5\n",
    "omega_p = 0.4"
   ]
  },
  {
   "cell_type": "code",
   "execution_count": 3,
   "id": "62d7e6b5",
   "metadata": {},
   "outputs": [],
   "source": [
    "def S_eta(omega):\n",
    "    return A*omega**(-5)*np.exp(-B/omega**4)"
   ]
  },
  {
   "cell_type": "code",
   "execution_count": 4,
   "id": "a3d6a304",
   "metadata": {},
   "outputs": [],
   "source": [
    "def eta(omega_n, del_omega):\n",
    "    return (2*S_eta(omega_n)*del_omega)**0.5"
   ]
  },
  {
   "cell_type": "code",
   "execution_count": 5,
   "id": "5c4dea77",
   "metadata": {},
   "outputs": [
    {
     "data": {
      "text/plain": [
       "0.14288945193592165"
      ]
     },
     "execution_count": 5,
     "metadata": {},
     "output_type": "execute_result"
    }
   ],
   "source": [
    "eta(omega_N, omega_N/N)"
   ]
  },
  {
   "cell_type": "code",
   "execution_count": 6,
   "id": "8e24be74",
   "metadata": {},
   "outputs": [],
   "source": [
    "def R(omega_n):\n",
    "    if 0<omega_n<=omega_b :\n",
    "        return 1\n",
    "    elif omega_b<omega_n<=omega_N:\n",
    "        return 1-(omega_n-omega_b)/(omega_N-omega_b)\n",
    "    else:\n",
    "        return 0"
   ]
  },
  {
   "cell_type": "code",
   "execution_count": 7,
   "id": "6e044010",
   "metadata": {},
   "outputs": [],
   "source": [
    "def H(t, del_omega):\n",
    "    return sum(R(i*del_omega)*eta(i*del_omega,del_omega)*cos(i*del_omega*t+uniform(0, 2*pi)) for i in range(1,N+1) )"
   ]
  },
  {
   "cell_type": "code",
   "execution_count": 8,
   "id": "76c7e9a4",
   "metadata": {},
   "outputs": [],
   "source": [
    "def P(x,t):\n",
    "    x_=Symbol('x_')\n",
    "    t_=Symbol('t_')\n",
    "    def P_(x_,t_):\n",
    "        return M1*g + (L-x_)*m1_hat*g + (L-x_)*m_hat*diff(H(t_,omega_N/N),t_,2) + M0*diff(H(t_,omega_N/N),t_,2)\n",
    "    return lambdify((x_, t_), P_(x_,t_), 'numpy')(x,t)"
   ]
  },
  {
   "cell_type": "code",
   "execution_count": 9,
   "id": "7530b378",
   "metadata": {},
   "outputs": [],
   "source": [
    "def S(t, del_omega):\n",
    "    return (eta(omega_p, omega_N/N)*np.sin(e1*omega_p*t+uniform(0, 2*np.pi))+\n",
    "            sum(e2*eta(i*del_omega,del_omega)*np.sin(e1*i*del_omega*t+uniform(0, 2*np.pi)) for i in range(int(omega_p/del_omega),N+1)))"
   ]
  },
  {
   "cell_type": "code",
   "execution_count": 10,
   "id": "836b4e0a",
   "metadata": {},
   "outputs": [],
   "source": [
    "def q(t, x, del_omega, ddv):\n",
    "    z = -x\n",
    "    pass"
   ]
  },
  {
   "cell_type": "code",
   "execution_count": null,
   "id": "d8388f8b",
   "metadata": {},
   "outputs": [],
   "source": []
  },
  {
   "cell_type": "code",
   "execution_count": 11,
   "id": "5e959c77",
   "metadata": {},
   "outputs": [],
   "source": [
    "# https://medium.com/@ghartirem072/scientific-computing-with-python-application-of-finite-difference-method-70fd9edff112"
   ]
  },
  {
   "cell_type": "code",
   "execution_count": 12,
   "id": "fc6322ea",
   "metadata": {},
   "outputs": [],
   "source": [
    "# https://pythonnumericalmethods.studentorg.berkeley.edu/notebooks/chapter23.03-Finite-Difference-Method.html"
   ]
  },
  {
   "cell_type": "code",
   "execution_count": null,
   "id": "e9d1f4b9",
   "metadata": {},
   "outputs": [],
   "source": []
  }
 ],
 "metadata": {
  "kernelspec": {
   "display_name": "Python 3 (ipykernel)",
   "language": "python",
   "name": "python3"
  },
  "language_info": {
   "codemirror_mode": {
    "name": "ipython",
    "version": 3
   },
   "file_extension": ".py",
   "mimetype": "text/x-python",
   "name": "python",
   "nbconvert_exporter": "python",
   "pygments_lexer": "ipython3",
   "version": "3.9.6"
  }
 },
 "nbformat": 4,
 "nbformat_minor": 5
}
