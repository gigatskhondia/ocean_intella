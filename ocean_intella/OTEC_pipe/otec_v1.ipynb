{
 "cells": [
  {
   "cell_type": "markdown",
   "id": "cb5eeb93",
   "metadata": {},
   "source": [
    "[1] Dynamics of offshore structures, J. F. Wilson (Chapter 10)"
   ]
  },
  {
   "cell_type": "code",
   "execution_count": 1,
   "id": "402e010c",
   "metadata": {},
   "outputs": [],
   "source": [
    "import numpy as np\n",
    "from random import  uniform\n",
    "from sympy import Sum, cos, pi, diff, Symbol,lambdify, solve\n",
    "from sympy.abc import a\n",
    "from datetime import datetime\n",
    "import matplotlib.pyplot as plt"
   ]
  },
  {
   "cell_type": "code",
   "execution_count": 2,
   "id": "a7328ff6",
   "metadata": {},
   "outputs": [],
   "source": [
    "A = 0.78\n",
    "B = 0.0311\n",
    "B0 = 122\n",
    "c = 5.55\n",
    "CA = 1\n",
    "CM = 2\n",
    "d = 1067\n",
    "D = 9.144\n",
    "e1 = 0.093\n",
    "e2 = 0.05\n",
    "E = 2.07e11\n",
    "EI = 3.94e11\n",
    "g = 9.81\n",
    "K = 1.13e8\n",
    "L = 61 # to 1037 m\n",
    "M0 = 4.54e4 # or 2.27e5\n",
    "M1 = 0.6*M0\n",
    "m_hat = 6.43e4\n",
    "m1_hat = 1.25e3\n",
    "N = 15\n",
    "rho = 962\n",
    "omega1 = 0.1\n",
    "omega_b = 0.503\n",
    "omega_N = 1.5\n",
    "omega_p = 0.4"
   ]
  },
  {
   "cell_type": "code",
   "execution_count": 3,
   "id": "62d7e6b5",
   "metadata": {},
   "outputs": [],
   "source": [
    "# Pierson-Moskowitz spectrum\n",
    "def S_eta(omega):\n",
    "    return A*omega**(-5)*np.exp(-B/omega**4)"
   ]
  },
  {
   "cell_type": "code",
   "execution_count": 4,
   "id": "a3d6a304",
   "metadata": {},
   "outputs": [],
   "source": [
    "def eta(omega_n, del_omega):\n",
    "    return (2*S_eta(omega_n)*del_omega)**0.5"
   ]
  },
  {
   "cell_type": "code",
   "execution_count": 5,
   "id": "5c4dea77",
   "metadata": {},
   "outputs": [
    {
     "data": {
      "text/plain": [
       "0.14288945193592165"
      ]
     },
     "execution_count": 5,
     "metadata": {},
     "output_type": "execute_result"
    }
   ],
   "source": [
    "eta(omega_N, omega_N/N)"
   ]
  },
  {
   "cell_type": "code",
   "execution_count": 6,
   "id": "8e24be74",
   "metadata": {},
   "outputs": [],
   "source": [
    "def R(omega_n):\n",
    "    if 0<omega_n<=omega_b :\n",
    "        return 1\n",
    "    elif omega_b<omega_n<=omega_N:\n",
    "        return 1-(omega_n-omega_b)/(omega_N-omega_b)\n",
    "    else:\n",
    "        return 0"
   ]
  },
  {
   "cell_type": "code",
   "execution_count": 7,
   "id": "6e044010",
   "metadata": {},
   "outputs": [],
   "source": [
    "# heave motion of the barge\n",
    "def H(t, del_omega):\n",
    "    return np.sum(R(i*del_omega)*eta(i*del_omega,del_omega)*cos(i*del_omega*t+uniform(0, 2*pi)) for i in range(1,N+1) )"
   ]
  },
  {
   "cell_type": "code",
   "execution_count": 8,
   "id": "76c7e9a4",
   "metadata": {},
   "outputs": [],
   "source": [
    "def P(x,t):\n",
    "    x_=Symbol('x_')\n",
    "    t_=Symbol('t_')\n",
    "    def P_(x_,t_):\n",
    "        return M1*g + (L-x_)*m1_hat*g + (L-x_)*m_hat*diff(H(t_,omega_N/N),t_,2) + M0*diff(H(t_,omega_N/N),t_,2)\n",
    "    return lambdify((x_, t_), P_(x_,t_), 'numpy')(x,t)"
   ]
  },
  {
   "cell_type": "code",
   "execution_count": 9,
   "id": "7530b378",
   "metadata": {},
   "outputs": [],
   "source": [
    "# sway motion of the barge\n",
    "def S(t, del_omega):\n",
    "    return (eta(omega_p, omega_N/N)*np.sin(e1*omega_p*t+uniform(0, 2*np.pi))+\n",
    "            np.sum(e2*eta(i*del_omega,del_omega)*np.sin(e1*i*del_omega*t+uniform(0, 2*np.pi)) for i in range(int(omega_p/del_omega),N+1)))"
   ]
  },
  {
   "cell_type": "code",
   "execution_count": 10,
   "id": "836b4e0a",
   "metadata": {},
   "outputs": [],
   "source": [
    "def q_hat(t, x, del_omega, ddv):\n",
    "    z = -x\n",
    "    \n",
    "    def du(z,t,del_omega):\n",
    "        return sum( (i*del_omega)**2*eta(i*del_omega, del_omega)*np.exp((i*del_omega)**2/g*(z+d)*np.sin(i*del_omega*t+uniform(0, 2*np.pi))/np.sinh((i*del_omega)**2/g*d))\n",
    "                   for i in range(1,N+1))\n",
    "    \n",
    "    return 1.1*0.25*np.pi*CM*rho*D**2*du(z,t,omega_N/N)-0.25*np.pi*CA*rho*D**2*ddv"
   ]
  },
  {
   "cell_type": "code",
   "execution_count": 11,
   "id": "d8388f8b",
   "metadata": {},
   "outputs": [
    {
     "data": {
      "text/plain": [
       "655868.5332760524"
      ]
     },
     "execution_count": 11,
     "metadata": {},
     "output_type": "execute_result"
    }
   ],
   "source": [
    "q_hat(0.1, 10, omega_N/N, .015)"
   ]
  },
  {
   "cell_type": "code",
   "execution_count": null,
   "id": "202813aa",
   "metadata": {},
   "outputs": [],
   "source": []
  },
  {
   "cell_type": "markdown",
   "id": "bf5c222b",
   "metadata": {},
   "source": [
    "### Finite difference solution"
   ]
  },
  {
   "cell_type": "code",
   "execution_count": 12,
   "id": "c427d97e",
   "metadata": {},
   "outputs": [],
   "source": [
    "# EI*ddddv_ddddx-dP_dx*dv_dx-P*ddv_ddx+m_hat*ddv=q_hat(x,t)"
   ]
  },
  {
   "cell_type": "code",
   "execution_count": 13,
   "id": "88a9e3fb",
   "metadata": {},
   "outputs": [],
   "source": [
    "T = 10  # Maximum time bound\n",
    "del_t = 0.1\n",
    "m = 50  # No. of intervals in space\n",
    "n = int(T/del_t)  # No. of intervals in time\n",
    "h = L / m  # Step size in space\n",
    "k = T / n  # Step size in time\n"
   ]
  },
  {
   "cell_type": "code",
   "execution_count": null,
   "id": "7d741dc5",
   "metadata": {},
   "outputs": [],
   "source": []
  },
  {
   "cell_type": "code",
   "execution_count": 14,
   "id": "0a4800c8",
   "metadata": {},
   "outputs": [],
   "source": [
    "# Initialization of solution\n",
    "v = np.zeros((m + 1, n + 1))\n",
    "\n",
    "# Initial condition\n",
    "ic1 = lambda x: S(x, omega_N/N) \n",
    "\n",
    "# Space discretization\n",
    "for j in range(1, n + 2):\n",
    "    v[0, j - 1] = ic1((j - 1) * h)"
   ]
  },
  {
   "cell_type": "code",
   "execution_count": 15,
   "id": "916f2932",
   "metadata": {},
   "outputs": [],
   "source": [
    "# Boundary condition\n",
    "b1 = lambda t: 0  # U.B.C\n",
    "b2 = lambda t: 0  # D.B.C"
   ]
  },
  {
   "cell_type": "code",
   "execution_count": 16,
   "id": "c61305ee",
   "metadata": {},
   "outputs": [],
   "source": [
    "# Time discretization\n",
    "for i in range(1, m + 2):\n",
    "    v[i - 1, 0] = b1((i - 1) * k)\n",
    "    v[i - 1, n] = b2((i - 1) * k)"
   ]
  },
  {
   "cell_type": "code",
   "execution_count": null,
   "id": "2007d832",
   "metadata": {},
   "outputs": [],
   "source": []
  },
  {
   "cell_type": "code",
   "execution_count": 17,
   "id": "1c624ef7",
   "metadata": {},
   "outputs": [
    {
     "data": {
      "text/plain": [
       "(51, 101)"
      ]
     },
     "execution_count": 17,
     "metadata": {},
     "output_type": "execute_result"
    }
   ],
   "source": [
    "v.shape"
   ]
  },
  {
   "cell_type": "code",
   "execution_count": 18,
   "id": "922c76f4",
   "metadata": {},
   "outputs": [],
   "source": [
    "# Time discretization\n",
    "for i in range(1, n + 1):\n",
    "    v[0, i] = b1((i - 1) * k)"
   ]
  },
  {
   "cell_type": "code",
   "execution_count": 19,
   "id": "9e5b9eb1",
   "metadata": {},
   "outputs": [],
   "source": [
    "y2=Symbol('y2')"
   ]
  },
  {
   "cell_type": "code",
   "execution_count": 20,
   "id": "2d6ce0ae",
   "metadata": {},
   "outputs": [],
   "source": [
    "def ddddv_ddddx(y0,y1,y2,y3,y4,h):\n",
    "    return (y0-4*y1+6*y2-4*y3+y4)/h**4"
   ]
  },
  {
   "cell_type": "code",
   "execution_count": 21,
   "id": "e681a9fe",
   "metadata": {},
   "outputs": [],
   "source": [
    "def ddv_ddx(y1,y2,y3, h):\n",
    "    return (y1-2*y2+y3)/h**2"
   ]
  },
  {
   "cell_type": "code",
   "execution_count": 22,
   "id": "aa384fa2",
   "metadata": {},
   "outputs": [],
   "source": [
    "def dv_dx(y1,y2,h):\n",
    "    return (y2-y1)/(2*h)"
   ]
  },
  {
   "cell_type": "code",
   "execution_count": 23,
   "id": "02f5cb0c",
   "metadata": {},
   "outputs": [],
   "source": [
    "def dP_dx(x1,x2,h,t):\n",
    "    return (P(x2,t)-P(x1,t))/(2*h)"
   ]
  },
  {
   "cell_type": "code",
   "execution_count": 24,
   "id": "e8b08509",
   "metadata": {},
   "outputs": [],
   "source": [
    "def gov_eq(y0, y1, y2, y3, y4,t0,t2, h, k, x,t):\n",
    "    return (EI*ddddv_ddddx(y0,y1,y2,y3,y4,h)-dP_dx(x,x+h,h,t)*dv_dx(y1,y2,h)\n",
    "            -P(x,t)*ddv_ddx(y1,y2,y3, h)+m_hat*ddv_ddx(t0,y2,t2, k)-q_hat(x,t,omega_N/N,ddv_ddx(t0,y2,t2, k)))"
   ]
  },
  {
   "cell_type": "code",
   "execution_count": null,
   "id": "c906b3f4",
   "metadata": {},
   "outputs": [],
   "source": [
    "startTime1 = datetime.now()\n",
    "max_v = -float('inf')\n",
    "res = np.zeros(v.shape)\n",
    "for i in range(1, m-1):\n",
    "    for j in range(1, n):\n",
    "        res[i][j] = solve(gov_eq(v[i - 2, j], v[i - 1, j], y2, v[i +1, j], v[i + 2, j], v[i , j-1], v[i , j+1], h, k, i*h,j*k), y2)[0]\n",
    "        max_v = max(max_v,res[i][j])  \n",
    "print(datetime.now() - startTime1)        "
   ]
  },
  {
   "cell_type": "code",
   "execution_count": null,
   "id": "fe09c11d",
   "metadata": {},
   "outputs": [],
   "source": [
    "max_v"
   ]
  },
  {
   "cell_type": "code",
   "execution_count": null,
   "id": "e7b90001",
   "metadata": {},
   "outputs": [],
   "source": [
    "if max_v/L<1:\n",
    "    print(\"Stable\")\n",
    "else:\n",
    "    print(\"Unbounded pipe response\")"
   ]
  },
  {
   "cell_type": "code",
   "execution_count": null,
   "id": "4271ceb9",
   "metadata": {},
   "outputs": [],
   "source": [
    "# Visualization\n",
    "x_ = np.linspace(0, L, m + 1 )\n",
    "t_ = np.linspace(0, T, n + 1)\n",
    "X, T = np.meshgrid(x_, t_)\n",
    "\n",
    "fig = plt.figure()\n",
    "ax = fig.add_subplot(111, projection='3d')\n",
    "ax.plot_surface(X, T, res.T, cmap='viridis')\n",
    "ax.set_xlabel('Space X')\n",
    "ax.set_ylabel('Time T')\n",
    "ax.set_zlabel('V')\n",
    "plt.title('Python Program for OTEC pipe')\n",
    "plt.show()"
   ]
  },
  {
   "cell_type": "code",
   "execution_count": null,
   "id": "919a2265",
   "metadata": {},
   "outputs": [],
   "source": []
  },
  {
   "cell_type": "markdown",
   "id": "f8e9233e",
   "metadata": {},
   "source": [
    "Other references:"
   ]
  },
  {
   "cell_type": "markdown",
   "id": "4576afa7",
   "metadata": {},
   "source": [
    "https://medium.com/@ghartirem072/scientific-computing-with-python-application-of-finite-difference-method-70fd9edff112"
   ]
  },
  {
   "cell_type": "markdown",
   "id": "147f7119",
   "metadata": {},
   "source": [
    "https://pythonnumericalmethods.studentorg.berkeley.edu/notebooks/chapter23.03-Finite-Difference-Method.html"
   ]
  }
 ],
 "metadata": {
  "kernelspec": {
   "display_name": "Python 3 (ipykernel)",
   "language": "python",
   "name": "python3"
  },
  "language_info": {
   "codemirror_mode": {
    "name": "ipython",
    "version": 3
   },
   "file_extension": ".py",
   "mimetype": "text/x-python",
   "name": "python",
   "nbconvert_exporter": "python",
   "pygments_lexer": "ipython3",
   "version": "3.9.6"
  }
 },
 "nbformat": 4,
 "nbformat_minor": 5
}
