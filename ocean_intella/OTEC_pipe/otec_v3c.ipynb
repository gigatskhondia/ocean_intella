{
 "cells": [
  {
   "cell_type": "markdown",
   "id": "cb5eeb93",
   "metadata": {},
   "source": [
    "[1] Dynamics of offshore structures, J. F. Wilson (Chapter 10)"
   ]
  },
  {
   "cell_type": "code",
   "execution_count": 1,
   "id": "402e010c",
   "metadata": {},
   "outputs": [],
   "source": [
    "import numpy as np\n",
    "from random import  uniform\n",
    "from sympy import diff, Symbol,lambdify, solve, cos, pi\n",
    "from datetime import datetime\n",
    "import matplotlib.pyplot as plt\n",
    "from tqdm import tqdm"
   ]
  },
  {
   "cell_type": "code",
   "execution_count": 2,
   "id": "a7328ff6",
   "metadata": {},
   "outputs": [],
   "source": [
    "A = 0.78\n",
    "B = 0.0311\n",
    "B0 = 122\n",
    "c = 5.55\n",
    "CA = 1\n",
    "CM = 2\n",
    "d = 1067\n",
    "D = 9.144\n",
    "e1 = 0.093\n",
    "e2 = 0.05\n",
    "E = 2.07e11\n",
    "EI = 3.94e11\n",
    "g = 9.81\n",
    "K = 1.13e8\n",
    "L = 61 \n",
    "M0 = 4.54e4 # or 2.27e5\n",
    "M1 = 0.6*M0\n",
    "m_hat = 6.43e4\n",
    "m1_hat = 1.25e3\n",
    "N = 15\n",
    "rho = 962\n",
    "omega1 = 0.1\n",
    "omega_b = 0.503\n",
    "omega_N = 1.5\n",
    "omega_p = 0.4"
   ]
  },
  {
   "cell_type": "code",
   "execution_count": 3,
   "id": "62d7e6b5",
   "metadata": {},
   "outputs": [],
   "source": [
    "# Pierson-Moskowitz spectrum\n",
    "def S_eta(omega):\n",
    "    return A*omega**(-5)*np.exp(-B/omega**4)"
   ]
  },
  {
   "cell_type": "code",
   "execution_count": 4,
   "id": "a3d6a304",
   "metadata": {},
   "outputs": [],
   "source": [
    "def eta(omega_n, del_omega):\n",
    "    return (2*S_eta(omega_n)*del_omega)**0.5"
   ]
  },
  {
   "cell_type": "code",
   "execution_count": 5,
   "id": "5c4dea77",
   "metadata": {},
   "outputs": [
    {
     "data": {
      "text/plain": [
       "0.14288945193592165"
      ]
     },
     "execution_count": 5,
     "metadata": {},
     "output_type": "execute_result"
    }
   ],
   "source": [
    "eta(omega_N, omega_N/N)"
   ]
  },
  {
   "cell_type": "code",
   "execution_count": 6,
   "id": "8e24be74",
   "metadata": {},
   "outputs": [],
   "source": [
    "def R(omega_n):\n",
    "    if 0<omega_n<=omega_b :\n",
    "        return 1\n",
    "    elif omega_b<omega_n<=omega_N:\n",
    "        return 1-(omega_n-omega_b)/(omega_N-omega_b)\n",
    "    else:\n",
    "        return 0"
   ]
  },
  {
   "cell_type": "code",
   "execution_count": 7,
   "id": "6e044010",
   "metadata": {},
   "outputs": [],
   "source": [
    "# heave motion of the barge\n",
    "def H(t, del_omega):\n",
    "    return np.sum([R(i*del_omega)*eta(i*del_omega,del_omega)*cos(i*del_omega*t+uniform(0, 2*pi)) \n",
    "                   for i in range(1,N+1)])"
   ]
  },
  {
   "cell_type": "code",
   "execution_count": 8,
   "id": "76c7e9a4",
   "metadata": {},
   "outputs": [],
   "source": [
    "def P(x,t, del_omega):\n",
    "    x_=Symbol('x_')\n",
    "    t_=Symbol('t_')\n",
    "    def P_(x_,t_, del_omega):\n",
    "        return M1*g + (L-x_)*m1_hat*g + (L-x_)*m_hat*diff(H(t_, del_omega),t_,2) + M0*diff(H(t_, del_omega),t_,2)\n",
    "    return lambdify((x_, t_), P_(x_,t_,del_omega), 'numpy')(x,t)"
   ]
  },
  {
   "cell_type": "code",
   "execution_count": 9,
   "id": "7530b378",
   "metadata": {},
   "outputs": [],
   "source": [
    "# sway motion of the barge\n",
    "def S(t, del_omega):\n",
    "    return (eta(omega_p, del_omega)*np.sin(e1*omega_p*t+uniform(0, 2*np.pi))+\n",
    "            np.sum([e2*eta(i*del_omega,del_omega)*np.sin(e1*i*del_omega*t+uniform(0, 2*np.pi))\n",
    "                    for i in range(int(omega_p/del_omega+1),N+1)]))"
   ]
  },
  {
   "cell_type": "code",
   "execution_count": 10,
   "id": "836b4e0a",
   "metadata": {},
   "outputs": [],
   "source": [
    "def q_hat(t, x, del_omega, ddv):\n",
    "    z = -x \n",
    "    \n",
    "    def du(z,t,del_omega):\n",
    "        return np.sum( [(i*del_omega)**2*eta(i*del_omega, del_omega)*np.exp((i*del_omega)**2/g*(z+d))*np.sin(i*del_omega*t+uniform(0, 2*np.pi))/np.sinh((i*del_omega)**2/g*d)\n",
    "                   for i in range(1,N+1)])\n",
    "    \n",
    "    return 1.1*0.25*np.pi*CM*rho*D**2*du(z,t,del_omega)-0.25*np.pi*CA*rho*D**2*ddv"
   ]
  },
  {
   "cell_type": "code",
   "execution_count": 11,
   "id": "d8388f8b",
   "metadata": {},
   "outputs": [
    {
     "data": {
      "text/plain": [
       "79837.4349902363"
      ]
     },
     "execution_count": 11,
     "metadata": {},
     "output_type": "execute_result"
    }
   ],
   "source": [
    "q_hat(0.1, 10, omega_N/N, .015)"
   ]
  },
  {
   "cell_type": "code",
   "execution_count": null,
   "id": "ab8c104a",
   "metadata": {},
   "outputs": [],
   "source": []
  },
  {
   "cell_type": "markdown",
   "id": "d44d265c",
   "metadata": {},
   "source": [
    "### Finite difference solution"
   ]
  },
  {
   "cell_type": "code",
   "execution_count": 12,
   "id": "5bf6c027",
   "metadata": {},
   "outputs": [],
   "source": [
    "# EI*ddddv_ddddx-dP_dx*dv_dx-P*ddv_ddx+m_hat*ddv=q_hat(x,t)"
   ]
  },
  {
   "cell_type": "code",
   "execution_count": 13,
   "id": "91d04df7",
   "metadata": {},
   "outputs": [],
   "source": [
    "T = 60  # Maximum time bound\n",
    "del_t = 4\n",
    "m = 20  # No. of intervals in space\n",
    "n = int(T/del_t)  # No. of intervals in time\n",
    "h = L / m  # Step size in space\n",
    "k = T / n  # Step size in time"
   ]
  },
  {
   "cell_type": "code",
   "execution_count": null,
   "id": "30075fad",
   "metadata": {},
   "outputs": [],
   "source": []
  },
  {
   "cell_type": "code",
   "execution_count": 14,
   "id": "2675ca23",
   "metadata": {},
   "outputs": [],
   "source": [
    "# Initialization of solution\n",
    "v = np.zeros((m + 1, n + 1))\n",
    "\n",
    "# Initial condition\n",
    "ic1 = lambda t: S(t, omega_N/N)  # produces slight variability when called twice in Time discretization below\n",
    "\n",
    "# Time discretization\n",
    "for j in range(1, n + 2):\n",
    "    v[0, j - 1] = ic1((j - 1) * k)"
   ]
  },
  {
   "cell_type": "code",
   "execution_count": 15,
   "id": "46b0789b",
   "metadata": {},
   "outputs": [
    {
     "data": {
      "text/plain": [
       "(21, 16)"
      ]
     },
     "execution_count": 15,
     "metadata": {},
     "output_type": "execute_result"
    }
   ],
   "source": [
    "v.shape"
   ]
  },
  {
   "cell_type": "code",
   "execution_count": 16,
   "id": "99dcfff3",
   "metadata": {},
   "outputs": [],
   "source": [
    "def ddddv_ddddx(y0,y1,y2,y3,y4,h):\n",
    "    return (y0-4*y1+6*y2-4*y3+y4)/h**4"
   ]
  },
  {
   "cell_type": "code",
   "execution_count": 17,
   "id": "8893bc1e",
   "metadata": {},
   "outputs": [],
   "source": [
    "def ddv_ddx(y1,y2,y3, h):\n",
    "    return (y3-2*y2+y1)/h**2"
   ]
  },
  {
   "cell_type": "code",
   "execution_count": 18,
   "id": "783cdcf8",
   "metadata": {},
   "outputs": [],
   "source": [
    "def dv_dx(y1,y3,h):\n",
    "    return (y3-y1)/(2*h)"
   ]
  },
  {
   "cell_type": "code",
   "execution_count": 19,
   "id": "f834f39e",
   "metadata": {},
   "outputs": [],
   "source": [
    "def dP_dx(x1,x3,h,t,del_omega):\n",
    "    return (P(x3,t,del_omega)-P(x1,t,del_omega))/(2*h)"
   ]
  },
  {
   "cell_type": "code",
   "execution_count": 20,
   "id": "533b5539",
   "metadata": {},
   "outputs": [],
   "source": [
    "def gov_eq(y0, y1, y2, y3, y4, t3, t5, h, k, x,t):\n",
    "    d_omega=omega_N/N\n",
    "    return (EI*ddddv_ddddx(y0,y1,y2,y3,y4,h)\n",
    "            - dP_dx(x-h,x+h,h,t,d_omega)*dv_dx(y2,y4,h)\n",
    "            - P(x,t,d_omega)*ddv_ddx(y2,y3,y4, h)\n",
    "            + m_hat*ddv_ddx(t3,y4,t5, k)\n",
    "            - q_hat(t, x, d_omega, ddv_ddx(t3,y4,t5, k)))"
   ]
  },
  {
   "cell_type": "code",
   "execution_count": 21,
   "id": "a2c2fe36",
   "metadata": {},
   "outputs": [],
   "source": [
    "y4=Symbol('y4')"
   ]
  },
  {
   "cell_type": "code",
   "execution_count": null,
   "id": "74027610",
   "metadata": {},
   "outputs": [
    {
     "name": "stderr",
     "output_type": "stream",
     "text": [
      " 50%|██████████████████████                      | 7/14 [01:04<01:04,  9.15s/it]"
     ]
    }
   ],
   "source": [
    "startTime1 = datetime.now()\n",
    "for j in tqdm(range(1, n)):\n",
    "    for i in range(-1, m-1):\n",
    "        v[i+2][j] = solve(gov_eq(v[i - 2, j], \n",
    "                                 v[i - 1, j], \n",
    "                                 v[i, j], \n",
    "                                 v[i + 1, j],\n",
    "                                 y4, \n",
    "                                 v[i , j - 1], \n",
    "                                 v[i , j + 1], \n",
    "                                 h, \n",
    "                                 k, \n",
    "                                 (i+2)*h,\n",
    "                                 j*k), y4)[0]\n",
    "print(datetime.now() - startTime1)"
   ]
  },
  {
   "cell_type": "code",
   "execution_count": null,
   "id": "3edf3737",
   "metadata": {},
   "outputs": [],
   "source": [
    "np.max(v)"
   ]
  },
  {
   "cell_type": "code",
   "execution_count": null,
   "id": "eaf3ecef",
   "metadata": {},
   "outputs": [],
   "source": [
    "ind = np.unravel_index(np.argmax(v, axis=None), v.shape)"
   ]
  },
  {
   "cell_type": "code",
   "execution_count": null,
   "id": "694ea947",
   "metadata": {},
   "outputs": [],
   "source": [
    "ind"
   ]
  },
  {
   "cell_type": "code",
   "execution_count": null,
   "id": "580db95f",
   "metadata": {},
   "outputs": [],
   "source": []
  },
  {
   "cell_type": "code",
   "execution_count": null,
   "id": "b7b4df4f",
   "metadata": {},
   "outputs": [],
   "source": [
    "if np.max(v)/L<1:\n",
    "    print(\"Stable\")\n",
    "else:\n",
    "    print(\"Unbounded pipe response\")"
   ]
  },
  {
   "cell_type": "code",
   "execution_count": null,
   "id": "c580fc73",
   "metadata": {},
   "outputs": [],
   "source": []
  },
  {
   "cell_type": "code",
   "execution_count": null,
   "id": "d97477ee",
   "metadata": {},
   "outputs": [],
   "source": [
    "# Visualization\n",
    "x_ = np.linspace(0, L, m + 1 )\n",
    "t_ = np.linspace(0, T, n + 1)\n",
    "X, T = np.meshgrid(x_, t_)\n",
    "\n",
    "fig = plt.figure()\n",
    "ax = fig.add_subplot(111, projection='3d')\n",
    "ax.plot_surface(X, T, v.T, cmap='viridis')\n",
    "ax.set_xlabel('Space X')\n",
    "ax.set_ylabel('Time T')\n",
    "ax.set_zlabel('V')\n",
    "plt.title('Python Program for OTEC pipe')\n",
    "plt.show()"
   ]
  },
  {
   "cell_type": "code",
   "execution_count": null,
   "id": "d919cb13",
   "metadata": {},
   "outputs": [],
   "source": [
    "np.max(v[2])"
   ]
  },
  {
   "cell_type": "code",
   "execution_count": null,
   "id": "8a43f5e7",
   "metadata": {},
   "outputs": [],
   "source": [
    "plt.plot(T,v[2] ,'-')\n",
    "plt.xlabel('t')\n",
    "plt.ylabel('v{}'.format(2))\n",
    "plt.show()"
   ]
  },
  {
   "cell_type": "code",
   "execution_count": null,
   "id": "8dce2d93",
   "metadata": {},
   "outputs": [],
   "source": [
    "np.max(v[3])"
   ]
  },
  {
   "cell_type": "code",
   "execution_count": null,
   "id": "911e7820",
   "metadata": {},
   "outputs": [],
   "source": [
    "plt.plot(T,v[3] ,'-')\n",
    "plt.xlabel('t')\n",
    "plt.ylabel('v{}'.format(3))\n",
    "plt.show()"
   ]
  },
  {
   "cell_type": "code",
   "execution_count": null,
   "id": "d104eb3c",
   "metadata": {},
   "outputs": [],
   "source": [
    "np.max(v[4])"
   ]
  },
  {
   "cell_type": "code",
   "execution_count": null,
   "id": "c3794220",
   "metadata": {},
   "outputs": [],
   "source": [
    "plt.plot(T,v[4] ,'-')\n",
    "plt.xlabel('t')\n",
    "plt.ylabel('v{}'.format(4))\n",
    "plt.show()"
   ]
  },
  {
   "cell_type": "code",
   "execution_count": null,
   "id": "2d28541f",
   "metadata": {},
   "outputs": [],
   "source": [
    "np.max(v[5])"
   ]
  },
  {
   "cell_type": "code",
   "execution_count": null,
   "id": "159cddd6",
   "metadata": {},
   "outputs": [],
   "source": [
    "plt.plot(T,v[5] ,'-')\n",
    "plt.xlabel('t')\n",
    "plt.ylabel('v{}'.format(5))\n",
    "plt.show()"
   ]
  },
  {
   "cell_type": "code",
   "execution_count": null,
   "id": "418cff61",
   "metadata": {},
   "outputs": [],
   "source": [
    "np.max(v[10])"
   ]
  },
  {
   "cell_type": "code",
   "execution_count": null,
   "id": "2534b8e2",
   "metadata": {},
   "outputs": [],
   "source": [
    "plt.plot(T,v[10] ,'-')\n",
    "plt.xlabel('t')\n",
    "plt.ylabel('v{}'.format(10))\n",
    "plt.show()"
   ]
  },
  {
   "cell_type": "code",
   "execution_count": null,
   "id": "b1bf262e",
   "metadata": {},
   "outputs": [],
   "source": [
    "np.max(v[15])"
   ]
  },
  {
   "cell_type": "code",
   "execution_count": null,
   "id": "cb67ab16",
   "metadata": {},
   "outputs": [],
   "source": [
    "plt.plot(T,v[15] ,'-')\n",
    "plt.xlabel('t')\n",
    "plt.ylabel('v{}'.format(15))\n",
    "plt.show()"
   ]
  },
  {
   "cell_type": "code",
   "execution_count": null,
   "id": "422aa538",
   "metadata": {},
   "outputs": [],
   "source": [
    "np.max(v[20])"
   ]
  },
  {
   "cell_type": "code",
   "execution_count": null,
   "id": "95dd26ac",
   "metadata": {},
   "outputs": [],
   "source": [
    "plt.plot(T,v[20] ,'-')\n",
    "plt.xlabel('t')\n",
    "plt.ylabel('v{}'.format(20))\n",
    "plt.show()"
   ]
  },
  {
   "cell_type": "code",
   "execution_count": null,
   "id": "0c5ff08c",
   "metadata": {},
   "outputs": [],
   "source": [
    "np.max(v[m-3])"
   ]
  },
  {
   "cell_type": "code",
   "execution_count": null,
   "id": "6ab4dada",
   "metadata": {},
   "outputs": [],
   "source": [
    "plt.plot(T,v[m-3] ,'-')\n",
    "plt.xlabel('t')\n",
    "plt.ylabel('v{}'.format(m-3))\n",
    "plt.show()"
   ]
  },
  {
   "cell_type": "code",
   "execution_count": null,
   "id": "bc011af4",
   "metadata": {},
   "outputs": [],
   "source": [
    "plt.figure(figsize=(20,20))\n",
    "plt.matshow(v, fignum=1)"
   ]
  },
  {
   "cell_type": "code",
   "execution_count": null,
   "id": "37d6cafd",
   "metadata": {},
   "outputs": [],
   "source": [
    "# for moments use equation 10.135 with initial conditions 10.125 and 10.126 "
   ]
  },
  {
   "cell_type": "code",
   "execution_count": null,
   "id": "fc5cd902",
   "metadata": {},
   "outputs": [],
   "source": []
  },
  {
   "cell_type": "code",
   "execution_count": null,
   "id": "530f4407",
   "metadata": {},
   "outputs": [],
   "source": []
  }
 ],
 "metadata": {
  "kernelspec": {
   "display_name": "Python 3 (ipykernel)",
   "language": "python",
   "name": "python3"
  },
  "language_info": {
   "codemirror_mode": {
    "name": "ipython",
    "version": 3
   },
   "file_extension": ".py",
   "mimetype": "text/x-python",
   "name": "python",
   "nbconvert_exporter": "python",
   "pygments_lexer": "ipython3",
   "version": "3.9.6"
  }
 },
 "nbformat": 4,
 "nbformat_minor": 5
}
