{
 "cells": [
  {
   "cell_type": "code",
   "execution_count": 1,
   "id": "ff0c7f8e",
   "metadata": {},
   "outputs": [],
   "source": [
    "import numpy as np\n",
    "import inspect"
   ]
  },
  {
   "cell_type": "code",
   "execution_count": 2,
   "id": "11343e19",
   "metadata": {},
   "outputs": [],
   "source": [
    "N=10"
   ]
  },
  {
   "cell_type": "code",
   "execution_count": 3,
   "id": "ad017d72",
   "metadata": {},
   "outputs": [],
   "source": [
    "diag_CT = 1e9*np.array([1, 1, 1 ])  \n",
    "CT=np.diag(diag_CT)"
   ]
  },
  {
   "cell_type": "code",
   "execution_count": 4,
   "id": "0bd019e9",
   "metadata": {},
   "outputs": [],
   "source": [
    "diag_CR = 1e11*np.array([1, 1, 1])\n",
    "CR=np.diag(diag_CR)"
   ]
  },
  {
   "cell_type": "code",
   "execution_count": 5,
   "id": "10440652",
   "metadata": {},
   "outputs": [],
   "source": [
    "φ = np.random.rand(N)\n",
    "θ = np.random.rand(N)\n",
    "ψ = np.random.rand(N)"
   ]
  },
  {
   "cell_type": "code",
   "execution_count": 6,
   "id": "e241450c",
   "metadata": {},
   "outputs": [
    {
     "data": {
      "text/plain": [
       "array([0.48940863, 0.10329455, 0.68896141, 0.56284692, 0.04122142,\n",
       "       0.64886993, 0.3755373 , 0.06979395, 0.80965999, 0.50523568])"
      ]
     },
     "execution_count": 6,
     "metadata": {},
     "output_type": "execute_result"
    }
   ],
   "source": [
    "φ"
   ]
  },
  {
   "cell_type": "code",
   "execution_count": 7,
   "id": "eaf2e063",
   "metadata": {},
   "outputs": [],
   "source": [
    "dφ = np.random.rand(N)\n",
    "dθ = np.random.rand(N)\n",
    "dψ = np.random.rand(N)"
   ]
  },
  {
   "cell_type": "code",
   "execution_count": 8,
   "id": "edb0578a",
   "metadata": {},
   "outputs": [],
   "source": [
    "ddφ = np.random.rand(N)\n",
    "ddθ = np.random.rand(N)\n",
    "ddψ = np.random.rand(N)"
   ]
  },
  {
   "cell_type": "code",
   "execution_count": 9,
   "id": "387efa0b",
   "metadata": {},
   "outputs": [],
   "source": [
    "x = np.random.rand(N)\n",
    "y = np.random.rand(N)\n",
    "z = np.random.rand(N)"
   ]
  },
  {
   "cell_type": "code",
   "execution_count": null,
   "id": "79cb60e0",
   "metadata": {},
   "outputs": [],
   "source": []
  },
  {
   "cell_type": "code",
   "execution_count": 10,
   "id": "7845e5ab",
   "metadata": {},
   "outputs": [],
   "source": [
    "def Π0(φθψ):\n",
    "    φ0,θ0,ψ0=φθψ\n",
    "    return np.array([[np.cos(θ0),0,np.cos(φ0)*np.sin(θ0)],\n",
    "                  [0,1,-np.sin(φ0)],\n",
    "                  [-np.sin(θ0),0,np.cos(φ0)*np.cos(θ0)]])"
   ]
  },
  {
   "cell_type": "code",
   "execution_count": 11,
   "id": "f98c0e32",
   "metadata": {},
   "outputs": [],
   "source": [
    "def Π(φ,θ,ψ):\n",
    "    φθψ=np.stack((φ,θ,ψ), axis=1)\n",
    "    return np.apply_along_axis(Π0, 1, φθψ)"
   ]
  },
  {
   "cell_type": "code",
   "execution_count": 12,
   "id": "c8195598",
   "metadata": {},
   "outputs": [
    {
     "data": {
      "text/plain": [
       "array([[[ 0.94043034,  0.        ,  0.30007576],\n",
       "        [ 0.        ,  1.        , -0.47010402],\n",
       "        [-0.33998642,  0.        ,  0.83003418]],\n",
       "\n",
       "       [[ 0.98780701,  0.        ,  0.15485355],\n",
       "        [ 0.        ,  1.        , -0.10311096],\n",
       "        [-0.15568336,  0.        ,  0.98254186]],\n",
       "\n",
       "       [[ 0.97716072,  0.        ,  0.16403142],\n",
       "        [ 0.        ,  1.        , -0.63573583],\n",
       "        [-0.21250161,  0.        ,  0.7542769 ]],\n",
       "\n",
       "       [[ 0.99981358,  0.        ,  0.01632981],\n",
       "        [ 0.        ,  1.        , -0.53359611],\n",
       "        [-0.01930832,  0.        ,  0.84558177]],\n",
       "\n",
       "       [[ 0.89179458,  0.        ,  0.45205618],\n",
       "        [ 0.        ,  1.        , -0.04120974],\n",
       "        [-0.45244052,  0.        ,  0.89103702]],\n",
       "\n",
       "       [[ 0.71585196,  0.        ,  0.55634435],\n",
       "        [ 0.        ,  1.        , -0.60428639],\n",
       "        [-0.69825208,  0.        ,  0.57036736]],\n",
       "\n",
       "       [[ 0.71223884,  0.        ,  0.65301968],\n",
       "        [ 0.        ,  1.        , -0.36677243],\n",
       "        [-0.7019372 ,  0.        ,  0.66260341]],\n",
       "\n",
       "       [[ 0.99991774,  0.        ,  0.01279496],\n",
       "        [ 0.        ,  1.        , -0.0697373 ],\n",
       "        [-0.01282619,  0.        ,  0.99748333]],\n",
       "\n",
       "       [[ 0.80141552,  0.        ,  0.41254179],\n",
       "        [ 0.        ,  1.        , -0.7240527 ],\n",
       "        [-0.59810799,  0.        ,  0.55277207]],\n",
       "\n",
       "       [[ 0.97426967,  0.        ,  0.19722591],\n",
       "        [ 0.        ,  1.        , -0.48401369],\n",
       "        [-0.22538548,  0.        ,  0.85254483]]])"
      ]
     },
     "execution_count": 12,
     "metadata": {},
     "output_type": "execute_result"
    }
   ],
   "source": [
    "Π(φ,θ,ψ)"
   ]
  },
  {
   "cell_type": "code",
   "execution_count": null,
   "id": "3dee3c6a",
   "metadata": {},
   "outputs": [],
   "source": []
  },
  {
   "cell_type": "code",
   "execution_count": 13,
   "id": "164efc11",
   "metadata": {},
   "outputs": [],
   "source": [
    "def w_e(φ,θ,ψ,dφ,dθ,dψ): \n",
    "    return np.einsum('ijk,ik->ij', Π(φ,θ,ψ), np.stack((dφ,dθ,dψ), axis=1))"
   ]
  },
  {
   "cell_type": "code",
   "execution_count": 14,
   "id": "679909b2",
   "metadata": {},
   "outputs": [
    {
     "data": {
      "text/plain": [
       "array([[ 1.01643468, -0.17371049,  0.46803597],\n",
       "       [ 0.59289055,  0.23805279,  0.41135039],\n",
       "       [ 0.81289289,  0.49086338,  0.28351642],\n",
       "       [ 0.29352065,  0.39104278,  0.52059679],\n",
       "       [ 0.50966246,  0.81281579, -0.08099943],\n",
       "       [ 0.78907744, -0.2596705 , -0.06132528],\n",
       "       [ 0.91422746,  0.0782029 , -0.40891347],\n",
       "       [ 0.89857402,  0.9162862 ,  0.61977694],\n",
       "       [ 0.73593537,  0.16107834, -0.40176111],\n",
       "       [ 0.66454905,  0.06252698,  0.22616086]])"
      ]
     },
     "execution_count": 14,
     "metadata": {},
     "output_type": "execute_result"
    }
   ],
   "source": [
    "w_e(φ,θ,ψ,dφ,dθ,dψ)"
   ]
  },
  {
   "cell_type": "code",
   "execution_count": null,
   "id": "c83d59e5",
   "metadata": {},
   "outputs": [],
   "source": []
  },
  {
   "cell_type": "code",
   "execution_count": 15,
   "id": "c3afc28b",
   "metadata": {},
   "outputs": [],
   "source": [
    "def dw_e(φ,θ,ψ,dφ,dθ,dψ,ddφ,ddθ,ddψ):\n",
    "    return (np.einsum('ijk,ik->ij', Π(φ,θ,ψ), np.stack((ddφ,ddθ,ddψ), axis=1))+\n",
    "        np.einsum('ijk,ik->ij', Π(dφ,dθ,dψ), np.stack((dφ,dθ,dψ), axis=1)))"
   ]
  },
  {
   "cell_type": "code",
   "execution_count": 16,
   "id": "3568d8c6",
   "metadata": {},
   "outputs": [
    {
     "data": {
      "text/plain": [
       "array([[ 1.3747771 , -0.51558639,  0.70906516],\n",
       "       [ 1.21326797,  0.31762484,  0.61473473],\n",
       "       [ 1.60891809,  0.73486123, -0.19592448],\n",
       "       [ 1.54492382,  1.26109378,  0.43676192],\n",
       "       [ 1.02960115,  0.91381577, -0.22086948],\n",
       "       [ 1.11149192,  0.22097777,  0.02638711],\n",
       "       [ 1.90590505,  0.58476011,  0.00266687],\n",
       "       [ 0.92868139,  0.69067285, -0.0468101 ],\n",
       "       [ 1.85621954,  0.35566286, -0.0518067 ],\n",
       "       [ 1.44498022,  0.69973328,  0.1945262 ]])"
      ]
     },
     "execution_count": 16,
     "metadata": {},
     "output_type": "execute_result"
    }
   ],
   "source": [
    "dw_e(φ,θ,ψ,dφ,dθ,dψ,ddφ,ddθ,ddψ)"
   ]
  },
  {
   "cell_type": "code",
   "execution_count": null,
   "id": "15511374",
   "metadata": {},
   "outputs": [],
   "source": []
  },
  {
   "cell_type": "code",
   "execution_count": 17,
   "id": "9f658f7c",
   "metadata": {},
   "outputs": [],
   "source": [
    "def phi(x,y,z): return np.stack((x,y,z), axis=1) \n",
    "def theta(φ,θ,ψ): return np.stack((φ,θ,ψ), axis=1) "
   ]
  },
  {
   "cell_type": "code",
   "execution_count": 18,
   "id": "1da7b351",
   "metadata": {},
   "outputs": [
    {
     "data": {
      "text/plain": [
       "array([[0.40864751, 0.57765141, 0.14428315],\n",
       "       [0.78883778, 0.3630431 , 0.75689744],\n",
       "       [0.10536405, 0.76829776, 0.55214602],\n",
       "       [0.2138908 , 0.47244844, 0.50279996],\n",
       "       [0.11647896, 0.65663744, 0.84385902],\n",
       "       [0.82205414, 0.86071075, 0.74162797],\n",
       "       [0.64632682, 0.31147873, 0.4474258 ],\n",
       "       [0.46003092, 0.91138156, 0.51954872],\n",
       "       [0.61355093, 0.65032005, 0.68580474],\n",
       "       [0.06216346, 0.02621091, 0.21559772]])"
      ]
     },
     "execution_count": 18,
     "metadata": {},
     "output_type": "execute_result"
    }
   ],
   "source": [
    "phi(x,y,z)"
   ]
  },
  {
   "cell_type": "code",
   "execution_count": 19,
   "id": "51f79220",
   "metadata": {},
   "outputs": [
    {
     "data": {
      "text/plain": [
       "array([[0.48940863, 0.34690246, 0.93556631],\n",
       "       [0.10329455, 0.15631921, 0.02516144],\n",
       "       [0.68896141, 0.21413434, 0.39860853],\n",
       "       [0.56284692, 0.01930952, 0.98486305],\n",
       "       [0.04122142, 0.46950009, 0.38011434],\n",
       "       [0.64886993, 0.77295285, 0.76873788],\n",
       "       [0.3755373 , 0.77811374, 0.37204742],\n",
       "       [0.06979395, 0.01282654, 0.23442888],\n",
       "       [0.80965999, 0.64113818, 0.18763575],\n",
       "       [0.50523568, 0.22733868, 0.72653049]])"
      ]
     },
     "execution_count": 19,
     "metadata": {},
     "output_type": "execute_result"
    }
   ],
   "source": [
    "theta(φ,θ,ψ)"
   ]
  },
  {
   "cell_type": "code",
   "execution_count": 20,
   "id": "3ee4c992",
   "metadata": {},
   "outputs": [],
   "source": [
    "def ω(φ,θ,ψ): \n",
    "    return np.einsum('ijk,ik->ij', Π(φ,θ,ψ), theta(φ,θ,ψ))"
   ]
  },
  {
   "cell_type": "code",
   "execution_count": 21,
   "id": "abe1ef1f",
   "metadata": {},
   "outputs": [
    {
     "data": {
      "text/plain": [
       "array([[ 0.41464297,  0.52031782, -0.11222515],\n",
       "       [ 0.92683   , -0.17400194,  0.21846632],\n",
       "       [ 0.45733188,  0.710229  ,  0.3216246 ],\n",
       "       [ 0.41405464,  0.36572229,  0.3401843 ],\n",
       "       [ 0.60390614,  0.55856772,  0.5927437 ],\n",
       "       [ 0.91871881,  0.31743439, -0.29426451],\n",
       "       [ 0.72469042,  0.04201289,  0.14191606],\n",
       "       [ 0.64977662,  0.68071449, -0.07837329],\n",
       "       [ 0.82780198,  0.25545127,  0.0748024 ],\n",
       "       [ 0.06778156,  0.01281724,  0.2134782 ]])"
      ]
     },
     "execution_count": 21,
     "metadata": {},
     "output_type": "execute_result"
    }
   ],
   "source": [
    "ω(x,y,z)"
   ]
  },
  {
   "cell_type": "code",
   "execution_count": 22,
   "id": "c8607b4d",
   "metadata": {},
   "outputs": [],
   "source": [
    "def Ret(φ,θ,ψ):\n",
    "    \n",
    "    def Ret0(arr):\n",
    "        φ,θ,ψ=arr\n",
    "        Cφ=np.matrix([[1,0,0],\n",
    "                      [0,np.cos(φ),-np.sin(φ)],\n",
    "                      [0,np.sin(φ),np.cos(φ)]])\n",
    "\n",
    "        Cθ=np.matrix([[np.cos(θ),0,np.sin(θ)],\n",
    "                      [0,1,0],\n",
    "                      [-np.sin(θ),0,np.cos(θ)]])\n",
    "\n",
    "        Cψ=np.matrix([[np.cos(ψ),-np.sin(ψ),0],\n",
    "                      [np.sin(ψ),np.cos(ψ),0],\n",
    "                      [0,0,1]])\n",
    "\n",
    "\n",
    "        return np.array(np.dot(np.dot(Cθ,Cφ),Cψ) )\n",
    "    \n",
    "    arr=np.stack((φ,θ,ψ), axis=1)\n",
    "    return np.apply_along_axis(Ret0, 1, arr)"
   ]
  },
  {
   "cell_type": "code",
   "execution_count": 23,
   "id": "8daf84e3",
   "metadata": {},
   "outputs": [
    {
     "data": {
      "text/plain": [
       "array([[[ 0.68666825, -0.66214896,  0.30007576],\n",
       "        [ 0.71044471,  0.52370844, -0.47010402],\n",
       "        [ 0.15412668,  0.53599274,  0.83003418]],\n",
       "\n",
       "       [[ 0.9878982 , -0.00880445,  0.15485355],\n",
       "        [ 0.02502469,  0.99435501, -0.10311096],\n",
       "        [-0.15307156,  0.1057383 ,  0.98254186]],\n",
       "\n",
       "       [[ 0.95298847, -0.25476786,  0.16403142],\n",
       "        [ 0.29960504,  0.71139073, -0.63573583],\n",
       "        [ 0.04527463,  0.65499356,  0.7542769 ]],\n",
       "\n",
       "       [[ 0.56145844, -0.8273438 ,  0.01632981],\n",
       "        [ 0.70466702,  0.46767465, -0.53359611],\n",
       "        [ 0.43383039,  0.31109911,  0.84558177]],\n",
       "\n",
       "       [[ 0.83505804, -0.31356544,  0.45205618],\n",
       "        [ 0.37071147,  0.92783337, -0.04120974],\n",
       "        [-0.40651086,  0.20199494,  0.89103702]],\n",
       "\n",
       "       [[ 0.807894  , -0.194392  ,  0.55634435],\n",
       "        [ 0.55393533,  0.57270726, -0.60428639],\n",
       "        [-0.20115401,  0.79637814,  0.57036736]],\n",
       "\n",
       "       [[ 0.75710061, -0.01907789,  0.65301968],\n",
       "        [ 0.33818984,  0.8666635 , -0.36677243],\n",
       "        [-0.55895108,  0.49852825,  0.66260341]],\n",
       "\n",
       "       [[ 0.97277493, -0.23139842,  0.01279496],\n",
       "        [ 0.23172199,  0.97027915, -0.0697373 ],\n",
       "        [ 0.00372242,  0.07080357,  0.99748333]],\n",
       "\n",
       "       [[ 0.86813096,  0.27596723,  0.41254179],\n",
       "        [ 0.12866267,  0.67763826, -0.7240527 ],\n",
       "        [-0.47936891,  0.68165129,  0.55277207]],\n",
       "\n",
       "       [[ 0.80071672, -0.56564535,  0.19722591],\n",
       "        [ 0.58128535,  0.65409334, -0.48401369],\n",
       "        [ 0.14477594,  0.50220239,  0.85254483]]])"
      ]
     },
     "execution_count": 23,
     "metadata": {},
     "output_type": "execute_result"
    }
   ],
   "source": [
    "Ret(φ,θ,ψ)"
   ]
  },
  {
   "cell_type": "code",
   "execution_count": null,
   "id": "a5cb56c9",
   "metadata": {},
   "outputs": [],
   "source": []
  },
  {
   "cell_type": "code",
   "execution_count": 24,
   "id": "20939c71",
   "metadata": {},
   "outputs": [],
   "source": [
    "def d_s(func, a, b, c, φ, θ, ψ): \n",
    "    \n",
    "    sig = inspect.signature(func)\n",
    "    num_args = len(sig.parameters)\n",
    "    \n",
    "    if num_args==3:\n",
    "        fu = func(a, b, c)\n",
    "    else:\n",
    "        fu = func(a, b, c, φ, θ, ψ)\n",
    "\n",
    "    def S(arr):\n",
    "        a1, a2, a3 = arr[0],arr[1],arr[2]\n",
    "        return np.array([[0, -a3, a2 ],\n",
    "                         [a3, 0, -a1],\n",
    "                        [-a2, a1, 0]])\n",
    "    \n",
    "    S0 = np.apply_along_axis(S, 1, ω(φ,θ,ψ))\n",
    "    \n",
    "    return np.einsum('ijk,ik->ij',S0, fu).T"
   ]
  },
  {
   "cell_type": "code",
   "execution_count": 25,
   "id": "7f9a2480",
   "metadata": {},
   "outputs": [
    {
     "data": {
      "text/plain": [
       "array([[-0.36586512,  0.11321687, -0.14020013, -0.64283443,  0.17281933,\n",
       "         0.24130573,  0.29241511, -0.2141304 ,  0.59399902, -0.04005171],\n",
       "       [ 0.14242709, -0.07336293, -0.39156775, -0.11523302, -0.1387454 ,\n",
       "        -0.67367569, -0.23941966,  0.06934454, -0.73157072, -0.10559274],\n",
       "       [ 0.46600495, -0.08280625,  0.57161089,  0.38173836,  0.08410837,\n",
       "         0.51437317, -0.25573312,  0.06795756,  0.16230051,  0.02438539]])"
      ]
     },
     "execution_count": 25,
     "metadata": {},
     "output_type": "execute_result"
    }
   ],
   "source": [
    "d_s(phi,x,y,z,φ, θ, ψ)"
   ]
  },
  {
   "cell_type": "code",
   "execution_count": 26,
   "id": "c06a9ba1",
   "metadata": {},
   "outputs": [
    {
     "data": {
      "text/plain": [
       "array([[-2.98590336e-01,  2.51719456e-03, -4.86869673e-02,\n",
       "        -5.14417874e-01,  2.22479595e-02,  2.48384529e-01,\n",
       "         2.52019901e-01, -3.81349599e-03,  3.38790079e-01,\n",
       "        -2.05242324e-01],\n",
       "       [-3.94632989e-01, -1.77282674e-03, -1.88140096e-01,\n",
       "        -1.07450870e-01, -6.60968621e-02, -6.95332012e-01,\n",
       "        -1.96318448e-01, -8.05481191e-04, -4.44387907e-01,\n",
       "        -2.06319045e-01],\n",
       "       [ 3.02524620e-01,  6.80182926e-04,  1.85221065e-01,\n",
       "         2.96095322e-01,  7.92271873e-02,  4.89490136e-01,\n",
       "         1.56203769e-01,  1.17942156e-03,  5.65418984e-02,\n",
       "         2.07286612e-01]])"
      ]
     },
     "execution_count": 26,
     "metadata": {},
     "output_type": "execute_result"
    }
   ],
   "source": [
    "d_s(theta, φ, θ, ψ, φ, θ, ψ)"
   ]
  },
  {
   "cell_type": "code",
   "execution_count": 27,
   "id": "107d5cb8",
   "metadata": {},
   "outputs": [],
   "source": [
    "def ne(x, y, z, φ, θ, ψ):\n",
    "    RET = Ret(φ,θ,ψ)\n",
    "    A = np.einsum('ijk,ikp->ijp',np.einsum('ijk,kp->ijp',RET, CT), np.transpose(RET,(0,2,1))) \n",
    "    B = d_s(phi, x, y, z, φ, θ, ψ).T\n",
    "    t0 = np.diff(phi(x,y,z),axis=0)\n",
    "    t1 = np.insert(t0, 0, [0,0,0], axis=0)\n",
    "    return np.einsum('ijk,ik->ij', A, B - t1 )"
   ]
  },
  {
   "cell_type": "code",
   "execution_count": 28,
   "id": "c89db7f9",
   "metadata": {},
   "outputs": [
    {
     "data": {
      "text/plain": [
       "array([[-3.65865121e+08,  1.42427086e+08,  4.66004954e+08],\n",
       "       [-2.66973394e+08,  1.41245370e+08, -6.95420534e+08],\n",
       "       [ 5.43273601e+08, -7.96822402e+08,  7.76362309e+08],\n",
       "       [-7.51361182e+08,  1.80616295e+08,  4.31084415e+08],\n",
       "       [ 2.70231168e+08, -3.22934393e+08, -2.56950686e+08],\n",
       "       [-4.64269449e+08, -8.77749004e+08,  6.16604216e+08],\n",
       "       [ 4.68142429e+08,  3.09812355e+08,  3.84690532e+07],\n",
       "       [-2.78344961e+07, -5.30558279e+08, -4.16535781e+06],\n",
       "       [ 4.40479015e+08, -4.70509213e+08, -3.95550312e+06],\n",
       "       [ 5.11335752e+08,  5.18516397e+08,  4.94592412e+08]])"
      ]
     },
     "execution_count": 28,
     "metadata": {},
     "output_type": "execute_result"
    }
   ],
   "source": [
    "ne(x, y, z, φ, θ, ψ)"
   ]
  },
  {
   "cell_type": "code",
   "execution_count": 29,
   "id": "8cbdfb86",
   "metadata": {},
   "outputs": [
    {
     "data": {
      "text/plain": [
       "array([[-1.30200271e+08, -1.08123867e+08,  9.24225386e+07,\n",
       "        -3.66670226e+08, -1.32596205e+07,  1.77344514e+08,\n",
       "         2.99766805e+07,  1.23604882e+08, -1.81048240e+08,\n",
       "        -3.23607837e+08],\n",
       "       [-5.68543737e+08,  7.13599896e+07, -4.89626138e+08,\n",
       "        -8.67077003e+08,  1.40084717e+08, -5.43336778e+08,\n",
       "        -2.76332334e+07, -6.18068383e+06, -1.64748973e+08,\n",
       "        -5.58325124e+07],\n",
       "       [ 7.15449267e+07,  5.60027522e+07, -5.67203991e+08,\n",
       "        -2.75801061e+08, -1.90002745e+08, -6.39920496e+08,\n",
       "        -1.42250419e+08, -3.87161545e+07, -5.64287461e+08,\n",
       "         3.93096063e+08]])"
      ]
     },
     "execution_count": 29,
     "metadata": {},
     "output_type": "execute_result"
    }
   ],
   "source": [
    "d_s(ne, x, y, z, φ, θ, ψ)"
   ]
  },
  {
   "cell_type": "code",
   "execution_count": null,
   "id": "ec63e4a8",
   "metadata": {},
   "outputs": [],
   "source": []
  },
  {
   "cell_type": "code",
   "execution_count": 30,
   "id": "d054f533",
   "metadata": {},
   "outputs": [],
   "source": [
    "def me(a, b, c, φ, θ, ψ):\n",
    "    RET = Ret(φ,θ,ψ)\n",
    "    A = np.einsum('ijk,ikp->ijp',np.einsum('ijk,kp->ijp', RET, CR), np.transpose(RET,(0,2,1))) \n",
    "    return np.einsum('ijk,ik->ij', A, ω(φ,θ,ψ))"
   ]
  },
  {
   "cell_type": "code",
   "execution_count": 31,
   "id": "94365598",
   "metadata": {},
   "outputs": [
    {
     "data": {
      "text/plain": [
       "array([[ 7.40995502e+10, -9.29110259e+09,  6.10159727e+10],\n",
       "       [ 1.05931425e+10,  1.53724790e+10,  8.64092948e+08],\n",
       "       [ 7.38610351e+10, -3.92753905e+09,  1.54255793e+10],\n",
       "       [ 5.78824617e+10, -5.06209568e+10,  8.21914608e+10],\n",
       "       [ 2.08594074e+10,  4.53835674e+10,  3.20045711e+10],\n",
       "       [ 8.92177788e+10,  3.08415015e+10, -1.46117908e+09],\n",
       "       [ 5.10426539e+10,  6.41657000e+10, -1.70837062e+09],\n",
       "       [ 7.27877139e+09, -3.52189939e+08,  2.32943707e+10],\n",
       "       [ 7.26281673e+10,  5.05280014e+10, -3.80544309e+10],\n",
       "       [ 6.35526441e+10, -1.24312025e+10,  5.05527028e+10]])"
      ]
     },
     "execution_count": 31,
     "metadata": {},
     "output_type": "execute_result"
    }
   ],
   "source": [
    "me(φ, θ, ψ, φ, θ, ψ)"
   ]
  },
  {
   "cell_type": "code",
   "execution_count": 32,
   "id": "9cf06fd3",
   "metadata": {},
   "outputs": [
    {
     "data": {
      "text/plain": [
       "array([[ 9.53674316e-07,  2.98023224e-08,  0.00000000e+00,\n",
       "         7.62939453e-06, -1.90734863e-06,  1.19209290e-06,\n",
       "         4.76837158e-07, -1.49011612e-07, -7.62939453e-06,\n",
       "        -1.90734863e-06],\n",
       "       [ 1.32728237e-06, -7.22877101e-09, -4.78430401e-07,\n",
       "         1.72854760e-05,  1.47323194e-06, -3.33828228e-06,\n",
       "        -3.41602950e-07,  4.68975404e-07,  6.28625226e-06,\n",
       "        -9.71789717e-06],\n",
       "       [-9.53674316e-07, -2.38418579e-07, -4.76837158e-07,\n",
       "         3.81469727e-06,  0.00000000e+00,  0.00000000e+00,\n",
       "         3.81469727e-06,  5.58793545e-08,  0.00000000e+00,\n",
       "         0.00000000e+00]])"
      ]
     },
     "execution_count": 32,
     "metadata": {},
     "output_type": "execute_result"
    }
   ],
   "source": [
    "d_s(me, φ, θ, ψ, φ, θ, ψ)"
   ]
  },
  {
   "cell_type": "code",
   "execution_count": null,
   "id": "2a6f1293",
   "metadata": {},
   "outputs": [],
   "source": []
  }
 ],
 "metadata": {
  "kernelspec": {
   "display_name": "Python 3 (ipykernel)",
   "language": "python",
   "name": "python3"
  },
  "language_info": {
   "codemirror_mode": {
    "name": "ipython",
    "version": 3
   },
   "file_extension": ".py",
   "mimetype": "text/x-python",
   "name": "python",
   "nbconvert_exporter": "python",
   "pygments_lexer": "ipython3",
   "version": "3.9.6"
  }
 },
 "nbformat": 4,
 "nbformat_minor": 5
}
