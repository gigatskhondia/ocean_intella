{
 "cells": [
  {
   "cell_type": "code",
   "execution_count": 1,
   "id": "96909361",
   "metadata": {},
   "outputs": [],
   "source": [
    "# https://medium.com/@ghartirem072/scientific-computing-with-python-application-of-finite-difference-method-70fd9edff112"
   ]
  },
  {
   "cell_type": "code",
   "execution_count": 2,
   "id": "fc6322ea",
   "metadata": {},
   "outputs": [],
   "source": [
    "# https://pythonnumericalmethods.studentorg.berkeley.edu/notebooks/chapter23.03-Finite-Difference-Method.html"
   ]
  },
  {
   "cell_type": "code",
   "execution_count": null,
   "id": "b09ddd5b",
   "metadata": {},
   "outputs": [],
   "source": []
  }
 ],
 "metadata": {
  "kernelspec": {
   "display_name": "Python 3 (ipykernel)",
   "language": "python",
   "name": "python3"
  },
  "language_info": {
   "codemirror_mode": {
    "name": "ipython",
    "version": 3
   },
   "file_extension": ".py",
   "mimetype": "text/x-python",
   "name": "python",
   "nbconvert_exporter": "python",
   "pygments_lexer": "ipython3",
   "version": "3.9.6"
  }
 },
 "nbformat": 4,
 "nbformat_minor": 5
}
