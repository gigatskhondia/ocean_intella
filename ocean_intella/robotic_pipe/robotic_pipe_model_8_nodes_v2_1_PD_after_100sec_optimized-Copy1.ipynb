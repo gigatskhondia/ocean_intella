{
 "cells": [
  {
   "cell_type": "markdown",
   "metadata": {},
   "source": [
    "#### Model taken from:\n",
    "- Offshore Pipelaying Dynamics. Gullik Anthon Jensen \n",
    "- Modelling and Control of Offshore Marine Pipeline during Pipelay. Gullik A. Jensen et al"
   ]
  },
  {
   "cell_type": "markdown",
   "metadata": {},
   "source": [
    "M(q)q ̈ + C(q,q ̇)q ̇ + H(q,q ̇)q ̇ + f(q) + g(q) = τ"
   ]
  },
  {
   "cell_type": "code",
   "execution_count": 1,
   "metadata": {},
   "outputs": [],
   "source": [
    "# TAKEAWAY - use catenary for initial input"
   ]
  },
  {
   "cell_type": "code",
   "execution_count": 4,
   "metadata": {},
   "outputs": [],
   "source": [
    "# !pip3 install numdifftools"
   ]
  },
  {
   "cell_type": "code",
   "execution_count": 5,
   "metadata": {},
   "outputs": [],
   "source": [
    "import numpy as np\n",
    "import math\n",
    "from scipy.integrate import odeint, ode, solve_ivp\n",
    "from scipy.integrate import ode\n",
    "from scipy.misc import derivative\n",
    "from numpy.linalg import inv, pinv\n",
    "import numdifftools as nd\n",
    "import tqdm\n",
    "import functools\n",
    "from datetime import datetime\n",
    "from scipy.optimize import fsolve"
   ]
  },
  {
   "cell_type": "code",
   "execution_count": 6,
   "metadata": {},
   "outputs": [],
   "source": [
    "%matplotlib inline"
   ]
  },
  {
   "cell_type": "code",
   "execution_count": 7,
   "metadata": {},
   "outputs": [],
   "source": [
    "import matplotlib.pyplot as plt"
   ]
  },
  {
   "cell_type": "markdown",
   "metadata": {},
   "source": [
    "### Inputs"
   ]
  },
  {
   "cell_type": "code",
   "execution_count": 8,
   "metadata": {},
   "outputs": [],
   "source": [
    "pipe_joint_length = 1381 #250 #600 #100 # [m]\n",
    "pipe_weight_per_unit_length = 96 #  (submerged) [kg/m]  # 113.07 - not submerged\n",
    "\n",
    "q = [0.4969920175036674,\n",
    " 0.9938344774006839,\n",
    " 0.993386029527471,\n",
    " 0.9926393654061791,\n",
    " 0.991595605650625,\n",
    " 0.990256313383461,\n",
    " 0.9886234885308456,\n",
    " 0.9866995605624327] # used for initial checks only but not in final solution \n",
    "l = [pipe_joint_length for i in range(len(q))]\n",
    "\n",
    "# mn = 5.08976 * 10e7 # mass of the vessel, [kg]\n",
    "# In = 5.041*10e7 # moment of inertia of the vessel, [kg*𝑚2]\n",
    "# mn = 80048 # mass of the vessel, [kg]\n",
    "# In = 50410 # moment of inertia of the vessel, [kg*𝑚2]\n",
    "\n",
    "mn = 32219000 # mass of the vessel, [kg]\n",
    "# mn = 5.08976 *1e7 # mass of the vessel, [kg]"
   ]
  },
  {
   "cell_type": "code",
   "execution_count": 9,
   "metadata": {},
   "outputs": [],
   "source": [
    "# L - the hull length\n",
    "# Xg - x-center of gravity\n",
    "\n",
    "L = 169 # [m]\n",
    "Xg = 78 # [m]\n",
    "# L = 240 # [m]\n",
    "# Xg = 120 # [m]"
   ]
  },
  {
   "cell_type": "code",
   "execution_count": 10,
   "metadata": {},
   "outputs": [],
   "source": [
    "# Fossen book p.181\n",
    "def vessel_inertia_moment(mn, Xg, L):\n",
    "    r = 0.25*L\n",
    "    Ir = mn*r**2\n",
    "    Iz=mn*Xg**2 + Ir\n",
    "    return Iz"
   ]
  },
  {
   "cell_type": "code",
   "execution_count": 11,
   "metadata": {},
   "outputs": [],
   "source": [
    "In = vessel_inertia_moment(mn,Xg,L)"
   ]
  },
  {
   "cell_type": "code",
   "execution_count": 12,
   "metadata": {},
   "outputs": [
    {
     "data": {
      "text/plain": [
       "253533324687.5"
      ]
     },
     "execution_count": 12,
     "metadata": {},
     "output_type": "execute_result"
    }
   ],
   "source": [
    "In"
   ]
  },
  {
   "cell_type": "code",
   "execution_count": 13,
   "metadata": {},
   "outputs": [],
   "source": [
    "mi = [x*pipe_weight_per_unit_length for x in l] # mass of pipe element (submerged), [kg]"
   ]
  },
  {
   "cell_type": "code",
   "execution_count": 14,
   "metadata": {},
   "outputs": [],
   "source": [
    "# for hydrodynamic damping matrix\n",
    "Cd=[0.87,0.87,0.87,0.87,0.87,0.87,0.87,0.87, 1.6] # Drag coefficient\n",
    "# Cd=0.82 # Drag coefficient\n",
    "\n",
    "qw = 1025 # Water density [kg/m3]\n",
    "d0 = 0.7610 # Outer diameter of pipe, [m]\n",
    "dI= 0.69# Inner diameter of pipe, [m]"
   ]
  },
  {
   "cell_type": "code",
   "execution_count": 15,
   "metadata": {},
   "outputs": [],
   "source": [
    "# for vector of spring forces in the pipe joints\n",
    "# K = 1.4*10e11\n",
    "E = 210e9 # modulus of elasticity of steel, [N/m^2]\n",
    "EI = E*3.14/64*(d0**4-dI**4) # Bending stiffness [N*m^2]\n",
    "\n",
    "K = EI#10e7 # depends on the unit bending stiffness of the pipe (EI), \n",
    "       # and the length li, of the link; from the Jensen thesis [N/m]"
   ]
  },
  {
   "cell_type": "code",
   "execution_count": 16,
   "metadata": {},
   "outputs": [
    {
     "data": {
      "text/plain": [
       "1120051921.710554"
      ]
     },
     "execution_count": 16,
     "metadata": {},
     "output_type": "execute_result"
    }
   ],
   "source": [
    "K"
   ]
  },
  {
   "cell_type": "code",
   "execution_count": 17,
   "metadata": {},
   "outputs": [],
   "source": [
    "# for vector of control inputs\n",
    "tau_qn = 250576 # tension in pipe at water level, [N] (check Jee sheets)\n",
    "Fx_ = 7.5e7 # 5e7 # [N], from the Jensen thesis\n",
    "# Fy=-100*1000 # [N],"
   ]
  },
  {
   "cell_type": "code",
   "execution_count": 18,
   "metadata": {},
   "outputs": [],
   "source": [
    "# for solution\n",
    "max_t = 600  \n",
    "dt = 0.5\n",
    "t=np.arange(0,max_t,dt)\n",
    "# q0=[45, 0, 20, 0, 15, 0, 5, 0]"
   ]
  },
  {
   "cell_type": "code",
   "execution_count": 19,
   "metadata": {},
   "outputs": [],
   "source": [
    "Awp = 1000 # the waterplane area of the vessel, [m^2]\n",
    "# h=26.3 # water depth, [m]\n",
    "h=700\n",
    "\n",
    "# fip=1e10\n",
    "fip=1e12"
   ]
  },
  {
   "cell_type": "code",
   "execution_count": 20,
   "metadata": {},
   "outputs": [],
   "source": [
    "kp=2.95e4\n",
    "# T = 200 # Measure the period of oscillation, from experiments\n",
    "# kd=0.075*kp*T \n",
    "kd=2.5e4\n",
    "# kd=0.5e8 # change "
   ]
  },
  {
   "cell_type": "markdown",
   "metadata": {},
   "source": [
    "### System inertia matrix "
   ]
  },
  {
   "cell_type": "code",
   "execution_count": 21,
   "metadata": {},
   "outputs": [],
   "source": [
    "def alpha(q):\n",
    "    sum_=0\n",
    "    ans=[]\n",
    "    for i in range(len(q)):\n",
    "        sum_+=q[i]\n",
    "        ans.append(sum_)\n",
    "    return np.array(ans)"
   ]
  },
  {
   "cell_type": "code",
   "execution_count": 22,
   "metadata": {},
   "outputs": [],
   "source": [
    "def Jv(q, i, l):\n",
    "    alp=alpha(q)\n",
    "    def Jv0(i, k, alp, l):\n",
    "        \n",
    "        if k<i:\n",
    "            tmp1=np.dot(np.array(l[k:i]),np.sin(np.radians(alp[k:i])))\n",
    "            tmp1=-tmp1-0.5*l[i]*np.sin(np.radians(alp[i]))\n",
    "            \n",
    "            tmp2 =np.dot(np.array(l[k:i]),np.cos(np.radians(alp[k:i])))\n",
    "            tmp2=tmp2+0.5*l[i]*np.cos(np.radians(alp[i]))\n",
    "                        \n",
    "            return np.array([tmp1, tmp2]).T\n",
    "        elif k==i:\n",
    "            return np.array([-0.5*l[i]*np.sin(np.radians(alp[i])),\n",
    "                    0.5*l[i]*np.cos(np.radians(alp[i]))]).T\n",
    "        else:\n",
    "            return np.array([0, 0]).T                 \n",
    "    \n",
    "    ans=np.array([Jv0(i, k, alp, l) for k in range(len(q))])\n",
    "    \n",
    "    return ans.T"
   ]
  },
  {
   "cell_type": "code",
   "execution_count": 23,
   "metadata": {},
   "outputs": [
    {
     "data": {
      "text/plain": [
       "array([[ -77.83728301,  -65.85843614,  -29.92910418,    0.        ,\n",
       "           0.        ,    0.        ,    0.        ,    0.        ],\n",
       "       [3451.33165255, 2070.38360601,  689.85106996,    0.        ,\n",
       "           0.        ,    0.        ,    0.        ,    0.        ]])"
      ]
     },
     "execution_count": 23,
     "metadata": {},
     "output_type": "execute_result"
    }
   ],
   "source": [
    "Jv(q, 2, l)"
   ]
  },
  {
   "cell_type": "code",
   "execution_count": 24,
   "metadata": {},
   "outputs": [],
   "source": [
    "def Jomega(i,q):\n",
    "\n",
    "    def Jomega0(i,k):\n",
    "        if k<=i:\n",
    "            return 1\n",
    "        return 0\n",
    "    ans=np.array([Jomega0(i, k) for k in range(len(q))])\n",
    "   \n",
    "    return ans.reshape(len(q),1).T"
   ]
  },
  {
   "cell_type": "code",
   "execution_count": 25,
   "metadata": {},
   "outputs": [],
   "source": [
    "def M(q, l, mn, In, mi):\n",
    "  \n",
    "    \n",
    "    sum1 = mn * np.dot(Jv( q, len(q)-1, l).T, Jv(q, len(q)-1, l))\n",
    "    \n",
    " \n",
    "    sum2 = In * np.dot(Jomega(len(q)-1,q).T, Jomega(len(q)-1,q))\n",
    "    \n",
    "    sum3=0\n",
    "    \n",
    "    for i in range(len(q)-1):\n",
    "        J_v = Jv(q, i, l)\n",
    "        sum3+=mi[i]*np.dot(J_v.T, J_v)\n",
    "      \n",
    "    return sum1 + sum2 + sum3   "
   ]
  },
  {
   "cell_type": "code",
   "execution_count": 26,
   "metadata": {},
   "outputs": [
    {
     "data": {
      "text/plain": [
       "array([[3.48048605e+15, 3.01457222e+15, 2.54852615e+15, 2.08274080e+15,\n",
       "        1.61760858e+15, 1.15352091e+15, 6.90867764e+14, 2.30037278e+14],\n",
       "       [3.01457222e+15, 2.61168548e+15, 2.20846742e+15, 1.80522905e+15,\n",
       "        1.40234432e+15, 1.00018651e+15, 5.99127772e+14, 1.99538779e+14],\n",
       "       [2.54852615e+15, 2.20846742e+15, 1.86802360e+15, 1.52736044e+15,\n",
       "        1.18677005e+15, 8.46607355e+14, 5.07226505e+14, 1.68980506e+14],\n",
       "       [2.08274080e+15, 1.80522905e+15, 1.52736044e+15, 1.24921869e+15,\n",
       "        9.70950719e+14, 6.92829728e+14, 4.15191668e+14, 1.38371674e+14],\n",
       "       [1.61760858e+15, 1.40234432e+15, 1.18677005e+15, 9.70950719e+14,\n",
       "        7.54951309e+14, 5.38899951e+14, 3.23050995e+14, 1.07721511e+14],\n",
       "       [1.15352091e+15, 1.00018651e+15, 8.46607355e+14, 6.92829728e+14,\n",
       "        5.38899951e+14, 3.84864313e+14, 2.30832208e+14, 7.70392461e+13],\n",
       "       [6.90867764e+14, 5.99127772e+14, 5.07226505e+14, 4.15191668e+14,\n",
       "        3.23050995e+14, 2.30832208e+14, 1.38562978e+14, 4.63340928e+13],\n",
       "       [2.30037278e+14, 1.99538779e+14, 1.68980506e+14, 1.38371674e+14,\n",
       "        1.07721511e+14, 7.70392461e+13, 4.63340928e+13, 1.56152384e+13]])"
      ]
     },
     "execution_count": 26,
     "metadata": {},
     "output_type": "execute_result"
    }
   ],
   "source": [
    "M(q, l, mn, In, mi)"
   ]
  },
  {
   "cell_type": "markdown",
   "metadata": {},
   "source": [
    "### Coriolis-centripetal matrix"
   ]
  },
  {
   "cell_type": "code",
   "execution_count": 27,
   "metadata": {},
   "outputs": [],
   "source": [
    "# TODO - not sure about this formula \n",
    "def C(q, dq, l, mn, In, mi): #here\n",
    "    ans = np.zeros((len(q),len(q)))              \n",
    "    fun = lambda q: M(q, l, mn, In, mi)\n",
    "    Dfun = nd.Gradient(fun) \n",
    "    \n",
    "    dM_dq0, dM_dq1, dM_dq2, dM_dq3, dM_dq4, dM_dq5, dM_dq6, dM_dq7 = Dfun(q)\n",
    "    diff = np.array([dM_dq0, dM_dq1, dM_dq2, dM_dq3, dM_dq4, dM_dq5, dM_dq6, dM_dq7])\n",
    "    \n",
    "    def c(i,j,k):\n",
    "        return 0.5 *(diff[k].item((i,j))+\n",
    "                     diff[j].item((i,k))-\n",
    "                     diff[i].item((j,k)))\n",
    "    \n",
    "    for i in range(len(q)):\n",
    "        for j in range(len(q)):\n",
    "            for k in range(len(q)):\n",
    "                ans[i][j]+=c(i,j,k)*np.radians(dq[k])\n",
    "    return ans    "
   ]
  },
  {
   "cell_type": "code",
   "execution_count": 28,
   "metadata": {},
   "outputs": [],
   "source": [
    "dq=[1,1,0.5,1,1,1,1,1]"
   ]
  },
  {
   "cell_type": "code",
   "execution_count": 29,
   "metadata": {},
   "outputs": [
    {
     "data": {
      "text/plain": [
       "array([[-6.01689644e-02,  2.48668924e+10,  4.64918837e+10,\n",
       "         6.16499663e+10,  6.92847903e+10,  6.69846340e+10,\n",
       "         5.23747874e+10,  2.31269114e+10],\n",
       "       [-4.97337847e+10, -3.99675304e+09,  1.82922459e+10,\n",
       "         3.49377744e+10,  4.52870014e+10,  4.72434326e+10,\n",
       "         3.87419330e+10,  1.77577379e+10],\n",
       "       [-9.29837674e+10, -4.80767452e+10, -9.69438960e+09,\n",
       "         8.02532464e+09,  2.08421284e+10,  2.69733931e+10,\n",
       "         2.46621481e+10,  1.21857437e+10],\n",
       "       [-1.23299933e+11, -8.03761717e+10, -4.31506314e+10,\n",
       "        -1.41143558e+10,  1.00425809e+08,  9.34180385e+09,\n",
       "         1.21613078e+10,  7.13878093e+09],\n",
       "       [-1.38569581e+11, -9.95940422e+10, -6.53295941e+10,\n",
       "        -3.78557643e+10, -1.70953529e+10, -5.97224587e+09,\n",
       "         9.17952158e+08,  2.45626292e+09],\n",
       "       [-1.33969268e+11, -1.01542326e+11, -7.26806033e+10,\n",
       "        -4.89716476e+10, -3.02565938e+10, -1.73460677e+10,\n",
       "        -8.09610949e+09, -1.53831677e+09],\n",
       "       [-1.04749575e+11, -8.20959878e+10, -6.17051401e+10,\n",
       "        -4.45928615e+10, -3.05998129e+10, -2.02117889e+10,\n",
       "        -1.39117486e+10, -4.52229293e+09],\n",
       "       [-4.62538227e+10, -3.72110042e+10, -2.89741432e+10,\n",
       "        -2.19083954e+10, -1.59341483e+10, -1.12132814e+10,\n",
       "        -7.90671318e+09, -6.17421234e+09]])"
      ]
     },
     "execution_count": 29,
     "metadata": {},
     "output_type": "execute_result"
    }
   ],
   "source": [
    "C(q, dq, l, mn, In, mi)"
   ]
  },
  {
   "cell_type": "markdown",
   "metadata": {},
   "source": [
    "### Hydrodynamic damping matrix"
   ]
  },
  {
   "cell_type": "code",
   "execution_count": 30,
   "metadata": {},
   "outputs": [],
   "source": [
    "def R_I_Bi(i, alp):\n",
    "    return np.array([[np.cos(np.radians(alp[i])), -np.sin(np.radians(alp[i]))],\n",
    "                    [np.sin(np.radians(alp[i])), np.cos(np.radians(alp[i]))]])"
   ]
  },
  {
   "cell_type": "code",
   "execution_count": 31,
   "metadata": {},
   "outputs": [],
   "source": [
    "alp=alpha(q)"
   ]
  },
  {
   "cell_type": "code",
   "execution_count": 32,
   "metadata": {},
   "outputs": [
    {
     "data": {
      "text/plain": [
       "array([[ 0.9990602, -0.0433441],\n",
       "       [ 0.0433441,  0.9990602]])"
      ]
     },
     "execution_count": 32,
     "metadata": {},
     "output_type": "execute_result"
    }
   ],
   "source": [
    "R_I_Bi(2, alp)"
   ]
  },
  {
   "cell_type": "code",
   "execution_count": 33,
   "metadata": {},
   "outputs": [],
   "source": [
    "I_=np.array([[0,0],\n",
    "             [0,1]])"
   ]
  },
  {
   "cell_type": "code",
   "execution_count": 34,
   "metadata": {},
   "outputs": [],
   "source": [
    "def Pi(i,alp):\n",
    "    return np.dot(np.dot(R_I_Bi(i, alp),I_),R_I_Bi(i, alp).T)"
   ]
  },
  {
   "cell_type": "code",
   "execution_count": 35,
   "metadata": {},
   "outputs": [],
   "source": [
    "# TODO - not sure about this formula \n",
    "def mod_Vn(q, alp, dq):\n",
    "    ans=[]\n",
    "    for j in range(len(q)):\n",
    "        ans.append(np.dot(np.dot(Pi(j,alp),Jv( q,j, l)), np.radians(dq)))\n",
    "    return np.linalg.norm(np.array(ans))"
   ]
  },
  {
   "cell_type": "code",
   "execution_count": 36,
   "metadata": {},
   "outputs": [
    {
     "data": {
      "text/plain": [
       "1025.877921116949"
      ]
     },
     "execution_count": 36,
     "metadata": {},
     "output_type": "execute_result"
    }
   ],
   "source": [
    "mod_Vn(q,alp,dq)"
   ]
  },
  {
   "cell_type": "code",
   "execution_count": 37,
   "metadata": {},
   "outputs": [],
   "source": [
    "# TODO - not sure about this formula \n",
    "def mod_Vni(i,q,alp,dq):\n",
    "    return np.linalg.norm(np.dot(np.dot(Pi(i,alp),Jv( q,i, l)), np.radians(dq)))"
   ]
  },
  {
   "cell_type": "code",
   "execution_count": 38,
   "metadata": {},
   "outputs": [
    {
     "data": {
      "text/plain": [
       "703.9040038473438"
      ]
     },
     "execution_count": 38,
     "metadata": {},
     "output_type": "execute_result"
    }
   ],
   "source": [
    "mod_Vni(len(q)-1,q,alp,dq)"
   ]
  },
  {
   "cell_type": "code",
   "execution_count": 39,
   "metadata": {},
   "outputs": [],
   "source": [
    "def gamma(i):\n",
    "    return 0.5*Cd[i]*qw*d0*l[i]"
   ]
  },
  {
   "cell_type": "code",
   "execution_count": 40,
   "metadata": {},
   "outputs": [],
   "source": [
    "def H(alp,q,dq,l):\n",
    "    ans=np.zeros((len(q), len(q)))\n",
    "    alp=alpha(q)\n",
    "    for j in range(len(q)):\n",
    "        ans+=gamma(j)*mod_Vni(j,q,alp,dq)*np.dot(np.dot(Jv(q,j,l).T,Pi(j,alp)),Jv( q,j, l))\n",
    "    return ans    "
   ]
  },
  {
   "cell_type": "code",
   "execution_count": 41,
   "metadata": {},
   "outputs": [
    {
     "name": "stdout",
     "output_type": "stream",
     "text": [
      "[0.49699202 1.49082649 2.48421252 3.47685189 4.4684475  5.45870381\n",
      " 6.4473273  7.43402686]\n",
      "[0.4969920175036674, 0.9938344774006839, 0.993386029527471, 0.9926393654061791, 0.991595605650625, 0.990256313383461, 0.9886234885308456, 0.9866995605624327]\n"
     ]
    }
   ],
   "source": [
    "print(alp)\n",
    "print(q)"
   ]
  },
  {
   "cell_type": "code",
   "execution_count": 42,
   "metadata": {},
   "outputs": [
    {
     "data": {
      "text/plain": [
       "array([[1.63293227e+16, 1.39730090e+16, 1.16125028e+16, 9.24851554e+15,\n",
       "        6.88364341e+15, 4.55006828e+15, 2.37967393e+15, 6.80378678e+14],\n",
       "       [1.39730090e+16, 1.19624120e+16, 9.94822579e+15, 7.93105750e+15,\n",
       "        5.91286093e+15, 3.91873009e+15, 2.05684517e+15, 5.90074081e+14],\n",
       "       [1.16125028e+16, 9.94822579e+15, 8.28096395e+15, 6.61121988e+15,\n",
       "        4.94030447e+15, 3.28621628e+15, 1.73339941e+15, 4.99592497e+14],\n",
       "       [9.24851554e+15, 7.93105750e+15, 6.61121988e+15, 5.28940058e+15,\n",
       "        3.96626723e+15, 2.65271754e+15, 1.40943418e+15, 4.08961210e+14],\n",
       "       [6.88364341e+15, 5.91286093e+15, 4.94030447e+15, 3.96626723e+15,\n",
       "        2.99104278e+15, 2.01842482e+15, 1.08504715e+15, 3.18207543e+14],\n",
       "       [4.55006828e+15, 3.91873009e+15, 3.28621628e+15, 2.65271754e+15,\n",
       "        2.01842482e+15, 1.38352905e+15, 7.60335953e+14, 2.27358823e+14],\n",
       "       [2.37967393e+15, 2.05684517e+15, 1.73339941e+15, 1.40943418e+15,\n",
       "        1.08504715e+15, 7.60335953e+14, 4.35398096e+14, 1.36442333e+14],\n",
       "       [6.80378678e+14, 5.90074081e+14, 4.99592497e+14, 4.08961210e+14,\n",
       "        3.18207543e+14, 2.27358823e+14, 1.36442333e+14, 4.54852741e+13]])"
      ]
     },
     "execution_count": 42,
     "metadata": {},
     "output_type": "execute_result"
    }
   ],
   "source": [
    "H(alp,q,[0,0,0,0.1,1,1,1,1],l)"
   ]
  },
  {
   "cell_type": "markdown",
   "metadata": {},
   "source": [
    "### Vector of spring forces in the pipe joints"
   ]
  },
  {
   "cell_type": "code",
   "execution_count": 43,
   "metadata": {},
   "outputs": [],
   "source": [
    "def f(q,k):\n",
    "    ans=np.array([k*q[i] for i in range(len(q))])\n",
    "    return ans.reshape(len(q),1)"
   ]
  },
  {
   "cell_type": "markdown",
   "metadata": {},
   "source": [
    "### Vector of gravitational/buoyancy forces"
   ]
  },
  {
   "cell_type": "code",
   "execution_count": 44,
   "metadata": {},
   "outputs": [
    {
     "data": {
      "text/plain": [
       "[0.4969920175036674,\n",
       " 0.9938344774006839,\n",
       " 0.993386029527471,\n",
       " 0.9926393654061791,\n",
       " 0.991595605650625,\n",
       " 0.990256313383461,\n",
       " 0.9886234885308456,\n",
       " 0.9866995605624327]"
      ]
     },
     "execution_count": 44,
     "metadata": {},
     "output_type": "execute_result"
    }
   ],
   "source": [
    "q"
   ]
  },
  {
   "cell_type": "code",
   "execution_count": 45,
   "metadata": {},
   "outputs": [],
   "source": [
    "def x(alp,i,l):\n",
    "    tmp1=np.dot(np.array(l[:i]),np.cos(np.radians(alp[:i])))\n",
    "\n",
    "    tmp1+=0.5*l[i]*np.cos(np.radians(alp[i]))\n",
    "    return tmp1"
   ]
  },
  {
   "cell_type": "code",
   "execution_count": 46,
   "metadata": {},
   "outputs": [
    {
     "data": {
      "text/plain": [
       "3451.331652547502"
      ]
     },
     "execution_count": 46,
     "metadata": {},
     "output_type": "execute_result"
    }
   ],
   "source": [
    "x(alp,2,l)"
   ]
  },
  {
   "cell_type": "code",
   "execution_count": 47,
   "metadata": {},
   "outputs": [],
   "source": [
    "def y(alp,i,l):\n",
    "    tmp1=np.dot(np.array(l[:i]),np.sin(np.radians(alp[:i])))\n",
    "#     print(l,alp[i],alp)\n",
    "#     print(math.sin(math.radians(alp[i])))\n",
    "    tmp1+=0.5*l[i]*np.sin(np.radians(alp[i]))\n",
    "    return tmp1"
   ]
  },
  {
   "cell_type": "code",
   "execution_count": 48,
   "metadata": {},
   "outputs": [
    {
     "data": {
      "text/plain": [
       "77.83728301293726"
      ]
     },
     "execution_count": 48,
     "metadata": {},
     "output_type": "execute_result"
    }
   ],
   "source": [
    "y(alp,2,l)"
   ]
  },
  {
   "cell_type": "code",
   "execution_count": 49,
   "metadata": {},
   "outputs": [],
   "source": [
    "G=np.array([0,-9.81]).T\n",
    "\n",
    "def ggi(i,G):\n",
    "    return mi[i]*G\n",
    "   \n",
    "    \n",
    "def gbi(G,l,i):\n",
    "    return -3.14*l[i]*(d0**2/4)*qw*G \n",
    "\n",
    "# not complete formula\n",
    "def gt(alp,fip, i): \n",
    "    return -fip*np.radians(alp[i])\n"
   ]
  },
  {
   "cell_type": "code",
   "execution_count": 50,
   "metadata": {},
   "outputs": [],
   "source": [
    "# TODO understand the commeted part and incorporate it in model \n",
    "def g(q,alp):\n",
    "    sum_=0\n",
    "    for i in range(len(q)-1):\n",
    "        sum_+=np.dot(Jv( q,i, l).T,ggi(i,G)+gbi(G,l,i))\n",
    "#     print(-qw)   \n",
    "#     print(Awp)\n",
    "#     print(y(alp,len(alp)-1,l))\n",
    "#     print(h)\n",
    "#     print(-qw,Awp,y(alp,len(q)-1,l),h)\n",
    "    tmp = -qw*Awp*(y(alp,len(alp)-1,l)-h)*G \n",
    "    sum_ += np.dot(Jv(q,len(q)-1, l).T, tmp)  #- \\\n",
    "#         np.dot(Jomega(len(q)-1).T, gt(q, fip, len(q)-1)).reshape(len(q),) \n",
    "    return sum_.reshape(len(q),1)   "
   ]
  },
  {
   "cell_type": "code",
   "execution_count": 51,
   "metadata": {},
   "outputs": [
    {
     "data": {
      "text/plain": [
       "array([[-2.43775704e+12],\n",
       "       [-2.13415509e+12],\n",
       "       [-1.82372487e+12],\n",
       "       [-1.50656592e+12],\n",
       "       [-1.18278373e+12],\n",
       "       [-8.52489545e+11],\n",
       "       [-5.15800210e+11],\n",
       "       [-1.72837950e+11]])"
      ]
     },
     "execution_count": 51,
     "metadata": {},
     "output_type": "execute_result"
    }
   ],
   "source": [
    "g(q,alp)"
   ]
  },
  {
   "cell_type": "markdown",
   "metadata": {},
   "source": [
    "### Vector of control inputs"
   ]
  },
  {
   "cell_type": "code",
   "execution_count": 52,
   "metadata": {},
   "outputs": [],
   "source": [
    "# Assume that the stinger is shorter than the link length li for any link i\n",
    "def tau_q(q,tau_qn): \n",
    "    ans= np.array([0 for i in range(len(q))]).reshape(len(q),1)\n",
    "    ans[-1] = tau_qn\n",
    "    return ans\n",
    "# tau_q - control forces from the stinger "
   ]
  },
  {
   "cell_type": "code",
   "execution_count": 53,
   "metadata": {},
   "outputs": [],
   "source": [
    "def Fx(q,alp,dq,kp, kd, x_ref = 0):\n",
    "#     print(-kp*(x(q,len(q)-1,l)-x_ref))\n",
    "#     return -kp*(x(q,len(q)-1,l)-x_ref) - kd*np.dot(np.dot(Pi(len(q)-1,q),Jv( q, len(q)-1, l)), np.radians(dq)) \n",
    "    return -kp*(x(alp,len(q)-1,l)-x_ref) - kd*mod_Vn(q,alp,dq)"
   ]
  },
  {
   "cell_type": "code",
   "execution_count": 54,
   "metadata": {},
   "outputs": [
    {
     "data": {
      "text/plain": [
       "-330327142.73470306"
      ]
     },
     "execution_count": 54,
     "metadata": {},
     "output_type": "execute_result"
    }
   ],
   "source": [
    "Fx(q,alp,dq,kp, kd, x_ref = 0)"
   ]
  },
  {
   "cell_type": "code",
   "execution_count": 55,
   "metadata": {},
   "outputs": [],
   "source": [
    "F1=np.array([Fx_,0]).reshape(2,1) # actuates the vessel in the surge direction in frame Bn\n",
    "# F=np.array([0,Fy]).reshape(2,1)\n",
    "def tau_t(q, F):\n",
    "    tmp= np.dot(Jv(q,len(q)-1, l).T, F)\n",
    "    return tmp\n",
    "#     ans=np.zeros((len(q),1))\n",
    "#     ans[-1][0]=tmp[-1][0]\n",
    "#     return  ans # the thruster forces"
   ]
  },
  {
   "cell_type": "code",
   "execution_count": 56,
   "metadata": {},
   "outputs": [
    {
     "data": {
      "text/plain": [
       "array([[-5.06171761e+10],\n",
       "       [-4.97187626e+10],\n",
       "       [-4.70240627e+10],\n",
       "       [-4.25346971e+10],\n",
       "       [-3.62533624e+10],\n",
       "       [-2.81838252e+10],\n",
       "       [-1.83309125e+10],\n",
       "       [-6.70050022e+09]])"
      ]
     },
     "execution_count": 56,
     "metadata": {},
     "output_type": "execute_result"
    }
   ],
   "source": [
    "tau_t(q, F1)"
   ]
  },
  {
   "cell_type": "code",
   "execution_count": 57,
   "metadata": {},
   "outputs": [],
   "source": [
    "tau_q_wave=9e6 # (taken from article on forces to semi-submersible platform),[N]\n",
    "# this function purly my invention\n",
    "# TODO - for improvement see Jensen thesis p. 49\n",
    "def tau_wave(q,alp, tau_q_wave):\n",
    "    Y0=y(alp,0,l)\n",
    "    C=np.exp(y(alp,len(q)-1,l))-np.exp(y(alp,0,l))\n",
    "    ans=[]\n",
    "    for i in range(len(q)):\n",
    "        ans.append([tau_q_wave/C*(np.exp(y(alp,i,l))-np.exp(y(alp,0,l)))])   \n",
    "    return np.array(ans)"
   ]
  },
  {
   "cell_type": "code",
   "execution_count": 206,
   "metadata": {},
   "outputs": [],
   "source": [
    "def tau(q, alp, tau_qn, F, tau_q_wave):\n",
    "#     return tau_q(q,tau_qn) + tau_t(q, F) + tau_wave(q, tau_q_wave)\n",
    "#     return tau_t(q, F) + tau_wave(q, tau_q_wave)\n",
    "#     return  tau_t(q, F)\n",
    "    coef=1e-10\n",
    "    return coef*(tau_t(q, F) + tau_wave(q, alp, tau_q_wave))"
   ]
  },
  {
   "cell_type": "code",
   "execution_count": 207,
   "metadata": {},
   "outputs": [],
   "source": [
    "# f1=C*eh1+b\n",
    "# f2=C*eh2+b\n",
    "\n",
    "# f1=C*(eh1-eh2)\n",
    "# f2=f1/(eh1-eh2)eh2+b\n",
    "# b="
   ]
  },
  {
   "cell_type": "code",
   "execution_count": 208,
   "metadata": {},
   "outputs": [
    {
     "data": {
      "text/plain": [
       "([1.3175115344722127e-07,\n",
       "  9.42570313520426e-11,\n",
       "  9.425702934383661e-11,\n",
       "  9.425702934354535e-11,\n",
       "  9.425702933697776e-11,\n",
       "  9.425702936828512e-11,\n",
       "  9.425702930754383e-11,\n",
       "  4.712851472444343e-11],\n",
       " array([0.49699202, 1.49082649, 2.48421252, 3.47685189, 4.4684475 ,\n",
       "        5.45870381, 6.4473273 , 7.43402686]))"
      ]
     },
     "execution_count": 208,
     "metadata": {},
     "output_type": "execute_result"
    }
   ],
   "source": [
    "q,alp"
   ]
  },
  {
   "cell_type": "code",
   "execution_count": 209,
   "metadata": {},
   "outputs": [
    {
     "data": {
      "text/plain": [
       "array([[0.00000000e+000],\n",
       "       [7.16266606e-274],\n",
       "       [4.51933778e-253],\n",
       "       [6.90948989e-222],\n",
       "       [2.45174640e-180],\n",
       "       [1.90670305e-128],\n",
       "       [3.02607591e-066],\n",
       "       [9.00000000e+006]])"
      ]
     },
     "execution_count": 209,
     "metadata": {},
     "output_type": "execute_result"
    }
   ],
   "source": [
    "tau_wave(q,alp, tau_q_wave)"
   ]
  },
  {
   "cell_type": "code",
   "execution_count": 210,
   "metadata": {},
   "outputs": [
    {
     "data": {
      "text/plain": [
       "array([[-1.79040566e-07],\n",
       "       [-1.55223583e-07],\n",
       "       [-1.31389562e-07],\n",
       "       [-1.07538501e-07],\n",
       "       [-8.36704015e-08],\n",
       "       [-5.97852628e-08],\n",
       "       [-3.58830850e-08],\n",
       "       [ 8.99988036e-04]])"
      ]
     },
     "execution_count": 210,
     "metadata": {},
     "output_type": "execute_result"
    }
   ],
   "source": [
    "tau(q, alp, tau_qn, F1, tau_q_wave)"
   ]
  },
  {
   "cell_type": "markdown",
   "metadata": {},
   "source": [
    "### Static solution"
   ]
  },
  {
   "cell_type": "code",
   "execution_count": 211,
   "metadata": {},
   "outputs": [],
   "source": [
    "def catenary(x,Ws,Fh):\n",
    "    return (Fh/Ws)*(np.cosh(x*Ws/Fh)-1)"
   ]
  },
  {
   "cell_type": "code",
   "execution_count": 212,
   "metadata": {},
   "outputs": [],
   "source": [
    "Ws = pipe_weight_per_unit_length*9.81 # [N/m]"
   ]
  },
  {
   "cell_type": "code",
   "execution_count": 213,
   "metadata": {},
   "outputs": [],
   "source": [
    "# lift_off_slope = 62#30.6 # from Jee catenary sheet, [deg]"
   ]
  },
  {
   "cell_type": "code",
   "execution_count": 214,
   "metadata": {},
   "outputs": [],
   "source": [
    "# Fx_=250000 # [N]"
   ]
  },
  {
   "cell_type": "code",
   "execution_count": null,
   "metadata": {},
   "outputs": [],
   "source": []
  },
  {
   "cell_type": "code",
   "execution_count": 215,
   "metadata": {},
   "outputs": [],
   "source": [
    "# horizontal_length =(Fx_/Ws)*math.asinh(np.tan(np.radians(lift_off_slope)))\n",
    "\n",
    "# below from Jensen thesis \n",
    "\n",
    "# Fx_=52347339\n",
    "# a0=Fx_/(Ws*h)\n",
    "# a1=math.sqrt(2*a0+1)/a0\n",
    "\n",
    "# horizontal_length=h*np.log((a1+math.sqrt(a1**2+1))**a1)"
   ]
  },
  {
   "cell_type": "code",
   "execution_count": 216,
   "metadata": {},
   "outputs": [],
   "source": [
    "# http://abc-moorings.weebly.com/catenary-calculator.html"
   ]
  },
  {
   "cell_type": "code",
   "execution_count": 217,
   "metadata": {},
   "outputs": [],
   "source": [
    "Fx_0=82945396"
   ]
  },
  {
   "cell_type": "code",
   "execution_count": 218,
   "metadata": {},
   "outputs": [],
   "source": [
    "S=math.sqrt(h*(2*Fx_0/Ws -h))\n",
    "horizontal_length=(Fx_0/Ws -h)*np.log((S+Fx_0/Ws)/(Fx_0/Ws-h))"
   ]
  },
  {
   "cell_type": "code",
   "execution_count": 219,
   "metadata": {},
   "outputs": [
    {
     "data": {
      "text/plain": [
       "11052.68484446162"
      ]
     },
     "execution_count": 219,
     "metadata": {},
     "output_type": "execute_result"
    }
   ],
   "source": [
    "horizontal_length"
   ]
  },
  {
   "cell_type": "code",
   "execution_count": 220,
   "metadata": {},
   "outputs": [],
   "source": [
    "number_of_elements=8"
   ]
  },
  {
   "cell_type": "code",
   "execution_count": 221,
   "metadata": {},
   "outputs": [],
   "source": [
    "delta_x=horizontal_length/number_of_elements"
   ]
  },
  {
   "cell_type": "code",
   "execution_count": 222,
   "metadata": {},
   "outputs": [],
   "source": [
    "x0=[i*delta_x for i in range(number_of_elements+1)]\n",
    "y0=[]\n",
    "for i in range(len(x0)):\n",
    "    y0.append(catenary(x0[i],Ws,Fx_))"
   ]
  },
  {
   "cell_type": "code",
   "execution_count": 223,
   "metadata": {},
   "outputs": [
    {
     "data": {
      "text/plain": [
       "[0.0,\n",
       " 1381.5856055577026,\n",
       " 2763.171211115405,\n",
       " 4144.756816673108,\n",
       " 5526.34242223081,\n",
       " 6907.928027788513,\n",
       " 8289.513633346216,\n",
       " 9671.099238903918,\n",
       " 11052.68484446162]"
      ]
     },
     "execution_count": 223,
     "metadata": {},
     "output_type": "execute_result"
    }
   ],
   "source": [
    "x0"
   ]
  },
  {
   "cell_type": "code",
   "execution_count": 224,
   "metadata": {},
   "outputs": [],
   "source": [
    "q=[]\n",
    "l_=[]\n",
    "deg_=[0]\n",
    "\n",
    "for i in range(len(x0)-1):\n",
    "    l_.append(np.sqrt((x0[i+1]-x0[i])**2+(y0[i+1]-y0[i])**2))\n",
    "    deg =np.degrees(math.atan((y0[i+1]-y0[i])/(x0[i+1]-x0[i])))\n",
    "    q.append(deg-deg_[-1]) \n",
    "    deg_.append(deg)\n"
   ]
  },
  {
   "cell_type": "code",
   "execution_count": 225,
   "metadata": {},
   "outputs": [],
   "source": [
    "alp_=alpha(q)"
   ]
  },
  {
   "cell_type": "code",
   "execution_count": 226,
   "metadata": {},
   "outputs": [
    {
     "data": {
      "text/plain": [
       "[0.4969920175036674,\n",
       " 0.9938344774006839,\n",
       " 0.993386029527471,\n",
       " 0.9926393654061791,\n",
       " 0.991595605650625,\n",
       " 0.990256313383461,\n",
       " 0.9886234885308456,\n",
       " 0.9866995605624327]"
      ]
     },
     "execution_count": 226,
     "metadata": {},
     "output_type": "execute_result"
    }
   ],
   "source": [
    "q"
   ]
  },
  {
   "cell_type": "code",
   "execution_count": 227,
   "metadata": {},
   "outputs": [
    {
     "data": {
      "text/plain": [
       "[1381.6375830091488,\n",
       " 1382.053426084354,\n",
       " 1382.8852373820039,\n",
       " 1384.1332672342749,\n",
       " 1385.7978912336832,\n",
       " 1387.8796103462234,\n",
       " 1390.3790510622637,\n",
       " 1393.2969655852498]"
      ]
     },
     "execution_count": 227,
     "metadata": {},
     "output_type": "execute_result"
    }
   ],
   "source": [
    "l_"
   ]
  },
  {
   "cell_type": "code",
   "execution_count": 228,
   "metadata": {
    "scrolled": true
   },
   "outputs": [
    {
     "data": {
      "image/png": "[encoded data removed]",
      "text/plain": [
       "<Figure size 640x480 with 1 Axes>"
      ]
     },
     "metadata": {},
     "output_type": "display_data"
    }
   ],
   "source": [
    "plt.plot(x0, y0)\n",
    "plt.plot(x(alp_,0,l_),y(alp_,0,l_), 'o', color='black')\n",
    "plt.plot(x(alp_,1,l_),y(alp_,1,l_), 'o', color='black')\n",
    "plt.plot(x(alp_,2,l_),y(alp_,2,l_), 'o', color='black')\n",
    "plt.plot(x(alp_,3,l_),y(alp_,3,l_), 'o', color='black')\n",
    "plt.plot(x(alp_,4,l_),y(alp_,4,l_), 'o', color='black')\n",
    "plt.plot(x(alp_,5,l_),y(alp_,5,l_), 'o', color='black')\n",
    "plt.plot(x(alp_,6,l_),y(alp_,6,l_), 'o', color='black')\n",
    "plt.plot(x(alp_,7,l_),y(alp_,7,l_), 'o', color='black')\n",
    "plt.show()"
   ]
  },
  {
   "cell_type": "code",
   "execution_count": 229,
   "metadata": {},
   "outputs": [],
   "source": [
    "q0=[]\n",
    "for i in range(len(q)):\n",
    "    q0.append(q[i])\n",
    "    q0.append(0)"
   ]
  },
  {
   "cell_type": "code",
   "execution_count": 230,
   "metadata": {},
   "outputs": [
    {
     "data": {
      "text/plain": [
       "[0.4969920175036674,\n",
       " 0,\n",
       " 0.9938344774006839,\n",
       " 0,\n",
       " 0.993386029527471,\n",
       " 0,\n",
       " 0.9926393654061791,\n",
       " 0,\n",
       " 0.991595605650625,\n",
       " 0,\n",
       " 0.990256313383461,\n",
       " 0,\n",
       " 0.9886234885308456,\n",
       " 0,\n",
       " 0.9866995605624327,\n",
       " 0]"
      ]
     },
     "execution_count": 230,
     "metadata": {},
     "output_type": "execute_result"
    }
   ],
   "source": [
    "q0"
   ]
  },
  {
   "cell_type": "code",
   "execution_count": 231,
   "metadata": {},
   "outputs": [
    {
     "data": {
      "text/plain": [
       "([0.4969920175036674,\n",
       "  0.9938344774006839,\n",
       "  0.993386029527471,\n",
       "  0.9926393654061791,\n",
       "  0.991595605650625,\n",
       "  0.990256313383461,\n",
       "  0.9886234885308456,\n",
       "  0.9866995605624327],\n",
       " [1, 1, 0.5, 1, 1, 1, 1, 1],\n",
       " 29500.0)"
      ]
     },
     "execution_count": 231,
     "metadata": {},
     "output_type": "execute_result"
    }
   ],
   "source": [
    "q,dq,kp"
   ]
  },
  {
   "cell_type": "code",
   "execution_count": 232,
   "metadata": {},
   "outputs": [],
   "source": [
    "alp_=alpha(q)"
   ]
  },
  {
   "cell_type": "code",
   "execution_count": 233,
   "metadata": {},
   "outputs": [],
   "source": [
    "F_=np.array([-Fx(q,alp_,dq,kp, 0, x_ref = 0),0]).reshape(2,1)"
   ]
  },
  {
   "cell_type": "code",
   "execution_count": 234,
   "metadata": {},
   "outputs": [],
   "source": [
    "def static_func(q):\n",
    "    alp=alpha(q)\n",
    "    ans=  f(q, K) + g(q,alp) - tau(q,alp, tau_qn, F_, 0)\n",
    "    return ans.reshape((len(q),))"
   ]
  },
  {
   "cell_type": "code",
   "execution_count": 235,
   "metadata": {},
   "outputs": [
    {
     "name": "stderr",
     "output_type": "stream",
     "text": [
      "/var/folders/6q/zp3bjthx3zv4n0bl2l835qdw0000gn/T/ipykernel_3609/3860607689.py:6: RuntimeWarning: overflow encountered in exp\n",
      "  C=np.exp(y(alp,len(q)-1,l))-np.exp(y(alp,0,l))\n",
      "/var/folders/6q/zp3bjthx3zv4n0bl2l835qdw0000gn/T/ipykernel_3609/3860607689.py:9: RuntimeWarning: overflow encountered in exp\n",
      "  ans.append([tau_q_wave/C*(np.exp(y(alp,i,l))-np.exp(y(alp,0,l)))])\n",
      "/var/folders/6q/zp3bjthx3zv4n0bl2l835qdw0000gn/T/ipykernel_3609/3860607689.py:9: RuntimeWarning: invalid value encountered in double_scalars\n",
      "  ans.append([tau_q_wave/C*(np.exp(y(alp,i,l))-np.exp(y(alp,0,l)))])\n",
      "/var/folders/6q/zp3bjthx3zv4n0bl2l835qdw0000gn/T/ipykernel_3609/2783569755.py:1: RuntimeWarning: The iteration is not making good progress, as measured by the \n",
      "  improvement from the last ten iterations.\n",
      "  root = fsolve(static_func, np.array(q))\n"
     ]
    }
   ],
   "source": [
    "root = fsolve(static_func, np.array(q))"
   ]
  },
  {
   "cell_type": "code",
   "execution_count": 236,
   "metadata": {},
   "outputs": [
    {
     "data": {
      "text/plain": [
       "array([0.49699202, 0.99383448, 0.99338603, 0.99263937, 0.99159561,\n",
       "       0.99025631, 0.98862349, 0.98669956])"
      ]
     },
     "execution_count": 236,
     "metadata": {},
     "output_type": "execute_result"
    }
   ],
   "source": [
    "root"
   ]
  },
  {
   "cell_type": "code",
   "execution_count": 237,
   "metadata": {},
   "outputs": [],
   "source": [
    "q=list(root)"
   ]
  },
  {
   "cell_type": "code",
   "execution_count": 238,
   "metadata": {},
   "outputs": [],
   "source": [
    "q0=[]\n",
    "for i in range(len(q)):\n",
    "    q0.append(q[i])\n",
    "    q0.append(0)"
   ]
  },
  {
   "cell_type": "code",
   "execution_count": 239,
   "metadata": {},
   "outputs": [],
   "source": [
    "alp_=alpha(root)"
   ]
  },
  {
   "cell_type": "code",
   "execution_count": 240,
   "metadata": {},
   "outputs": [
    {
     "data": {
      "text/plain": [
       "array([0.49699202, 1.49082649, 2.48421252, 3.47685189, 4.4684475 ,\n",
       "       5.45870381, 6.4473273 , 7.43402686])"
      ]
     },
     "execution_count": 240,
     "metadata": {},
     "output_type": "execute_result"
    }
   ],
   "source": [
    "alp_"
   ]
  },
  {
   "cell_type": "code",
   "execution_count": 241,
   "metadata": {},
   "outputs": [
    {
     "data": {
      "image/png": "[encoded data removed]",
      "text/plain": [
       "<Figure size 640x480 with 1 Axes>"
      ]
     },
     "metadata": {},
     "output_type": "display_data"
    }
   ],
   "source": [
    "plt.plot(x(alp_,0,l),y(alp_,0,l), 'o', color='black')\n",
    "plt.plot(x(alp_,1,l),y(alp_,1,l), 'o', color='black')\n",
    "plt.plot(x(alp_,2,l),y(alp_,2,l), 'o', color='black')\n",
    "plt.plot(x(alp_,3,l),y(alp_,3,l), 'o', color='black')\n",
    "plt.plot(x(alp_,4,l),y(alp_,4,l), 'o', color='black')\n",
    "plt.plot(x(alp_,5,l),y(alp_,5,l), 'o', color='black')\n",
    "plt.plot(x(alp_,6,l),y(alp_,6,l), 'o', color='black')\n",
    "plt.plot(x(alp_,7,l),y(alp_,7,l), 'o', color='black')\n",
    "plt.show()\n"
   ]
  },
  {
   "cell_type": "code",
   "execution_count": 242,
   "metadata": {},
   "outputs": [
    {
     "data": {
      "text/plain": [
       "[0.4969920175036674,\n",
       " 0.9938344774006839,\n",
       " 0.993386029527471,\n",
       " 0.9926393654061791,\n",
       " 0.991595605650625,\n",
       " 0.990256313383461,\n",
       " 0.9886234885308456,\n",
       " 0.9866995605624327]"
      ]
     },
     "execution_count": 242,
     "metadata": {},
     "output_type": "execute_result"
    }
   ],
   "source": [
    "q"
   ]
  },
  {
   "cell_type": "code",
   "execution_count": 243,
   "metadata": {},
   "outputs": [
    {
     "data": {
      "text/plain": [
       "[0.4969920175036674,\n",
       " 0,\n",
       " 0.9938344774006839,\n",
       " 0,\n",
       " 0.993386029527471,\n",
       " 0,\n",
       " 0.9926393654061791,\n",
       " 0,\n",
       " 0.991595605650625,\n",
       " 0,\n",
       " 0.990256313383461,\n",
       " 0,\n",
       " 0.9886234885308456,\n",
       " 0,\n",
       " 0.9866995605624327,\n",
       " 0]"
      ]
     },
     "execution_count": 243,
     "metadata": {},
     "output_type": "execute_result"
    }
   ],
   "source": [
    "q0"
   ]
  },
  {
   "cell_type": "code",
   "execution_count": 244,
   "metadata": {},
   "outputs": [
    {
     "name": "stdout",
     "output_type": "stream",
     "text": [
      "0:00:00.002764\n"
     ]
    }
   ],
   "source": [
    "startTime = datetime.now()\n",
    "\n",
    "add1=functools.partial(Jv, i=len(q)-1, l=l)\n",
    "add1__Jv = np.array(list(map(add1, [q])))\n",
    "\n",
    "add5=functools.partial(f, k=K)\n",
    "add5__f =np.array(list(map(add5, [q])))\n",
    "\n",
    "add6=functools.partial(g,alp=alp_)\n",
    "add6__g =np.array(list(map(add6, [q])))\n",
    "\n",
    "print(datetime.now() - startTime)"
   ]
  },
  {
   "cell_type": "code",
   "execution_count": 245,
   "metadata": {},
   "outputs": [],
   "source": [
    "tmp__1=pinv(add1__Jv.transpose(0, 2, 1))\n",
    "tmp__2= add5__f + add6__g"
   ]
  },
  {
   "cell_type": "code",
   "execution_count": 246,
   "metadata": {},
   "outputs": [],
   "source": [
    "tmp__=np.matmul(tmp__1, tmp__2)"
   ]
  },
  {
   "cell_type": "code",
   "execution_count": 247,
   "metadata": {},
   "outputs": [],
   "source": [
    "dim1=int(max_t/dt)\n",
    "dim2=dim1-1"
   ]
  },
  {
   "cell_type": "code",
   "execution_count": 248,
   "metadata": {},
   "outputs": [
    {
     "data": {
      "image/png": "[encoded data removed]",
      "text/plain": [
       "<Figure size 640x480 with 1 Axes>"
      ]
     },
     "metadata": {},
     "output_type": "display_data"
    }
   ],
   "source": [
    "plt.plot(t[:len(tmp__)],tmp__[:,0],'o', color='red')\n",
    "plt.xlim([-1, dim1//2])\n",
    "plt.ylim([-1000000000, 1000000000])\n",
    "plt.xlabel('t')\n",
    "plt.ylabel('T_H')\n",
    "plt.show()"
   ]
  },
  {
   "cell_type": "code",
   "execution_count": 249,
   "metadata": {},
   "outputs": [
    {
     "data": {
      "image/png": "[encoded data removed]",
      "text/plain": [
       "<Figure size 640x480 with 1 Axes>"
      ]
     },
     "metadata": {},
     "output_type": "display_data"
    }
   ],
   "source": [
    "plt.plot(t[:len(tmp__)],tmp__[:,1],'o', color='red')\n",
    "plt.xlim([-1, dim1//2])\n",
    "plt.ylim([-100000000, 100000000])\n",
    "plt.xlabel('t')\n",
    "plt.ylabel('T_V')\n",
    "plt.show()"
   ]
  },
  {
   "cell_type": "code",
   "execution_count": 250,
   "metadata": {},
   "outputs": [
    {
     "data": {
      "text/plain": [
       "(array([2.74178144e+08]), array([-2.18099647e+08]))"
      ]
     },
     "execution_count": 250,
     "metadata": {},
     "output_type": "execute_result"
    }
   ],
   "source": [
    "max(tmp__[:,0]), max(tmp__[:,1])"
   ]
  },
  {
   "cell_type": "markdown",
   "metadata": {},
   "source": [
    "### Dynamic solution "
   ]
  },
  {
   "cell_type": "code",
   "execution_count": 251,
   "metadata": {},
   "outputs": [],
   "source": [
    "from scipy.linalg import lu_factor, lu_solve"
   ]
  },
  {
   "cell_type": "code",
   "execution_count": 252,
   "metadata": {},
   "outputs": [],
   "source": [
    "def manipulator(Q, t, q):\n",
    "    print(t)\n",
    "    q0,dq0,q1,dq1,q2,dq2,q3,dq3,q4,dq4,q5,dq5,q6,dq6,q7,dq7 = Q\n",
    "    QI=np.array([q0,q1,q2,q3,q4,q5,q6,q7]).reshape(len(q),1)\n",
    "    dQ=np.array([dq0,dq1,dq2,dq3,dq4,dq5,dq6,dq7]).reshape(len(q),1)\n",
    "    \n",
    "    QI= QI.flatten().tolist()\n",
    "    \n",
    "    alp=alpha(QI)\n",
    "\n",
    "    if t>100:\n",
    "        F=np.array([-Fx(QI, alp, dQ, kp, kd, x_ref = 0),0]).reshape(2,1)\n",
    "    else:\n",
    "        F=np.array([Fx_,0]).reshape(2,1)\n",
    "   \n",
    "    \n",
    "    ddq0, ddq1, ddq2, ddq3, ddq4, ddq5, ddq6, ddq7 = np.linalg.lstsq(M(QI, l, mn, In, mi), \n",
    "                        - np.dot(H(alp,QI,dQ,l), np.radians(dQ)).reshape(len(QI),1)\n",
    "                        - np.dot(C(QI,dQ, l, mn, In, mi), np.radians(dQ)).reshape(len(QI),1)  \n",
    "                        - f(QI, K) \n",
    "                        - g(QI,alp)\n",
    "                        + tau(QI,alp, tau_qn, F, tau_q_wave), rcond=None)[0]\n",
    "\n",
    "    return [dq0,ddq0,dq1,ddq1,dq2,ddq2,dq3,ddq3,dq4,ddq4,dq5,ddq5,dq6,ddq6,dq7,ddq7]"
   ]
  },
  {
   "cell_type": "code",
   "execution_count": 253,
   "metadata": {},
   "outputs": [
    {
     "name": "stdout",
     "output_type": "stream",
     "text": [
      "0.0\n",
      "6.098365692101468e-05\n",
      "6.098365692101468e-05\n",
      "0.00012196731384202936\n",
      "0.00012196731384202936\n",
      "0.008727254004344267\n",
      "0.008727254004344267\n",
      "0.017332540694846504\n",
      "0.017332540694846504\n",
      "0.025937827385348743\n",
      "0.025937827385348743\n",
      "0.06281235162988108\n",
      "0.06281235162988108\n",
      "0.05314098007601872\n",
      "0.05314098007601872\n",
      "0.08034413276668871\n",
      "0.08034413276668871\n",
      "0.1075472854573587\n",
      "0.1075472854573587\n",
      "0.13475043814802867\n",
      "0.13475043814802867\n",
      "0.18642707012396265\n",
      "0.18642707012396265\n",
      "0.23810370209989662\n",
      "0.23810370209989662\n",
      "0.2897803340758306\n",
      "0.2897803340758306\n",
      "0.34145696605176457\n",
      "0.34145696605176457\n",
      "0.39313359802769854\n",
      "0.39313359802769854\n",
      "0.4779957691377035\n",
      "0.4779957691377035\n",
      "0.5628579402477084\n",
      "0.5628579402477084\n",
      "0.6477201113577133\n",
      "0.6477201113577133\n",
      "0.7325822824677183\n",
      "0.7325822824677183\n",
      "0.8174444535777232\n",
      "0.8174444535777232\n",
      "0.9023066246877282\n",
      "0.9023066246877282\n",
      "0.9860692862568066\n",
      "0.9860692862568066\n",
      "1.069831947825885\n",
      "1.069831947825885\n",
      "1.1535946093949636\n",
      "1.1535946093949636\n",
      "1.2373572709640421\n",
      "1.2373572709640421\n",
      "1.3211199325331207\n",
      "1.3211199325331207\n",
      "1.4048825941021992\n",
      "1.4048825941021992\n",
      "1.5239167562518057\n",
      "1.5239167562518057\n",
      "1.6429509184014122\n",
      "1.6429509184014122\n",
      "1.7619850805510187\n",
      "1.7619850805510187\n",
      "1.8810192427006251\n",
      "1.8810192427006251\n",
      "2.000053404850232\n",
      "2.000053404850232\n",
      "2.1190875669998386\n",
      "2.1190875669998386\n",
      "2.2381217291494453\n",
      "2.2381217291494453\n",
      "2.357155891299052\n",
      "2.357155891299052\n",
      "2.4761900534486587\n",
      "2.4761900534486587\n",
      "2.5952242155982654\n",
      "2.5952242155982654\n",
      "2.7385460281324154\n",
      "2.7385460281324154\n",
      "2.8818678406665654\n",
      "2.8818678406665654\n",
      "3.0251896532007154\n",
      "3.0251896532007154\n",
      "3.1685114657348654\n",
      "3.1685114657348654\n",
      "3.3118332782690154\n",
      "3.3118332782690154\n",
      "3.4551550908031654\n",
      "3.4551550908031654\n",
      "3.5984769033373154\n",
      "3.5984769033373154\n",
      "3.7417987158714654\n",
      "3.7417987158714654\n",
      "3.8851205284056154\n",
      "3.8851205284056154\n",
      "4.028442340939765\n",
      "4.028442340939765\n",
      "4.171764153473916\n",
      "4.171764153473916\n",
      "4.237401802422586\n",
      "4.237401802422586\n",
      "4.303039451371257\n",
      "4.303039451371257\n",
      "4.368677100319927\n",
      "4.368677100319927\n",
      "4.434314749268598\n",
      "4.434314749268598\n",
      "4.4999523982172684\n",
      "4.4999523982172684\n",
      "4.565590047165939\n",
      "4.565590047165939\n",
      "4.6312276961146095\n",
      "4.6312276961146095\n",
      "4.738651746893004\n",
      "4.738651746893004\n",
      "4.846075797671399\n",
      "4.846075797671399\n",
      "4.953499848449794\n",
      "4.953499848449794\n",
      "5.060923899228189\n",
      "5.060923899228189\n",
      "5.168347950006583\n",
      "5.168347950006583\n",
      "5.275772000784978\n",
      "5.275772000784978\n",
      "5.383196051563373\n",
      "5.383196051563373\n",
      "5.478805418420067\n",
      "5.478805418420067\n",
      "5.574414785276761\n",
      "5.574414785276761\n",
      "5.670024152133455\n",
      "5.670024152133455\n",
      "5.765633518990149\n",
      "5.765633518990149\n",
      "5.861242885846843\n",
      "5.861242885846843\n",
      "5.956852252703537\n",
      "5.956852252703537\n",
      "6.0581396600985515\n",
      "6.0581396600985515\n",
      "6.159427067493566\n",
      "6.159427067493566\n",
      "6.260714474888581\n",
      "6.260714474888581\n",
      "6.362001882283596\n",
      "6.362001882283596\n",
      "6.4632892896786105\n",
      "6.4632892896786105\n",
      "6.564576697073625\n",
      "6.564576697073625\n",
      "6.664609130172082\n",
      "6.664609130172082\n",
      "6.764641563270538\n",
      "6.764641563270538\n",
      "6.864673996368994\n",
      "6.864673996368994\n",
      "6.9647064294674506\n",
      "6.9647064294674506\n",
      "7.064738862565907\n",
      "7.064738862565907\n",
      "7.164771295664363\n",
      "7.164771295664363\n",
      "7.2743027727725895\n",
      "7.2743027727725895\n",
      "7.383834249880816\n",
      "7.383834249880816\n",
      "7.493365726989042\n",
      "7.493365726989042\n",
      "7.602897204097268\n",
      "7.602897204097268\n",
      "7.712428681205495\n",
      "7.712428681205495\n",
      "7.821960158313721\n",
      "7.821960158313721\n",
      "7.975081710980318\n",
      "7.975081710980318\n",
      "8.128203263646913\n",
      "8.128203263646913\n",
      "8.281324816313509\n",
      "8.281324816313509\n",
      "8.434446368980105\n",
      "8.434446368980105\n",
      "8.5875679216467\n",
      "8.5875679216467\n",
      "8.740689474313296\n",
      "8.740689474313296\n",
      "8.893811026979892\n",
      "8.893811026979892\n",
      "9.046932579646487\n",
      "9.046932579646487\n",
      "9.200054132313083\n",
      "9.200054132313083\n",
      "9.353175684979679\n",
      "9.353175684979679\n",
      "9.523375743611707\n",
      "9.523375743611707\n",
      "9.693575802243735\n",
      "9.693575802243735\n",
      "9.863775860875764\n",
      "9.863775860875764\n",
      "10.033975919507792\n",
      "10.033975919507792\n",
      "10.204175978139821\n",
      "10.204175978139821\n",
      "10.37437603677185\n",
      "10.37437603677185\n",
      "10.544576095403878\n",
      "10.544576095403878\n",
      "10.660032680140944\n",
      "10.660032680140944\n",
      "10.77548926487801\n",
      "10.77548926487801\n",
      "10.890945849615076\n",
      "10.890945849615076\n",
      "11.006402434352141\n",
      "11.006402434352141\n",
      "11.121859019089207\n",
      "11.121859019089207\n",
      "11.237315603826273\n",
      "11.237315603826273\n",
      "11.353716534744175\n",
      "11.353716534744175\n",
      "11.470117465662076\n",
      "11.470117465662076\n",
      "11.586518396579978\n",
      "11.586518396579978\n",
      "11.702919327497879\n",
      "11.702919327497879\n",
      "11.81932025841578\n",
      "11.81932025841578\n",
      "11.935721189333682\n",
      "11.935721189333682\n",
      "12.063205121400207\n",
      "12.063205121400207\n",
      "12.190689053466732\n",
      "12.190689053466732\n",
      "12.318172985533257\n",
      "12.318172985533257\n",
      "12.445656917599782\n",
      "12.445656917599782\n",
      "12.573140849666308\n",
      "12.573140849666308\n",
      "12.700624781732833\n",
      "12.700624781732833\n",
      "12.875552399343638\n",
      "12.875552399343638\n",
      "13.050480016954443\n",
      "13.050480016954443\n",
      "13.225407634565249\n",
      "13.225407634565249\n",
      "13.400335252176054\n",
      "13.400335252176054\n",
      "13.57526286978686\n",
      "13.57526286978686\n",
      "13.750190487397665\n",
      "13.750190487397665\n",
      "13.92511810500847\n",
      "13.92511810500847\n",
      "14.100045722619276\n",
      "14.100045722619276\n",
      "14.274973340230082\n",
      "14.274973340230082\n",
      "14.449900957840887\n",
      "14.449900957840887\n",
      "14.648623191402827\n",
      "14.648623191402827\n",
      "14.847345424964766\n",
      "14.847345424964766\n",
      "15.046067658526706\n",
      "15.046067658526706\n",
      "15.244789892088646\n",
      "15.244789892088646\n",
      "15.443512125650585\n",
      "15.443512125650585\n",
      "15.642234359212525\n",
      "15.642234359212525\n",
      "15.840956592774464\n",
      "15.840956592774464\n",
      "15.96759016811552\n",
      "15.96759016811552\n",
      "16.094223743456574\n",
      "16.094223743456574\n",
      "16.220857318797627\n",
      "16.220857318797627\n",
      "16.34749089413868\n",
      "16.34749089413868\n",
      "16.474124469479733\n",
      "16.474124469479733\n",
      "16.600758044820786\n",
      "16.600758044820786\n",
      "16.73536698265953\n",
      "16.73536698265953\n",
      "16.869975920498277\n",
      "16.869975920498277\n",
      "17.004584858337022\n",
      "17.004584858337022\n",
      "17.139193796175768\n",
      "17.139193796175768\n",
      "17.273802734014513\n",
      "17.273802734014513\n",
      "17.40841167185326\n",
      "17.40841167185326\n",
      "17.55561918981245\n",
      "17.55561918981245\n",
      "17.702826707771642\n",
      "17.702826707771642\n",
      "17.850034225730834\n",
      "17.850034225730834\n",
      "17.997241743690026\n",
      "17.997241743690026\n",
      "18.144449261649218\n",
      "18.144449261649218\n",
      "18.29165677960841\n",
      "18.29165677960841\n",
      "18.491988381020033\n",
      "18.491988381020033\n",
      "18.692319982431655\n",
      "18.692319982431655\n",
      "18.89265158384328\n",
      "18.89265158384328\n",
      "19.0929831852549\n",
      "19.0929831852549\n",
      "19.293314786666524\n",
      "19.293314786666524\n",
      "19.493646388078147\n",
      "19.493646388078147\n",
      "19.69397798948977\n",
      "19.69397798948977\n",
      "19.868219769259245\n",
      "19.868219769259245\n",
      "20.04246154902872\n",
      "20.04246154902872\n",
      "20.216703328798193\n",
      "20.216703328798193\n",
      "20.390945108567667\n",
      "20.390945108567667\n",
      "20.56518688833714\n",
      "20.56518688833714\n",
      "20.739428668106616\n",
      "20.739428668106616\n",
      "20.94656698992087\n",
      "20.94656698992087\n",
      "21.153705311735127\n",
      "21.153705311735127\n",
      "21.360843633549383\n",
      "21.360843633549383\n",
      "21.56798195536364\n",
      "21.56798195536364\n",
      "21.775120277177894\n",
      "21.775120277177894\n",
      "21.98225859899215\n",
      "21.98225859899215\n",
      "22.189396920806406\n",
      "22.189396920806406\n",
      "22.32838711871608\n",
      "22.32838711871608\n",
      "22.467377316625754\n",
      "22.467377316625754\n",
      "22.606367514535428\n",
      "22.606367514535428\n",
      "22.745357712445102\n",
      "22.745357712445102\n",
      "22.884347910354776\n",
      "22.884347910354776\n",
      "23.02333810826445\n",
      "23.02333810826445\n",
      "23.244855220395593\n",
      "23.244855220395593\n",
      "23.466372332526735\n",
      "23.466372332526735\n",
      "23.687889444657877\n",
      "23.687889444657877\n",
      "23.90940655678902\n",
      "23.90940655678902\n",
      "24.13092366892016\n",
      "24.13092366892016\n",
      "24.352440781051303\n",
      "24.352440781051303\n",
      "24.573957893182445\n",
      "24.573957893182445\n",
      "24.802881582805924\n",
      "24.802881582805924\n",
      "25.031805272429402\n",
      "25.031805272429402\n",
      "25.26072896205288\n",
      "25.26072896205288\n",
      "25.48965265167636\n",
      "25.48965265167636\n",
      "25.718576341299837\n",
      "25.718576341299837\n",
      "25.947500030923315\n",
      "25.947500030923315\n",
      "26.176423720546794\n",
      "26.176423720546794\n",
      "26.324611979925468\n",
      "26.324611979925468\n",
      "26.472800239304142\n",
      "26.472800239304142\n",
      "26.620988498682816\n",
      "26.620988498682816\n",
      "26.76917675806149\n",
      "26.76917675806149\n",
      "26.917365017440165\n",
      "26.917365017440165\n",
      "27.06555327681884\n",
      "27.06555327681884\n",
      "27.204001918227352\n",
      "27.204001918227352\n",
      "27.342450559635864\n",
      "27.342450559635864\n",
      "27.480899201044377\n",
      "27.480899201044377\n",
      "27.61934784245289\n",
      "27.61934784245289\n",
      "27.7577964838614\n",
      "27.7577964838614\n",
      "28.034693766678426\n",
      "Unexpected exception formatting exception. Falling back to standard exception\n"
     ]
    },
    {
     "name": "stderr",
     "output_type": "stream",
     "text": [
      "/var/folders/6q/zp3bjthx3zv4n0bl2l835qdw0000gn/T/ipykernel_3609/3860607689.py:6: RuntimeWarning: overflow encountered in exp\n",
      "  C=np.exp(y(alp,len(q)-1,l))-np.exp(y(alp,0,l))\n",
      "/var/folders/6q/zp3bjthx3zv4n0bl2l835qdw0000gn/T/ipykernel_3609/3860607689.py:9: RuntimeWarning: overflow encountered in exp\n",
      "  ans.append([tau_q_wave/C*(np.exp(y(alp,i,l))-np.exp(y(alp,0,l)))])\n",
      "/var/folders/6q/zp3bjthx3zv4n0bl2l835qdw0000gn/T/ipykernel_3609/3860607689.py:9: RuntimeWarning: invalid value encountered in double_scalars\n",
      "  ans.append([tau_q_wave/C*(np.exp(y(alp,i,l))-np.exp(y(alp,0,l)))])\n",
      "/var/folders/6q/zp3bjthx3zv4n0bl2l835qdw0000gn/T/ipykernel_3609/3860607689.py:6: RuntimeWarning: overflow encountered in exp\n",
      "  C=np.exp(y(alp,len(q)-1,l))-np.exp(y(alp,0,l))\n",
      "/var/folders/6q/zp3bjthx3zv4n0bl2l835qdw0000gn/T/ipykernel_3609/3860607689.py:9: RuntimeWarning: overflow encountered in exp\n",
      "  ans.append([tau_q_wave/C*(np.exp(y(alp,i,l))-np.exp(y(alp,0,l)))])\n",
      "/var/folders/6q/zp3bjthx3zv4n0bl2l835qdw0000gn/T/ipykernel_3609/3860607689.py:9: RuntimeWarning: invalid value encountered in double_scalars\n",
      "  ans.append([tau_q_wave/C*(np.exp(y(alp,i,l))-np.exp(y(alp,0,l)))])\n",
      "Traceback (most recent call last):\n",
      "  File \"/Users/giga/Library/Python/3.9/lib/python/site-packages/IPython/core/interactiveshell.py\", line 3508, in run_code\n",
      "    exec(code_obj, self.user_global_ns, self.user_ns)\n",
      "  File \"/var/folders/6q/zp3bjthx3zv4n0bl2l835qdw0000gn/T/ipykernel_3609/4142645663.py\", line 2, in <module>\n",
      "    us=odeint(manipulator,q0,t, args=(q,))\n",
      "  File \"/Library/Frameworks/Python.framework/Versions/3.9/lib/python3.9/site-packages/scipy/integrate/_odepack_py.py\", line 243, in odeint\n",
      "    output = _odepack.odeint(func, y0, t, args, Dfun, col_deriv, ml, mu,\n",
      "  File \"/var/folders/6q/zp3bjthx3zv4n0bl2l835qdw0000gn/T/ipykernel_3609/1080169063.py\", line 19, in manipulator\n",
      "    - np.dot(C(QI,dQ, l, mn, In, mi), np.radians(dQ)).reshape(len(QI),1)\n",
      "  File \"/var/folders/6q/zp3bjthx3zv4n0bl2l835qdw0000gn/T/ipykernel_3609/651517877.py\", line 7, in C\n",
      "    dM_dq0, dM_dq1, dM_dq2, dM_dq3, dM_dq4, dM_dq5, dM_dq6, dM_dq7 = Dfun(q)\n",
      "  File \"/Library/Frameworks/Python.framework/Versions/3.9/lib/python3.9/site-packages/numdifftools/core.py\", line 490, in __call__\n",
      "    result = super(Gradient, self).__call__(np.atleast_1d(x).ravel(), *args, **kwds)\n",
      "  File \"/Library/Frameworks/Python.framework/Versions/3.9/lib/python3.9/site-packages/numdifftools/core.py\", line 431, in __call__\n",
      "    return super(Jacobian, self).__call__(np.atleast_1d(x), *args, **kwds)\n",
      "  File \"/Library/Frameworks/Python.framework/Versions/3.9/lib/python3.9/site-packages/numdifftools/core.py\", line 288, in __call__\n",
      "    results, f_xi = self._derivative(x_i, args, kwds)\n",
      "  File \"/Library/Frameworks/Python.framework/Versions/3.9/lib/python3.9/site-packages/numdifftools/core.py\", line 428, in _derivative_nonzero_order\n",
      "    return self.fd_rule.apply(results, steps2, step_ratio), fxi\n",
      "  File \"/Library/Frameworks/Python.framework/Versions/3.9/lib/python3.9/site-packages/numdifftools/finite_difference.py\", line 583, in apply\n",
      "    f_del, h, original_shape = self._vstack(sequence, steps)\n",
      "  File \"/Library/Frameworks/Python.framework/Versions/3.9/lib/python3.9/site-packages/numdifftools/finite_difference.py\", line 673, in _vstack\n",
      "    original_shape = list(np.shape(np.atleast_1d(sequence[0])))\n",
      "IndexError: list index out of range\n",
      "\n",
      "During handling of the above exception, another exception occurred:\n",
      "\n",
      "Traceback (most recent call last):\n",
      "  File \"/Users/giga/Library/Python/3.9/lib/python/site-packages/IPython/core/interactiveshell.py\", line 2105, in showtraceback\n",
      "    stb = self.InteractiveTB.structured_traceback(\n",
      "  File \"/Users/giga/Library/Python/3.9/lib/python/site-packages/IPython/core/ultratb.py\", line 1428, in structured_traceback\n",
      "    return FormattedTB.structured_traceback(\n",
      "  File \"/Users/giga/Library/Python/3.9/lib/python/site-packages/IPython/core/ultratb.py\", line 1319, in structured_traceback\n",
      "    return VerboseTB.structured_traceback(\n",
      "  File \"/Users/giga/Library/Python/3.9/lib/python/site-packages/IPython/core/ultratb.py\", line 1172, in structured_traceback\n",
      "    formatted_exception = self.format_exception_as_a_whole(etype, evalue, etb, number_of_lines_of_context,\n",
      "  File \"/Users/giga/Library/Python/3.9/lib/python/site-packages/IPython/core/ultratb.py\", line 1087, in format_exception_as_a_whole\n",
      "    frames.append(self.format_record(record))\n",
      "  File \"/Users/giga/Library/Python/3.9/lib/python/site-packages/IPython/core/ultratb.py\", line 969, in format_record\n",
      "    frame_info.lines, Colors, self.has_colors, lvals\n",
      "  File \"/Users/giga/Library/Python/3.9/lib/python/site-packages/IPython/core/ultratb.py\", line 792, in lines\n",
      "    return self._sd.lines\n",
      "  File \"/Users/giga/Library/Python/3.9/lib/python/site-packages/stack_data/utils.py\", line 144, in cached_property_wrapper\n",
      "    value = obj.__dict__[self.func.__name__] = self.func(obj)\n",
      "  File \"/Users/giga/Library/Python/3.9/lib/python/site-packages/stack_data/core.py\", line 734, in lines\n",
      "    pieces = self.included_pieces\n",
      "  File \"/Users/giga/Library/Python/3.9/lib/python/site-packages/stack_data/utils.py\", line 144, in cached_property_wrapper\n",
      "    value = obj.__dict__[self.func.__name__] = self.func(obj)\n",
      "  File \"/Users/giga/Library/Python/3.9/lib/python/site-packages/stack_data/core.py\", line 677, in included_pieces\n",
      "    scope_pieces = self.scope_pieces\n",
      "  File \"/Users/giga/Library/Python/3.9/lib/python/site-packages/stack_data/utils.py\", line 144, in cached_property_wrapper\n",
      "    value = obj.__dict__[self.func.__name__] = self.func(obj)\n",
      "  File \"/Users/giga/Library/Python/3.9/lib/python/site-packages/stack_data/core.py\", line 614, in scope_pieces\n",
      "    scope_start, scope_end = self.source.line_range(self.scope)\n",
      "  File \"/Users/giga/Library/Python/3.9/lib/python/site-packages/stack_data/core.py\", line 178, in line_range\n",
      "    return line_range(self.asttext(), node)\n",
      "AttributeError: 'Source' object has no attribute 'asttext'\n"
     ]
    }
   ],
   "source": [
    "startTime1 = datetime.now()\n",
    "us=odeint(manipulator,q0,t, args=(q,))\n",
    "print(datetime.now() - startTime1)"
   ]
  },
  {
   "cell_type": "code",
   "execution_count": null,
   "metadata": {},
   "outputs": [],
   "source": [
    "us_=us"
   ]
  },
  {
   "cell_type": "code",
   "execution_count": null,
   "metadata": {},
   "outputs": [],
   "source": [
    "plt.plot(t,np.radians(us_[:,0]) ,'-')\n",
    "plt.xlabel('t')\n",
    "plt.ylabel('q0 (rad)')\n",
    "plt.show()"
   ]
  },
  {
   "cell_type": "code",
   "execution_count": null,
   "metadata": {},
   "outputs": [],
   "source": [
    "plt.plot(t,us_[:,1],'-')\n",
    "plt.xlabel('t')\n",
    "plt.ylabel('dq0')\n",
    "plt.show()"
   ]
  },
  {
   "cell_type": "code",
   "execution_count": null,
   "metadata": {},
   "outputs": [],
   "source": [
    "plt.plot(t, np.radians(us_[:,2]),'-')\n",
    "plt.xlabel('t')\n",
    "plt.ylabel('q1 (rad)')\n",
    "plt.show()"
   ]
  },
  {
   "cell_type": "code",
   "execution_count": null,
   "metadata": {},
   "outputs": [],
   "source": [
    "plt.plot(t, us_[:,3],'-')\n",
    "plt.xlabel('t')\n",
    "plt.ylabel('dq1')\n",
    "plt.show()"
   ]
  },
  {
   "cell_type": "code",
   "execution_count": null,
   "metadata": {},
   "outputs": [],
   "source": [
    "plt.plot(t, np.radians(us_[:,4]),'-')\n",
    "plt.xlabel('t')\n",
    "plt.ylabel('q2 (rad)')\n",
    "plt.show()"
   ]
  },
  {
   "cell_type": "code",
   "execution_count": null,
   "metadata": {},
   "outputs": [],
   "source": [
    "plt.plot(t, us_[:,5],'-')\n",
    "plt.xlabel('t')\n",
    "plt.ylabel('dq2')\n",
    "plt.show()"
   ]
  },
  {
   "cell_type": "code",
   "execution_count": null,
   "metadata": {},
   "outputs": [],
   "source": [
    "plt.plot(t, np.radians(us_[:,6]),'-')\n",
    "plt.xlabel('t')\n",
    "plt.ylabel('q3 (rad)')\n",
    "plt.show()"
   ]
  },
  {
   "cell_type": "code",
   "execution_count": null,
   "metadata": {},
   "outputs": [],
   "source": [
    "plt.plot(t, us_[:,7],'-')\n",
    "plt.xlabel('t')\n",
    "plt.ylabel('dq3')\n",
    "plt.show()"
   ]
  },
  {
   "cell_type": "code",
   "execution_count": null,
   "metadata": {},
   "outputs": [],
   "source": [
    "plt.plot(t, np.radians(us_[:,8]),'-')\n",
    "plt.xlabel('t')\n",
    "plt.ylabel('q4 (rad)')\n",
    "plt.show()"
   ]
  },
  {
   "cell_type": "code",
   "execution_count": null,
   "metadata": {},
   "outputs": [],
   "source": [
    "plt.plot(t, us_[:,9],'-')\n",
    "plt.xlabel('t')\n",
    "plt.ylabel('dq4')\n",
    "plt.show()"
   ]
  },
  {
   "cell_type": "code",
   "execution_count": null,
   "metadata": {},
   "outputs": [],
   "source": [
    "plt.plot(t, np.radians(us_[:,10]),'-')\n",
    "plt.xlabel('t')\n",
    "plt.ylabel('q5 (rad)')\n",
    "plt.show()"
   ]
  },
  {
   "cell_type": "code",
   "execution_count": null,
   "metadata": {},
   "outputs": [],
   "source": [
    "plt.plot(t, us_[:,11],'-')\n",
    "plt.xlabel('t')\n",
    "plt.ylabel('dq5')\n",
    "plt.show()"
   ]
  },
  {
   "cell_type": "code",
   "execution_count": null,
   "metadata": {},
   "outputs": [],
   "source": [
    "plt.plot(t, np.radians(us_[:,12]),'-')\n",
    "plt.xlabel('t')\n",
    "plt.ylabel('q6 (rad)')\n",
    "plt.show()"
   ]
  },
  {
   "cell_type": "code",
   "execution_count": null,
   "metadata": {},
   "outputs": [],
   "source": [
    "plt.plot(t, us_[:,13],'-')\n",
    "plt.xlabel('t')\n",
    "plt.ylabel('dq6')\n",
    "plt.show()"
   ]
  },
  {
   "cell_type": "code",
   "execution_count": null,
   "metadata": {},
   "outputs": [],
   "source": [
    "plt.plot(t, np.radians(us_[:,14]),'-')\n",
    "plt.xlabel('t')\n",
    "plt.ylabel('q7 (rad)')\n",
    "plt.show()"
   ]
  },
  {
   "cell_type": "code",
   "execution_count": null,
   "metadata": {},
   "outputs": [],
   "source": [
    "plt.plot(t, us_[:,15],'-')\n",
    "plt.xlabel('t')\n",
    "plt.ylabel('dq7')\n",
    "plt.show()"
   ]
  },
  {
   "cell_type": "code",
   "execution_count": null,
   "metadata": {},
   "outputs": [],
   "source": [
    "X0=[x(alpha(us_[i,[0,2,4,6,8,10,12,14]]),0,l) for i in range(len(us_))]\n",
    "Y0=[y(alpha(us_[i,[0,2,4,6,8,10,12,14]]),0,l) for i in range(len(us_))]\n",
    "X1=[x(alpha(us_[i,[0,2,4,6,8,10,12,14]]),1,l) for i in range(len(us_))]\n",
    "Y1=[y(alpha(us_[i,[0,2,4,6,8,10,12,14]]),1,l) for i in range(len(us_))]\n",
    "X2=[x(alpha(us_[i,[0,2,4,6,8,10,12,14]]),2,l) for i in range(len(us_))]\n",
    "Y2=[y(alpha(us_[i,[0,2,4,6,8,10,12,14]]),2,l) for i in range(len(us_))]\n",
    "X3=[x(alpha(us_[i,[0,2,4,6,8,10,12,14]]),3,l) for i in range(len(us_))]\n",
    "Y3=[y(alpha(us_[i,[0,2,4,6,8,10,12,14]]),3,l) for i in range(len(us_))]\n",
    "X4=[x(alpha(us_[i,[0,2,4,6,8,10,12,14]]),4,l) for i in range(len(us_))]\n",
    "Y4=[y(alpha(us_[i,[0,2,4,6,8,10,12,14]]),4,l) for i in range(len(us_))]\n",
    "X5=[x(alpha(us_[i,[0,2,4,6,8,10,12,14]]),5,l) for i in range(len(us_))]\n",
    "Y5=[y(alpha(us_[i,[0,2,4,6,8,10,12,14]]),5,l) for i in range(len(us_))]\n",
    "X6=[x(alpha(us_[i,[0,2,4,6,8,10,12,14]]),6,l) for i in range(len(us_))]\n",
    "Y6=[y(alpha(us_[i,[0,2,4,6,8,10,12,14]]),6,l) for i in range(len(us_))]\n",
    "X7=[x(alpha(us_[i,[0,2,4,6,8,10,12,14]]),7,l) for i in range(len(us_))]\n",
    "Y7=[y(alpha(us_[i,[0,2,4,6,8,10,12,14]]),7,l) for i in range(len(us_))]"
   ]
  },
  {
   "cell_type": "code",
   "execution_count": null,
   "metadata": {},
   "outputs": [],
   "source": [
    "X0_=[x(alpha(us_[i,[0,2,4,6,8,10,12,14]]),0,l) for i in range(1)]\n",
    "Y0_=[y(alpha(us_[i,[0,2,4,6,8,10,12,14]]),0,l) for i in range(1)]\n",
    "X1_=[x(alpha(us_[i,[0,2,4,6,8,10,12,14]]),1,l) for i in range(1)]\n",
    "Y1_=[y(alpha(us_[i,[0,2,4,6,8,10,12,14]]),1,l) for i in range(1)]\n",
    "X2_=[x(alpha(us_[i,[0,2,4,6,8,10,12,14]]),2,l) for i in range(1)]\n",
    "Y2_=[y(alpha(us_[i,[0,2,4,6,8,10,12,14]]),2,l) for i in range(1)]\n",
    "X3_=[x(alpha(us_[i,[0,2,4,6,8,10,12,14]]),3,l) for i in range(1)]\n",
    "Y3_=[y(alpha(us_[i,[0,2,4,6,8,10,12,14]]),3,l) for i in range(1)]\n",
    "X4_=[x(alpha(us_[i,[0,2,4,6,8,10,12,14]]),4,l) for i in range(1)]\n",
    "Y4_=[y(alpha(us_[i,[0,2,4,6,8,10,12,14]]),4,l) for i in range(1)]\n",
    "X5_=[x(alpha(us_[i,[0,2,4,6,8,10,12,14]]),5,l) for i in range(1)]\n",
    "Y5_=[y(alpha(us_[i,[0,2,4,6,8,10,12,14]]),5,l) for i in range(1)]\n",
    "X6_=[x(alpha(us_[i,[0,2,4,6,8,10,12,14]]),6,l) for i in range(1)]\n",
    "Y6_=[y(alpha(us_[i,[0,2,4,6,8,10,12,14]]),6,l) for i in range(1)]\n",
    "X7_=[x(alpha(us_[i,[0,2,4,6,8,10,12,14]]),7,l) for i in range(1)]\n",
    "Y7_=[y(alpha(us_[i,[0,2,4,6,8,10,12,14]]),7,l) for i in range(1)]"
   ]
  },
  {
   "cell_type": "code",
   "execution_count": null,
   "metadata": {},
   "outputs": [],
   "source": [
    "plt.figure(figsize=(14,4))\n",
    "plt.plot(X0_,Y0_, 'o', color='black')\n",
    "plt.plot(X1_,Y1_, 'o', color='black')\n",
    "plt.plot(X2_,Y2_, 'o', color='black')\n",
    "plt.plot(X3_,Y3_, 'o', color='black')\n",
    "plt.plot(X4_,Y4_, 'o', color='black')\n",
    "plt.plot(X5_,Y5_, 'o', color='black')\n",
    "plt.plot(X6_,Y6_, 'o', color='black')\n",
    "plt.plot(X7_,Y7_, 'o', color='black')\n",
    "\n",
    "\n",
    "# dynamic\n",
    "plt.plot(X0,Y0,'b')\n",
    "plt.plot(X1,Y1,'y')\n",
    "plt.plot(X2,Y2,'g')\n",
    "plt.plot(X3,Y3,'r')\n",
    "plt.plot(X4,Y4,'b')\n",
    "plt.plot(X5,Y5,'y')\n",
    "plt.plot(X6,Y6,'g')\n",
    "plt.plot(X7,Y7,'r')\n",
    "\n",
    "\n",
    "plt.plot(x(alpha(us_[-1,[0,2,4,6,8,10,12,14]]),0,l),y(alpha(us_[-1,[0,2,4,6,8,10,12,14]]),0,l), 'o', color='green')\n",
    "plt.plot(x(alpha(us_[-1,[0,2,4,6,8,10,12,14]]),1,l),y(alpha(us_[-1,[0,2,4,6,8,10,12,14]]),1,l), 'o', color='green')\n",
    "plt.plot(x(alpha(us_[-1,[0,2,4,6,8,10,12,14]]),2,l),y(alpha(us_[-1,[0,2,4,6,8,10,12,14]]),2,l), 'o', color='green')\n",
    "plt.plot(x(alpha(us_[-1,[0,2,4,6,8,10,12,14]]),3,l),y(alpha(us_[-1,[0,2,4,6,8,10,12,14]]),3,l), 'o', color='green')\n",
    "plt.plot(x(alpha(us_[-1,[0,2,4,6,8,10,12,14]]),4,l),y(alpha(us_[-1,[0,2,4,6,8,10,12,14]]),4,l), 'o', color='green')\n",
    "plt.plot(x(alpha(us_[-1,[0,2,4,6,8,10,12,14]]),5,l),y(alpha(us_[-1,[0,2,4,6,8,10,12,14]]),5,l), 'o', color='green')\n",
    "plt.plot(x(alpha(us_[-1,[0,2,4,6,8,10,12,14]]),6,l),y(alpha(us_[-1,[0,2,4,6,8,10,12,14]]),6,l), 'o', color='green')\n",
    "plt.plot(x(alpha(us_[-1,[0,2,4,6,8,10,12,14]]),7,l),y(alpha(us_[-1,[0,2,4,6,8,10,12,14]]),7,l), 'o', color='green')\n",
    "# plt.plot(x0, y0)\n",
    "plt.xlabel('X')\n",
    "plt.ylabel('Y')\n",
    "\n",
    "plt.show()"
   ]
  },
  {
   "cell_type": "code",
   "execution_count": null,
   "metadata": {},
   "outputs": [],
   "source": [
    "us_[0,0]"
   ]
  },
  {
   "cell_type": "code",
   "execution_count": null,
   "metadata": {},
   "outputs": [],
   "source": [
    "us_[0,2]"
   ]
  },
  {
   "cell_type": "code",
   "execution_count": null,
   "metadata": {},
   "outputs": [],
   "source": [
    "us_[0,4]"
   ]
  },
  {
   "cell_type": "code",
   "execution_count": null,
   "metadata": {},
   "outputs": [],
   "source": [
    "us_[0,6]"
   ]
  },
  {
   "cell_type": "code",
   "execution_count": null,
   "metadata": {},
   "outputs": [],
   "source": [
    "us_[0,8]"
   ]
  },
  {
   "cell_type": "code",
   "execution_count": null,
   "metadata": {},
   "outputs": [],
   "source": [
    "us_[0,10]"
   ]
  },
  {
   "cell_type": "code",
   "execution_count": null,
   "metadata": {},
   "outputs": [],
   "source": [
    "us_[0,12]"
   ]
  },
  {
   "cell_type": "code",
   "execution_count": null,
   "metadata": {},
   "outputs": [],
   "source": [
    "us_[0,14]"
   ]
  },
  {
   "cell_type": "code",
   "execution_count": null,
   "metadata": {},
   "outputs": [],
   "source": [
    "us_[0,0]+us_[0,2]+us_[0,4]+us_[0,6]+us_[0,8]+us_[0,10]+us_[0,12]+us_[0,14]"
   ]
  },
  {
   "cell_type": "markdown",
   "metadata": {},
   "source": [
    "### Pipe-tip tension"
   ]
  },
  {
   "cell_type": "code",
   "execution_count": null,
   "metadata": {},
   "outputs": [],
   "source": [
    "coordinates=us[:,[0,2,4,6,8,10,12,14]]\n",
    "velocities=us[:,[1,3,5,7,9,11,13,15]]"
   ]
  },
  {
   "cell_type": "code",
   "execution_count": null,
   "metadata": {},
   "outputs": [],
   "source": [
    "alp_=[]\n",
    "for i in range(len(us)):\n",
    "    alp_.append(alpha(coordinates[i]))\n",
    "alp_=np.matrix(alp_)    "
   ]
  },
  {
   "cell_type": "code",
   "execution_count": null,
   "metadata": {},
   "outputs": [],
   "source": [
    "velocities.shape"
   ]
  },
  {
   "cell_type": "code",
   "execution_count": null,
   "metadata": {},
   "outputs": [],
   "source": [
    "velocities_0=velocities[:-1]\n",
    "velocities_1=velocities[1:]"
   ]
  },
  {
   "cell_type": "code",
   "execution_count": null,
   "metadata": {},
   "outputs": [],
   "source": [
    "coordinates.shape, velocities.shape"
   ]
  },
  {
   "cell_type": "code",
   "execution_count": null,
   "metadata": {},
   "outputs": [],
   "source": [
    "startTime1 = datetime.now()\n",
    "\n",
    "add4=functools.partial(C, l=l, mn=mn, In=In, mi=mi)\n",
    "add4__C =np.array(list(map(add4, coordinates, velocities)))\n",
    "\n",
    "print(datetime.now() - startTime1)"
   ]
  },
  {
   "cell_type": "code",
   "execution_count": null,
   "metadata": {},
   "outputs": [],
   "source": [
    "startTime = datetime.now()\n",
    "\n",
    "add1=functools.partial(Jv, i=len(q)-1, l=l)\n",
    "add1__Jv = np.array(list(map(add1, coordinates)))\n",
    "\n",
    "add2=functools.partial(M, l=l, mn=mn, In=In, mi=mi)\n",
    "add2__M =np.array(list(map(add2, coordinates)))\n",
    "\n",
    "add3=functools.partial(H,  l=l)\n",
    "add3__H =np.array(list(map(add3, alp_.tolist(), coordinates, velocities)))\n",
    "\n",
    "add5=functools.partial(f, k=K)\n",
    "add5__f =np.array(list(map(add5, coordinates)))\n",
    "\n",
    "add6=functools.partial(g)\n",
    "add6__g =np.array(list(map(add6, coordinates, alp_.tolist())))\n",
    "\n",
    "print(datetime.now() - startTime)"
   ]
  },
  {
   "cell_type": "code",
   "execution_count": null,
   "metadata": {},
   "outputs": [],
   "source": [
    "velocities_1.shape"
   ]
  },
  {
   "cell_type": "code",
   "execution_count": null,
   "metadata": {},
   "outputs": [],
   "source": [
    "add5__f.shape"
   ]
  },
  {
   "cell_type": "code",
   "execution_count": null,
   "metadata": {},
   "outputs": [],
   "source": [
    "add6__g.shape"
   ]
  },
  {
   "cell_type": "code",
   "execution_count": null,
   "metadata": {},
   "outputs": [],
   "source": [
    "add3__H.shape"
   ]
  },
  {
   "cell_type": "code",
   "execution_count": null,
   "metadata": {},
   "outputs": [],
   "source": [
    "tmp__1=pinv(add1__Jv[:-1].transpose(0, 2, 1))\n",
    "#here\n",
    "tmp__2=np.matmul(add2__M[:-1], ((np.radians(velocities_1).reshape(dim2,4,1) - \n",
    "                              np.radians(velocities_0).reshape(dim2,4,1))/dt))\\\n",
    "            + np.matmul(add3__H[:-1], np.radians(velocities[:-1]).reshape(dim2,4,1)) \\\n",
    "            + np.matmul(add4__C[:-1], np.radians(velocities[:-1]).reshape(dim2,4,1)) \\\n",
    "            + add5__f[:-1] \\\n",
    "            + add6__g[:-1]"
   ]
  },
  {
   "cell_type": "code",
   "execution_count": null,
   "metadata": {},
   "outputs": [],
   "source": [
    "tmp__=np.matmul(tmp__1, tmp__2)"
   ]
  },
  {
   "cell_type": "code",
   "execution_count": null,
   "metadata": {},
   "outputs": [],
   "source": [
    "plt.plot(t[:len(tmp__)],tmp__[:,0],'-')\n",
    "plt.xlim([-1, dim1//2])\n",
    "plt.ylim([-2000000000, 2000000000])\n",
    "plt.xlabel('t')\n",
    "plt.ylabel('T_H')\n",
    "plt.show()"
   ]
  },
  {
   "cell_type": "code",
   "execution_count": null,
   "metadata": {},
   "outputs": [],
   "source": [
    "plt.plot(t[:len(tmp__)],tmp__[:,1],'-')\n",
    "plt.xlim([-1, dim1//2])\n",
    "plt.ylim([-1000000000, 1000000000])\n",
    "plt.xlabel('t')\n",
    "plt.ylabel('T_V')\n",
    "plt.show()"
   ]
  },
  {
   "cell_type": "code",
   "execution_count": null,
   "metadata": {},
   "outputs": [],
   "source": [
    "max(tmp__[:,0]), max(tmp__[:,1])"
   ]
  },
  {
   "cell_type": "code",
   "execution_count": null,
   "metadata": {},
   "outputs": [],
   "source": [
    "min(tmp__[:,0]), min(tmp__[:,1])"
   ]
  },
  {
   "cell_type": "code",
   "execution_count": null,
   "metadata": {},
   "outputs": [],
   "source": [
    "# (array([28319143.73486871]), array([25605994.71854329])) just waves\n",
    "# (array([28491881.95694733]), array([25520818.9120822]))  positive Fx\n",
    "# (array([28146301.99196166]), array([25687403.50463529])) negative Fx\n",
    "# (array([30076743.25808775]), array([25019302.28641659])) large positive Fx\n",
    "# (array([26618614.2824719]),  array([26179692.06953637])) large negative Fx\n",
    "# (array([3953150.66297572]),  array([1508270.46574422]))  fip=1e10\n",
    "# (array([6746771.13788591]),  array([10057989.37909701])) max_t = 300\n",
    "# (array([2084853.78862965]),  array([766900.49862976])) fip=1e9\n",
    "# (array([1518705.92013393]),  array([361011.0471009])) fip=5e8\n",
    "# (array([2212275.89406135]),  array([634267.05259892])) fip=4e8"
   ]
  },
  {
   "cell_type": "code",
   "execution_count": null,
   "metadata": {},
   "outputs": [],
   "source": [
    "# ρa = 1.200 * 10**3 # g/m3\n",
    "# ρs=7.850 * 10**6\n",
    "# di = 0.6900 # m\n",
    "# do = 0.7610 "
   ]
  },
  {
   "cell_type": "code",
   "execution_count": null,
   "metadata": {},
   "outputs": [],
   "source": [
    "# Q=(ρa-ρs)*(di/do)**2+ρs  # g/m3"
   ]
  },
  {
   "cell_type": "code",
   "execution_count": null,
   "metadata": {},
   "outputs": [],
   "source": [
    "# length=1000"
   ]
  },
  {
   "cell_type": "code",
   "execution_count": null,
   "metadata": {},
   "outputs": [],
   "source": [
    "# V=math.pi * (do/2)**2 * length - math.pi * (di/2)**2 * length #m3"
   ]
  },
  {
   "cell_type": "code",
   "execution_count": null,
   "metadata": {},
   "outputs": [],
   "source": [
    "#m3"
   ]
  },
  {
   "cell_type": "code",
   "execution_count": null,
   "metadata": {},
   "outputs": [],
   "source": [
    "# Q*V/length/1000"
   ]
  },
  {
   "cell_type": "code",
   "execution_count": null,
   "metadata": {},
   "outputs": [],
   "source": []
  }
 ],
 "metadata": {
  "kernelspec": {
   "display_name": "Python 3 (ipykernel)",
   "language": "python",
   "name": "python3"
  },
  "language_info": {
   "codemirror_mode": {
    "name": "ipython",
    "version": 3
   },
   "file_extension": ".py",
   "mimetype": "text/x-python",
   "name": "python",
   "nbconvert_exporter": "python",
   "pygments_lexer": "ipython3",
   "version": "3.9.6"
  }
 },
 "nbformat": 4,
 "nbformat_minor": 4
}
